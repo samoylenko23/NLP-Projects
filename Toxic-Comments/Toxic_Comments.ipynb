{
 "cells": [
  {
   "cell_type": "markdown",
   "metadata": {},
   "source": [
    "# Проект для «Викишоп» с BERT"
   ]
  },
  {
   "cell_type": "markdown",
   "metadata": {},
   "source": [
    "Интернет-магазин «Викишоп» запускает новый сервис. Теперь пользователи могут редактировать и дополнять описания товаров, как в вики-сообществах. То есть клиенты предлагают свои правки и комментируют изменения других. Магазину нужен инструмент, который будет искать токсичные комментарии и отправлять их на модерацию. \n"
   ]
  },
  {
   "cell_type": "markdown",
   "metadata": {},
   "source": [
    "# Цель проекта"
   ]
  },
  {
   "cell_type": "markdown",
   "metadata": {},
   "source": [
    "Построить и обучить модель **классифицировать комментарии** на позитивные и негативные со значением метрики качества ***F1* не меньше 0.75.**\n",
    "\n",
    "**Учесть дисбаланс классов.**\n"
   ]
  },
  {
   "cell_type": "markdown",
   "metadata": {},
   "source": [
    "# Подготовка "
   ]
  },
  {
   "cell_type": "markdown",
   "metadata": {},
   "source": [
    "## Этапы предобработки текста\n",
    "1. lower_case\n",
    "2. Токенизация\n",
    "3. POS-тегирование\n",
    "4. Удаление стоп-слов\n",
    "5. Лемматизция с учетом POS-тегирования\n",
    "6. Удаление одиночных букв, цифр, пунктуации с помощью re"
   ]
  },
  {
   "cell_type": "markdown",
   "metadata": {},
   "source": [
    "## Загрузка библиотек и данных"
   ]
  },
  {
   "cell_type": "markdown",
   "metadata": {},
   "source": [
    "<div class=\"alert alert-info\">\n",
    "    <br /> \n",
    "    <font size=\"3\", color = \"black\">\n",
    "<br />  \n",
    "        \n",
    "        Загружаю библиотеки и языковые пакеты. Отдельно указываю глобальные переменные, чтобы было удобно менять размерности датасетов."
   ]
  },
  {
   "cell_type": "code",
   "execution_count": 1,
   "metadata": {},
   "outputs": [],
   "source": [
    "import pandas as pd\n",
    "import numpy as np\n",
    "import re\n",
    "import matplotlib.pyplot as plt\n",
    "import seaborn as sns\n",
    "import nltk\n",
    "import spacy\n",
    "\n",
    "import transformers\n",
    "\n",
    "from nltk.corpus import stopwords\n",
    "from nltk import tokenize\n",
    "from nltk.stem import WordNetLemmatizer\n",
    "from nltk.corpus import wordnet\n",
    "from nltk.sentiment.vader import SentimentIntensityAnalyzer\n",
    "\n",
    "from catboost import CatBoostClassifier, Pool, cv\n",
    "\n",
    "from tqdm.notebook import tqdm\n",
    "from tqdm import notebook\n",
    "\n",
    "from sklearn.feature_extraction.text import TfidfVectorizer\n",
    "from sklearn.metrics import f1_score\n",
    "from sklearn.model_selection import train_test_split, StratifiedKFold, RandomizedSearchCV\n",
    "from sklearn.linear_model import LogisticRegression\n",
    "from sklearn.ensemble import RandomForestClassifier\n",
    "from sklearn.pipeline import Pipeline\n",
    "from sklearn.base import TransformerMixin, BaseEstimator\n",
    "from sklearn.compose import ColumnTransformer\n",
    "from sklearn.preprocessing import MinMaxScaler, StandardScaler, OrdinalEncoder\n",
    "\n",
    "from wordcloud import WordCloud\n",
    "\n",
    "from optuna.integration import OptunaSearchCV\n",
    "from optuna.distributions import CategoricalDistribution, FloatDistribution, IntDistribution \n",
    "\n",
    "import torch\n",
    "\n",
    "# ГЛОБАЛЬНЫЕ ПЕРЕМЕННЫЕ ДЛЯ КОНТРОЛЯ РАЗМЕРА ВЫБОРОК\n",
    "RANDOM_STATE = 42\n",
    "SIZE_DATA_FOR_BERT = 600 # размер выборки для BERT\n",
    "SIZE_DATA = 20000 # размер выборки для других моделей"
   ]
  },
  {
   "cell_type": "code",
   "execution_count": 2,
   "metadata": {},
   "outputs": [
    {
     "name": "stderr",
     "output_type": "stream",
     "text": [
      "[nltk_data] Downloading package stopwords to\n",
      "[nltk_data]     C:\\Users\\alex\\AppData\\Roaming\\nltk_data...\n",
      "[nltk_data]   Package stopwords is already up-to-date!\n",
      "[nltk_data] Downloading package averaged_perceptron_tagger to\n",
      "[nltk_data]     C:\\Users\\alex\\AppData\\Roaming\\nltk_data...\n",
      "[nltk_data]   Package averaged_perceptron_tagger is already up-to-\n",
      "[nltk_data]       date!\n",
      "[nltk_data] Downloading package omw-1.4 to\n",
      "[nltk_data]     C:\\Users\\alex\\AppData\\Roaming\\nltk_data...\n",
      "[nltk_data]   Package omw-1.4 is already up-to-date!\n",
      "[nltk_data] Downloading package wordnet to\n",
      "[nltk_data]     C:\\Users\\alex\\AppData\\Roaming\\nltk_data...\n",
      "[nltk_data]   Package wordnet is already up-to-date!\n",
      "[nltk_data] Downloading package vader_lexicon to\n",
      "[nltk_data]     C:\\Users\\alex\\AppData\\Roaming\\nltk_data...\n",
      "[nltk_data]   Package vader_lexicon is already up-to-date!\n",
      "[nltk_data] Downloading package punkt to\n",
      "[nltk_data]     C:\\Users\\alex\\AppData\\Roaming\\nltk_data...\n",
      "[nltk_data]   Package punkt is already up-to-date!\n"
     ]
    },
    {
     "data": {
      "text/plain": [
       "True"
      ]
     },
     "execution_count": 2,
     "metadata": {},
     "output_type": "execute_result"
    }
   ],
   "source": [
    "nltk.download('stopwords')\n",
    "nltk.download('averaged_perceptron_tagger')\n",
    "nltk.download('omw-1.4')\n",
    "nltk.download('wordnet')\n",
    "nltk.download('vader_lexicon')\n",
    "nltk.download('punkt')"
   ]
  },
  {
   "cell_type": "markdown",
   "metadata": {},
   "source": [
    "### Загружаем датасет"
   ]
  },
  {
   "cell_type": "code",
   "execution_count": 3,
   "metadata": {},
   "outputs": [],
   "source": [
    "try:\n",
    "    df = pd.read_csv('toxic_comments.csv')\n",
    "    \n",
    "except:\n",
    "    pass"
   ]
  },
  {
   "cell_type": "markdown",
   "metadata": {},
   "source": [
    "**Удалим лишний столбец**"
   ]
  },
  {
   "cell_type": "code",
   "execution_count": 4,
   "metadata": {},
   "outputs": [],
   "source": [
    "df = df.drop('Unnamed: 0', axis=1)"
   ]
  },
  {
   "cell_type": "code",
   "execution_count": 5,
   "metadata": {},
   "outputs": [
    {
     "data": {
      "text/html": [
       "<div>\n",
       "<style scoped>\n",
       "    .dataframe tbody tr th:only-of-type {\n",
       "        vertical-align: middle;\n",
       "    }\n",
       "\n",
       "    .dataframe tbody tr th {\n",
       "        vertical-align: top;\n",
       "    }\n",
       "\n",
       "    .dataframe thead th {\n",
       "        text-align: right;\n",
       "    }\n",
       "</style>\n",
       "<table border=\"1\" class=\"dataframe\">\n",
       "  <thead>\n",
       "    <tr style=\"text-align: right;\">\n",
       "      <th></th>\n",
       "      <th>text</th>\n",
       "      <th>toxic</th>\n",
       "    </tr>\n",
       "  </thead>\n",
       "  <tbody>\n",
       "    <tr>\n",
       "      <th>0</th>\n",
       "      <td>Explanation\\nWhy the edits made under my usern...</td>\n",
       "      <td>0</td>\n",
       "    </tr>\n",
       "    <tr>\n",
       "      <th>1</th>\n",
       "      <td>D'aww! He matches this background colour I'm s...</td>\n",
       "      <td>0</td>\n",
       "    </tr>\n",
       "    <tr>\n",
       "      <th>2</th>\n",
       "      <td>Hey man, I'm really not trying to edit war. It...</td>\n",
       "      <td>0</td>\n",
       "    </tr>\n",
       "    <tr>\n",
       "      <th>3</th>\n",
       "      <td>\"\\nMore\\nI can't make any real suggestions on ...</td>\n",
       "      <td>0</td>\n",
       "    </tr>\n",
       "    <tr>\n",
       "      <th>4</th>\n",
       "      <td>You, sir, are my hero. Any chance you remember...</td>\n",
       "      <td>0</td>\n",
       "    </tr>\n",
       "  </tbody>\n",
       "</table>\n",
       "</div>"
      ],
      "text/plain": [
       "                                                text  toxic\n",
       "0  Explanation\\nWhy the edits made under my usern...      0\n",
       "1  D'aww! He matches this background colour I'm s...      0\n",
       "2  Hey man, I'm really not trying to edit war. It...      0\n",
       "3  \"\\nMore\\nI can't make any real suggestions on ...      0\n",
       "4  You, sir, are my hero. Any chance you remember...      0"
      ]
     },
     "execution_count": 5,
     "metadata": {},
     "output_type": "execute_result"
    }
   ],
   "source": [
    "df.head()"
   ]
  },
  {
   "cell_type": "markdown",
   "metadata": {},
   "source": [
    "Проверим на пропуски"
   ]
  },
  {
   "cell_type": "code",
   "execution_count": 6,
   "metadata": {},
   "outputs": [
    {
     "data": {
      "text/plain": [
       "text     0.0\n",
       "toxic    0.0\n",
       "dtype: float64"
      ]
     },
     "execution_count": 6,
     "metadata": {},
     "output_type": "execute_result"
    }
   ],
   "source": [
    "df.isna().mean()"
   ]
  },
  {
   "cell_type": "markdown",
   "metadata": {},
   "source": [
    "<font color='blue'><b>Комментарий ревьюера: </b></font> ✔️\\\n",
    "<font color='green'>Данные загружены корректно, первичный осмотр проведен.</font>"
   ]
  },
  {
   "cell_type": "markdown",
   "metadata": {},
   "source": [
    "# Извлекаем подвыборку "
   ]
  },
  {
   "cell_type": "markdown",
   "metadata": {},
   "source": [
    "<div class=\"alert alert-info\">\n",
    "    <br /> \n",
    "    <font size=\"3\", color = \"black\">\n",
    "<br />  \n",
    "        \n",
    "        \n",
    "Поскольку предобработка и обучение всего корпуса текста занимает очень много времени и вычисляительных мощностей, мы возьмем подвыборку из нашего датасета она называется SIZE_DATA и ее можно будет удобно менять.\n",
    "\n",
    "Будет использоваться strarify для сохранения балансировки классов.\n",
    "\n"
   ]
  },
  {
   "cell_type": "code",
   "execution_count": 7,
   "metadata": {},
   "outputs": [],
   "source": [
    "data = df.head(SIZE_DATA)"
   ]
  },
  {
   "cell_type": "code",
   "execution_count": 8,
   "metadata": {},
   "outputs": [
    {
     "data": {
      "text/html": [
       "<div>\n",
       "<style scoped>\n",
       "    .dataframe tbody tr th:only-of-type {\n",
       "        vertical-align: middle;\n",
       "    }\n",
       "\n",
       "    .dataframe tbody tr th {\n",
       "        vertical-align: top;\n",
       "    }\n",
       "\n",
       "    .dataframe thead th {\n",
       "        text-align: right;\n",
       "    }\n",
       "</style>\n",
       "<table border=\"1\" class=\"dataframe\">\n",
       "  <thead>\n",
       "    <tr style=\"text-align: right;\">\n",
       "      <th></th>\n",
       "      <th>text</th>\n",
       "      <th>toxic</th>\n",
       "    </tr>\n",
       "  </thead>\n",
       "  <tbody>\n",
       "    <tr>\n",
       "      <th>18469</th>\n",
       "      <td>\": I found three other sources that use the te...</td>\n",
       "      <td>0</td>\n",
       "    </tr>\n",
       "    <tr>\n",
       "      <th>16950</th>\n",
       "      <td>Hi Khazar,\\n\\nThank you very much! It is good ...</td>\n",
       "      <td>0</td>\n",
       "    </tr>\n",
       "  </tbody>\n",
       "</table>\n",
       "</div>"
      ],
      "text/plain": [
       "                                                    text  toxic\n",
       "18469  \": I found three other sources that use the te...      0\n",
       "16950  Hi Khazar,\\n\\nThank you very much! It is good ...      0"
      ]
     },
     "execution_count": 8,
     "metadata": {},
     "output_type": "execute_result"
    }
   ],
   "source": [
    "data.sample(2)"
   ]
  },
  {
   "cell_type": "markdown",
   "metadata": {},
   "source": [
    "### Загрузка пакетов для предобработки (nltk, spacy)"
   ]
  },
  {
   "cell_type": "markdown",
   "metadata": {},
   "source": [
    "<div class=\"alert alert-info\">\n",
    "    <br /> \n",
    "    <font size=\"3\", color = \"black\">\n",
    "<br />  \n",
    "        \n",
    "        В данном разделе я сравнил количество стоп-слов в словарях spacy и stopwords и объединил их в один большой."
   ]
  },
  {
   "cell_type": "markdown",
   "metadata": {},
   "source": [
    "Загружаем пакеты для работы с английским языком"
   ]
  },
  {
   "cell_type": "code",
   "execution_count": 9,
   "metadata": {},
   "outputs": [
    {
     "name": "stderr",
     "output_type": "stream",
     "text": [
      "[nltk_data] Downloading package wordnet to\n",
      "[nltk_data]     C:\\Users\\alex\\AppData\\Roaming\\nltk_data...\n",
      "[nltk_data]   Package wordnet is already up-to-date!\n"
     ]
    },
    {
     "data": {
      "text/plain": [
       "<spacy.lang.en.English at 0x214a885f0a0>"
      ]
     },
     "execution_count": 9,
     "metadata": {},
     "output_type": "execute_result"
    }
   ],
   "source": [
    "nltk.download('wordnet')\n",
    "spacy.load('en_core_web_sm')\n"
   ]
  },
  {
   "cell_type": "markdown",
   "metadata": {},
   "source": [
    "Загружаем стоп-слова из англисйкого языка"
   ]
  },
  {
   "cell_type": "code",
   "execution_count": 10,
   "metadata": {},
   "outputs": [
    {
     "name": "stderr",
     "output_type": "stream",
     "text": [
      "[nltk_data] Downloading package stopwords to\n",
      "[nltk_data]     C:\\Users\\alex\\AppData\\Roaming\\nltk_data...\n",
      "[nltk_data]   Package stopwords is already up-to-date!\n"
     ]
    },
    {
     "data": {
      "text/plain": [
       "True"
      ]
     },
     "execution_count": 10,
     "metadata": {},
     "output_type": "execute_result"
    }
   ],
   "source": [
    "nltk.download('stopwords')\n"
   ]
  },
  {
   "cell_type": "code",
   "execution_count": 11,
   "metadata": {},
   "outputs": [],
   "source": [
    "stop_words_nltk = set(stopwords.words('english'))"
   ]
  },
  {
   "cell_type": "code",
   "execution_count": 12,
   "metadata": {},
   "outputs": [],
   "source": [
    "stop_words_spacy = spacy.load('en_core_web_sm').Defaults.stop_words"
   ]
  },
  {
   "cell_type": "markdown",
   "metadata": {},
   "source": [
    "Посмотрим разницу стоп-слов в двух пакетах"
   ]
  },
  {
   "cell_type": "code",
   "execution_count": 13,
   "metadata": {},
   "outputs": [
    {
     "data": {
      "text/plain": [
       "203"
      ]
     },
     "execution_count": 13,
     "metadata": {},
     "output_type": "execute_result"
    }
   ],
   "source": [
    "len(stop_words_spacy.difference(stop_words_nltk))"
   ]
  },
  {
   "cell_type": "markdown",
   "metadata": {},
   "source": [
    "Как видим, в spacy намного больше стоп-слов!"
   ]
  },
  {
   "cell_type": "markdown",
   "metadata": {},
   "source": [
    "Объединим их в 1 большое множество и посмотрим размерность:"
   ]
  },
  {
   "cell_type": "code",
   "execution_count": 14,
   "metadata": {},
   "outputs": [
    {
     "data": {
      "text/plain": [
       "382"
      ]
     },
     "execution_count": 14,
     "metadata": {},
     "output_type": "execute_result"
    }
   ],
   "source": [
    "big_set_stop_words = stop_words_nltk.union(stop_words_spacy)\n",
    "len(big_set_stop_words)"
   ]
  },
  {
   "cell_type": "markdown",
   "metadata": {},
   "source": [
    "**Теперь у нас есть расширенный набор стоп-слов из nltk и spacy.** Далее будем использовать его."
   ]
  },
  {
   "cell_type": "markdown",
   "metadata": {},
   "source": [
    "# FeatureEngeneering + (анализ тональности VADER)"
   ]
  },
  {
   "cell_type": "markdown",
   "metadata": {},
   "source": [
    "<div class=\"alert alert-info\">\n",
    "    <br /> \n",
    "    <font size=\"3\", color = \"black\">\n",
    "<br />  \n",
    "        \n",
    "        Применил на выборке Feature Engenering, это позволило расширить признаковое пространство"
   ]
  },
  {
   "cell_type": "markdown",
   "metadata": {},
   "source": [
    "Помимо Embedding добавим дополнительные фичи, используя VADER (Valence Aware Dictionary for Sentiment Reasoning)"
   ]
  },
  {
   "cell_type": "markdown",
   "metadata": {},
   "source": [
    "VADER принимает строку и возвращает словарь оценок в каждой из 4-х категорий:\n",
    "\n",
    "* negative\n",
    "* neutral\n",
    "* positive\n",
    "* compound "
   ]
  },
  {
   "cell_type": "markdown",
   "metadata": {},
   "source": [
    "Столбец compound представляет собой соединение всех оценок. Он нормализован. Будем считать, что все значения больше 0 будут нести положительный окрас, а все значения меньше 0 - отрицательный окрас. "
   ]
  },
  {
   "cell_type": "code",
   "execution_count": 15,
   "metadata": {},
   "outputs": [],
   "source": [
    "SA = nltk.sentiment.vader.SentimentIntensityAnalyzer()"
   ]
  },
  {
   "cell_type": "code",
   "execution_count": 16,
   "metadata": {},
   "outputs": [],
   "source": [
    "class FeatureEngeneering():\n",
    "    \n",
    "    def __init__(self, data, name_column):\n",
    "#        название таблицы\n",
    "#        название столбца для feature_engeneering\n",
    "        self.data = data\n",
    "        self.name_column = name_column\n",
    "        \n",
    "    def __get_sentiment_score__(self, text):\n",
    "#     возвращает словаь\n",
    "        global SA\n",
    "        return SA.polarity_scores(text)\n",
    "    \n",
    "    \n",
    "    def __get_sentiment_new_cols__(self):\n",
    "        name_column = self.name_column\n",
    "        data = self.data\n",
    "        score = list(data[name_column].apply(self.__get_sentiment_score__).values)\n",
    "        frame = pd.DataFrame(score, index=data[name_column].index)\n",
    "        return frame\n",
    "    \n",
    "    \n",
    "    def __compouned_binary__(self):\n",
    "        frame = self.__get_sentiment_new_cols__()\n",
    "        frame['compound_binary'] = frame['compound'].progress_apply(lambda x: 1 if x >= 0 else 0 )\n",
    "        return frame\n",
    "\n",
    "    \n",
    "    def __count_stop_words__(self):\n",
    "        frame = self.__compouned_binary__()\n",
    "        frame['count_stop_words'] = self.data[self.name_column].progress_apply(\n",
    "        lambda x: len([t for t in x.split() if t in big_set_stop_words]))\n",
    "        return frame\n",
    "\n",
    "    \n",
    "    def __count_word_upper_case__(self):\n",
    "        frame = self.__count_stop_words__()\n",
    "        frame['count_word_upper'] = self.data[self.name_column].progress_apply(\n",
    "        lambda x: sum([t.istitle() for t in x.split()]))\n",
    "        return frame\n",
    "    \n",
    "    def otput_data_with_feature_engeneering(self):\n",
    "        return self.data.merge(\n",
    "        self.__count_word_upper_case__(), left_index=True, right_index=True\n",
    "        )"
   ]
  },
  {
   "cell_type": "markdown",
   "metadata": {},
   "source": [
    "**Создаем новые фичи**"
   ]
  },
  {
   "cell_type": "code",
   "execution_count": 17,
   "metadata": {},
   "outputs": [
    {
     "data": {
      "application/vnd.jupyter.widget-view+json": {
       "model_id": "f925b45bd178437f89190e2b00ab8bc6",
       "version_major": 2,
       "version_minor": 0
      },
      "text/plain": [
       "  0%|          | 0/20000 [00:00<?, ?it/s]"
      ]
     },
     "metadata": {},
     "output_type": "display_data"
    },
    {
     "data": {
      "application/vnd.jupyter.widget-view+json": {
       "model_id": "52c36bef807a446289f9d7ecc5a3abf4",
       "version_major": 2,
       "version_minor": 0
      },
      "text/plain": [
       "  0%|          | 0/20000 [00:00<?, ?it/s]"
      ]
     },
     "metadata": {},
     "output_type": "display_data"
    },
    {
     "data": {
      "application/vnd.jupyter.widget-view+json": {
       "model_id": "671bfa80068645629d3d578aa1522271",
       "version_major": 2,
       "version_minor": 0
      },
      "text/plain": [
       "  0%|          | 0/20000 [00:00<?, ?it/s]"
      ]
     },
     "metadata": {},
     "output_type": "display_data"
    },
    {
     "name": "stdout",
     "output_type": "stream",
     "text": [
      "CPU times: total: 13.8 s\n",
      "Wall time: 13.9 s\n"
     ]
    }
   ],
   "source": [
    "%%time\n",
    "tqdm.pandas()\n",
    "new_features = FeatureEngeneering(data, 'text')\n",
    "data = new_features.otput_data_with_feature_engeneering()\n"
   ]
  },
  {
   "cell_type": "markdown",
   "metadata": {},
   "source": [
    "# WorldCloud до предобработки"
   ]
  },
  {
   "cell_type": "markdown",
   "metadata": {},
   "source": [
    "Рассмотрим облако слов для токсичных комментариев"
   ]
  },
  {
   "cell_type": "code",
   "execution_count": 18,
   "metadata": {},
   "outputs": [],
   "source": [
    "text = ' '.join(data[data['toxic'] == 1]['text'])"
   ]
  },
  {
   "cell_type": "markdown",
   "metadata": {},
   "source": [
    "Учтем стоп-слова"
   ]
  },
  {
   "cell_type": "code",
   "execution_count": 19,
   "metadata": {},
   "outputs": [],
   "source": [
    "cloud = WordCloud(stopwords=big_set_stop_words).generate(text)"
   ]
  },
  {
   "cell_type": "code",
   "execution_count": 20,
   "metadata": {
    "scrolled": true
   },
   "outputs": [
    {
     "data": {
      "image/png": "[encoded data removed]",
      "text/plain": [
       "<Figure size 640x480 with 1 Axes>"
      ]
     },
     "metadata": {},
     "output_type": "display_data"
    }
   ],
   "source": [
    "plt.imshow(cloud)\n",
    "plt.axis('off');"
   ]
  },
  {
   "cell_type": "markdown",
   "metadata": {},
   "source": [
    "Получилось интерсное облако слов)"
   ]
  },
  {
   "cell_type": "markdown",
   "metadata": {},
   "source": [
    "Теперь построим облако слов для других комменариев"
   ]
  },
  {
   "cell_type": "code",
   "execution_count": 21,
   "metadata": {},
   "outputs": [],
   "source": [
    "text = ' '.join(data[data['toxic'] == 0]['text'])"
   ]
  },
  {
   "cell_type": "markdown",
   "metadata": {},
   "source": [
    "Учтем стоп-слова"
   ]
  },
  {
   "cell_type": "code",
   "execution_count": 22,
   "metadata": {},
   "outputs": [],
   "source": [
    "cloud = WordCloud(stopwords=big_set_stop_words).generate(text)"
   ]
  },
  {
   "cell_type": "code",
   "execution_count": 23,
   "metadata": {},
   "outputs": [
    {
     "data": {
      "image/png": "[encoded data removed]",
      "text/plain": [
       "<Figure size 640x480 with 1 Axes>"
      ]
     },
     "metadata": {},
     "output_type": "display_data"
    }
   ],
   "source": [
    "plt.imshow(cloud)\n",
    "plt.axis('off');"
   ]
  },
  {
   "cell_type": "markdown",
   "metadata": {},
   "source": [
    "# Предобработка данных"
   ]
  },
  {
   "cell_type": "markdown",
   "metadata": {},
   "source": [
    "### Предобработка и лемматизация через SpaCy"
   ]
  },
  {
   "cell_type": "code",
   "execution_count": 24,
   "metadata": {},
   "outputs": [],
   "source": [
    "nlp = spacy.load('en_core_web_sm')\n",
    "\n",
    "def preprocessing_nlp_spacy(text): \n",
    "    doc = nlp(text, disable=[\"parser\", \"ner\"])\n",
    "    tokens = [token.text.lower() for token in doc]\n",
    "    token_stop = [word for word in tokens if word not in big_set_stop_words]\n",
    "    clean_re = ' '.join(re.sub(r'[^A-Za-z]', ' ', ' '.join(token_stop)).split())\n",
    "    clean_single_character = ' '.join(re.sub(r'\\s+[A-Za-z]\\s+', ' ', clean_re).split())  \n",
    "    doc = nlp(clean_single_character, disable=[\"tok2vec\", \"attribute_ruler\", \"parser\", \"ner\"])\n",
    "    lemma = ' '.join([lem.lemma_ for lem in doc])\n",
    "    return lemma\n",
    "    \n",
    "    \n",
    "    "
   ]
  },
  {
   "cell_type": "code",
   "execution_count": 25,
   "metadata": {
    "scrolled": true
   },
   "outputs": [
    {
     "data": {
      "application/vnd.jupyter.widget-view+json": {
       "model_id": "5d9b4738359c46c7975c44bc4aa93367",
       "version_major": 2,
       "version_minor": 0
      },
      "text/plain": [
       "  0%|          | 0/20000 [00:00<?, ?it/s]"
      ]
     },
     "metadata": {},
     "output_type": "display_data"
    },
    {
     "name": "stderr",
     "output_type": "stream",
     "text": [
      "C:\\ProgramData\\anaconda3\\lib\\site-packages\\spacy\\pipeline\\lemmatizer.py:211: UserWarning: [W108] The rule-based lemmatizer did not find POS annotation for one or more tokens. Check that your pipeline includes components that assign token.pos, typically 'tagger'+'attribute_ruler' or 'morphologizer'.\n",
      "  warnings.warn(Warnings.W108)\n"
     ]
    }
   ],
   "source": [
    "data['lemm_text_spacy'] = data['text'].progress_apply(preprocessing_nlp_spacy)\n"
   ]
  },
  {
   "cell_type": "markdown",
   "metadata": {},
   "source": [
    "## Новая предобработка, включая POS-тегирование"
   ]
  },
  {
   "cell_type": "markdown",
   "metadata": {},
   "source": [
    "1. lower_case\n",
    "2. Токенизация\n",
    "3. POS-тегирование\n",
    "4. Удаление стоп-слов\n",
    "5. Лемматизция с учетом POS-тегирования\n",
    "6. Удаление одиночных букв, цифр, пунктуации с помощью re"
   ]
  },
  {
   "cell_type": "code",
   "execution_count": 26,
   "metadata": {},
   "outputs": [],
   "source": [
    "tag_dict = {\"J\": wordnet.ADJ,\n",
    "            \"N\": wordnet.NOUN,\n",
    "            \"V\": wordnet.VERB,\n",
    "            \"R\": wordnet.ADV}\n",
    "\n",
    "lemmatizator = WordNetLemmatizer()\n",
    "\n",
    "\n",
    "def get_wordnet_pos(word):\n",
    "#     '''POS-теггинг. Возвращает значение части речи'''\n",
    "    POS = nltk.pos_tag([word])[0][1][0].upper()\n",
    "    return tag_dict.get(POS, wordnet.NOUN)\n",
    "\n",
    "\n",
    "def preprocessing_nltk_with_POS(text):\n",
    "    \n",
    "#     1. Приведение к lowercase\n",
    "#     2. Токенизация\n",
    "#     3. POS-теггинг\n",
    "#     4. Чистка по стоп-словам\n",
    "#     5. Лемматизация с учетом POS-теггинга\n",
    "#     6. re очистка одиночных символов, цифр, и подобное\n",
    " \n",
    "    text = ' '.join([lemmatizator.lemmatize(word, get_wordnet_pos(word))\\\n",
    "                     for word in tokenize.word_tokenize(text.lower())\\\n",
    "                     if word not in big_set_stop_words])\n",
    "\n",
    "    clean_re = ' '.join(re.sub(r'[^A-Za-z]', ' ', text).split())\n",
    "    clean_single_character = ' '.join(re.sub(r'\\s+[A-Za-z]\\s+', ' ', clean_re).split())\n",
    "    return clean_single_character\n",
    "\n",
    "    \n",
    "    "
   ]
  },
  {
   "cell_type": "code",
   "execution_count": 27,
   "metadata": {},
   "outputs": [
    {
     "name": "stderr",
     "output_type": "stream",
     "text": [
      "[nltk_data] Downloading package punkt to\n",
      "[nltk_data]     C:\\Users\\alex\\AppData\\Roaming\\nltk_data...\n",
      "[nltk_data]   Package punkt is already up-to-date!\n"
     ]
    },
    {
     "data": {
      "text/plain": [
       "True"
      ]
     },
     "execution_count": 27,
     "metadata": {},
     "output_type": "execute_result"
    }
   ],
   "source": [
    "nltk.download('punkt')"
   ]
  },
  {
   "cell_type": "code",
   "execution_count": 28,
   "metadata": {
    "scrolled": true
   },
   "outputs": [
    {
     "data": {
      "application/vnd.jupyter.widget-view+json": {
       "model_id": "84307f0909054db8a0721d20e83e9e31",
       "version_major": 2,
       "version_minor": 0
      },
      "text/plain": [
       "  0%|          | 0/20000 [00:00<?, ?it/s]"
      ]
     },
     "metadata": {},
     "output_type": "display_data"
    }
   ],
   "source": [
    "tqdm.pandas()\n",
    "data['preprocessing_text_nltk_with_POS'] = data['text'].progress_apply(preprocessing_nltk_with_POS)"
   ]
  },
  {
   "cell_type": "code",
   "execution_count": 29,
   "metadata": {
    "scrolled": false
   },
   "outputs": [
    {
     "data": {
      "text/plain": [
       "array(['explanation edits username hardcore metallica fan revert vandalism closure gas vote new york doll fac remove template talk page retire now',\n",
       "       'd aww match background colour seemingly stuck thanks talk january utc',\n",
       "       'hey man try edit war guy constantly remove relevant information talk edits instead talk page care format actual info',\n",
       "       'real suggestion improvement wonder section statistic later subsection type accident think reference need tidy exact format ie date format etc later no one preference format style reference want let know appear backlog article review guess delay reviewer turn list relevant form eg wikipedia good article nominations transport',\n",
       "       'sir hero chance remember page'], dtype=object)"
      ]
     },
     "execution_count": 29,
     "metadata": {},
     "output_type": "execute_result"
    }
   ],
   "source": [
    "data['preprocessing_text_nltk_with_POS'].head().values"
   ]
  },
  {
   "cell_type": "markdown",
   "metadata": {},
   "source": [
    "# WordCloud после предобработки"
   ]
  },
  {
   "cell_type": "code",
   "execution_count": 30,
   "metadata": {},
   "outputs": [],
   "source": [
    "text = ' '.join(data[data['toxic'] == 1]['preprocessing_text_nltk_with_POS'])"
   ]
  },
  {
   "cell_type": "markdown",
   "metadata": {},
   "source": [
    "Учтем стоп-слова"
   ]
  },
  {
   "cell_type": "code",
   "execution_count": 31,
   "metadata": {},
   "outputs": [],
   "source": [
    "cloud = WordCloud(stopwords=big_set_stop_words).generate(text)"
   ]
  },
  {
   "cell_type": "code",
   "execution_count": 32,
   "metadata": {},
   "outputs": [
    {
     "data": {
      "image/png": "[encoded data removed]",
      "text/plain": [
       "<Figure size 640x480 with 1 Axes>"
      ]
     },
     "metadata": {},
     "output_type": "display_data"
    }
   ],
   "source": [
    "plt.imshow(cloud)\n",
    "plt.axis('off');"
   ]
  },
  {
   "cell_type": "markdown",
   "metadata": {},
   "source": [
    "Получилось интерсное облако слов)"
   ]
  },
  {
   "cell_type": "markdown",
   "metadata": {},
   "source": [
    "Теперь построим облако слов для других комменариев"
   ]
  },
  {
   "cell_type": "code",
   "execution_count": 33,
   "metadata": {},
   "outputs": [],
   "source": [
    "text = ' '.join(data[data['toxic'] == 0]['preprocessing_text_nltk_with_POS'])"
   ]
  },
  {
   "cell_type": "markdown",
   "metadata": {},
   "source": [
    "Учтем стоп-слова"
   ]
  },
  {
   "cell_type": "code",
   "execution_count": 34,
   "metadata": {},
   "outputs": [],
   "source": [
    "cloud = WordCloud(stopwords=big_set_stop_words).generate(text)"
   ]
  },
  {
   "cell_type": "code",
   "execution_count": 35,
   "metadata": {},
   "outputs": [
    {
     "data": {
      "image/png": "[encoded data removed]",
      "text/plain": [
       "<Figure size 640x480 with 1 Axes>"
      ]
     },
     "metadata": {},
     "output_type": "display_data"
    }
   ],
   "source": [
    "plt.imshow(cloud)\n",
    "plt.axis('off');"
   ]
  },
  {
   "cell_type": "markdown",
   "metadata": {},
   "source": [
    "### Проверка после предобработки"
   ]
  },
  {
   "cell_type": "code",
   "execution_count": 36,
   "metadata": {},
   "outputs": [
    {
     "data": {
      "text/plain": [
       "text                                0.0\n",
       "toxic                               0.0\n",
       "neg                                 0.0\n",
       "neu                                 0.0\n",
       "pos                                 0.0\n",
       "compound                            0.0\n",
       "compound_binary                     0.0\n",
       "count_stop_words                    0.0\n",
       "count_word_upper                    0.0\n",
       "lemm_text_spacy                     0.0\n",
       "preprocessing_text_nltk_with_POS    0.0\n",
       "dtype: float64"
      ]
     },
     "execution_count": 36,
     "metadata": {},
     "output_type": "execute_result"
    }
   ],
   "source": [
    "data.isna().mean()\n"
   ]
  },
  {
   "cell_type": "code",
   "execution_count": 37,
   "metadata": {},
   "outputs": [],
   "source": [
    "data = data.dropna()"
   ]
  },
  {
   "cell_type": "markdown",
   "metadata": {},
   "source": [
    "# Дисбаланс классов"
   ]
  },
  {
   "cell_type": "code",
   "execution_count": 38,
   "metadata": {},
   "outputs": [
    {
     "name": "stdout",
     "output_type": "stream",
     "text": [
      "Общее число комментариев: 20000\n",
      "Доля токсичных комментариев: 10.3%\n"
     ]
    }
   ],
   "source": [
    "print(f'Общее число комментариев: {len(data) :.0f}')\n",
    "print(f'Доля токсичных комментариев: {data[\"toxic\"].mean() :.1%}')"
   ]
  },
  {
   "cell_type": "code",
   "execution_count": 39,
   "metadata": {
    "scrolled": true
   },
   "outputs": [
    {
     "data": {
      "image/png": "[encoded data removed]",
      "text/plain": [
       "<Figure size 500x200 with 1 Axes>"
      ]
     },
     "metadata": {},
     "output_type": "display_data"
    }
   ],
   "source": [
    "plt.figure(figsize=(5, 2))\n",
    "sns.countplot(data['toxic'])\n",
    "plt.xlabel('Класс')\n",
    "plt.ylabel('Количество наблюдений')\n",
    "plt.title('Наглядная иллюстрация дисбаланса');"
   ]
  },
  {
   "cell_type": "markdown",
   "metadata": {},
   "source": [
    "Имеем сильный дисбаланс 1 к 8. \n",
    "    \n",
    "Во-первых, для соотношения баланса буду использовать stratify.\n",
    "Во-вторых, где возможно буду использовать weight_balanced.\n",
    "\n",
    "И самое важное, что поможет бороться с дисбалансом - подбор порога. Сначала поставлю задачу каждой модели максимизировать метрику, не зависящую от порога, например ROC-AUC. На обученных моделях буду применять predict_proba и получать  score. Получив наибольший ROC-AUC на основании их, перебирая thrasholds буду получать различные значения F1-score. Максимизировав метрику применю score для train и test и уже адекватно оценю f1-score на выборках. **Это самый важный этап борьбы с дисбалансом классов.**"
   ]
  },
  {
   "cell_type": "markdown",
   "metadata": {},
   "source": [
    "## Embeddings c Toxic-BERT на BERT"
   ]
  },
  {
   "cell_type": "markdown",
   "metadata": {},
   "source": [
    "Прежде чем перевести тексты в векторы, подготовим их. У BERT есть собственный токенизатор. Это инструмент, который разбивает и преобразует исходные тексты в список токенов"
   ]
  },
  {
   "cell_type": "markdown",
   "metadata": {},
   "source": [
    "Этот алгоритм понимает контекст запросов, а не просто анализирует фразы. Для машинного обучения она ценна тем, что помогает строить векторные представления. "
   ]
  },
  {
   "cell_type": "markdown",
   "metadata": {},
   "source": [
    "Инициализируем класс модели, будем работать с BERT. Инициализируем токенизатор и **загружаем веса предобученной модели на токсичных комментариях.**"
   ]
  },
  {
   "cell_type": "code",
   "execution_count": 40,
   "metadata": {},
   "outputs": [
    {
     "name": "stdout",
     "output_type": "stream",
     "text": [
      "Requirement already satisfied: transformers in c:\\programdata\\anaconda3\\lib\\site-packages (4.24.0)\n",
      "Requirement already satisfied: numpy>=1.17 in c:\\programdata\\anaconda3\\lib\\site-packages (from transformers) (1.23.5)\n",
      "Requirement already satisfied: packaging>=20.0 in c:\\programdata\\anaconda3\\lib\\site-packages (from transformers) (22.0)\n",
      "Requirement already satisfied: tokenizers!=0.11.3,<0.14,>=0.11.1 in c:\\programdata\\anaconda3\\lib\\site-packages (from transformers) (0.11.4)\n",
      "Requirement already satisfied: filelock in c:\\programdata\\anaconda3\\lib\\site-packages (from transformers) (3.9.0)\n",
      "Requirement already satisfied: pyyaml>=5.1 in c:\\programdata\\anaconda3\\lib\\site-packages (from transformers) (6.0)\n",
      "Requirement already satisfied: regex!=2019.12.17 in c:\\programdata\\anaconda3\\lib\\site-packages (from transformers) (2022.7.9)\n",
      "Requirement already satisfied: requests in c:\\programdata\\anaconda3\\lib\\site-packages (from transformers) (2.28.1)\n",
      "Requirement already satisfied: tqdm>=4.27 in c:\\programdata\\anaconda3\\lib\\site-packages (from transformers) (4.64.1)\n",
      "Requirement already satisfied: huggingface-hub<1.0,>=0.10.0 in c:\\programdata\\anaconda3\\lib\\site-packages (from transformers) (0.10.1)\n",
      "Requirement already satisfied: typing-extensions>=3.7.4.3 in c:\\programdata\\anaconda3\\lib\\site-packages (from huggingface-hub<1.0,>=0.10.0->transformers) (4.4.0)\n",
      "Requirement already satisfied: colorama in c:\\programdata\\anaconda3\\lib\\site-packages (from tqdm>=4.27->transformers) (0.4.6)\n",
      "Requirement already satisfied: charset-normalizer<3,>=2 in c:\\programdata\\anaconda3\\lib\\site-packages (from requests->transformers) (2.0.4)\n",
      "Requirement already satisfied: certifi>=2017.4.17 in c:\\programdata\\anaconda3\\lib\\site-packages (from requests->transformers) (2022.12.7)\n",
      "Requirement already satisfied: urllib3<1.27,>=1.21.1 in c:\\programdata\\anaconda3\\lib\\site-packages (from requests->transformers) (1.26.14)\n",
      "Requirement already satisfied: idna<4,>=2.5 in c:\\programdata\\anaconda3\\lib\\site-packages (from requests->transformers) (3.4)\n"
     ]
    }
   ],
   "source": [
    "!pip3 install transformers"
   ]
  },
  {
   "cell_type": "code",
   "execution_count": 41,
   "metadata": {},
   "outputs": [],
   "source": [
    "model_class, tokenizer_class, pretrained_weights = transformers.BertModel, transformers.BertTokenizer, 'unitary/toxic-bert'"
   ]
  },
  {
   "cell_type": "code",
   "execution_count": 42,
   "metadata": {},
   "outputs": [
    {
     "name": "stderr",
     "output_type": "stream",
     "text": [
      "Some weights of the model checkpoint at unitary/toxic-bert were not used when initializing BertModel: ['classifier.weight', 'classifier.bias']\n",
      "- This IS expected if you are initializing BertModel from the checkpoint of a model trained on another task or with another architecture (e.g. initializing a BertForSequenceClassification model from a BertForPreTraining model).\n",
      "- This IS NOT expected if you are initializing BertModel from the checkpoint of a model that you expect to be exactly identical (initializing a BertForSequenceClassification model from a BertForSequenceClassification model).\n"
     ]
    }
   ],
   "source": [
    "tokenizer_toxic = tokenizer_class.from_pretrained(pretrained_weights)\n",
    "model_toxic = model_class.from_pretrained(pretrained_weights)"
   ]
  },
  {
   "cell_type": "markdown",
   "metadata": {},
   "source": [
    "**Создаю выборку для обработки на BERT**"
   ]
  },
  {
   "cell_type": "code",
   "execution_count": 43,
   "metadata": {},
   "outputs": [],
   "source": [
    "data_BERT = data.sample(n=SIZE_DATA_FOR_BERT, random_state=RANDOM_STATE).reset_index(drop=True)"
   ]
  },
  {
   "cell_type": "code",
   "execution_count": 44,
   "metadata": {},
   "outputs": [
    {
     "data": {
      "application/vnd.jupyter.widget-view+json": {
       "model_id": "680d84b92eb34c8eb9dd0db49cc4555e",
       "version_major": 2,
       "version_minor": 0
      },
      "text/plain": [
       "  0%|          | 0/600 [00:00<?, ?it/s]"
      ]
     },
     "metadata": {},
     "output_type": "display_data"
    }
   ],
   "source": [
    "tqdm.pandas()\n",
    "tokenize_text = data_BERT['preprocessing_text_nltk_with_POS'].progress_apply(\n",
    "lambda x: tokenizer_toxic.encode(x, add_special_tokens=True, truncation=True,\n",
    "                                max_length=512)\n",
    ")"
   ]
  },
  {
   "cell_type": "markdown",
   "metadata": {},
   "source": [
    "Найдем максимальную длину и применим паддинг:"
   ]
  },
  {
   "cell_type": "code",
   "execution_count": 45,
   "metadata": {},
   "outputs": [
    {
     "data": {
      "text/plain": [
       "512"
      ]
     },
     "execution_count": 45,
     "metadata": {},
     "output_type": "execute_result"
    }
   ],
   "source": [
    "max_len = tokenize_text.apply(lambda x: len(x)).max()\n",
    "max_len"
   ]
  },
  {
   "cell_type": "markdown",
   "metadata": {},
   "source": [
    "Применяем padding"
   ]
  },
  {
   "cell_type": "code",
   "execution_count": 46,
   "metadata": {},
   "outputs": [],
   "source": [
    "padded = np.array([i + [0]*(max_len - len(i)) for i in tokenize_text.values])"
   ]
  },
  {
   "cell_type": "markdown",
   "metadata": {},
   "source": [
    "Создаем маску внимания"
   ]
  },
  {
   "cell_type": "code",
   "execution_count": 47,
   "metadata": {},
   "outputs": [],
   "source": [
    "attention_mask = np.where(padded != 0, 1, 0)"
   ]
  },
  {
   "cell_type": "code",
   "execution_count": 48,
   "metadata": {},
   "outputs": [
    {
     "data": {
      "text/plain": [
       "(600, 512)"
      ]
     },
     "execution_count": 48,
     "metadata": {},
     "output_type": "execute_result"
    }
   ],
   "source": [
    "attention_mask.shape"
   ]
  },
  {
   "cell_type": "markdown",
   "metadata": {},
   "source": [
    "Почти всё готово, чтобы сформировать векторы моделью toxic и классифицировать тексты. **В дело вступают тензоры.**"
   ]
  },
  {
   "cell_type": "code",
   "execution_count": 49,
   "metadata": {},
   "outputs": [
    {
     "data": {
      "application/vnd.jupyter.widget-view+json": {
       "model_id": "5ca12c9546774e58a8653398757c1f12",
       "version_major": 2,
       "version_minor": 0
      },
      "text/plain": [
       "  0%|          | 0/12 [00:00<?, ?it/s]"
      ]
     },
     "metadata": {},
     "output_type": "display_data"
    }
   ],
   "source": [
    "batch_size = 50\n",
    "embeddings = []\n",
    "\n",
    "for i in notebook.tqdm(range(padded.shape[0] // batch_size)):\n",
    "    batch = torch.LongTensor(padded[batch_size*i:batch_size*(i+1)])\n",
    "    attention_mask_batch = torch.LongTensor(attention_mask[batch_size*i:batch_size*(i+1)])\n",
    "    \n",
    "    with torch.no_grad():\n",
    "        batch_embeddings = model_toxic(batch, attention_mask=attention_mask_batch)\n",
    "\n",
    "    embeddings.append(batch_embeddings[0][:,0,:].numpy())\n"
   ]
  },
  {
   "cell_type": "code",
   "execution_count": 50,
   "metadata": {},
   "outputs": [],
   "source": [
    "feature_BERT_toxic = np.concatenate(embeddings)"
   ]
  },
  {
   "cell_type": "markdown",
   "metadata": {},
   "source": [
    "Сохраню массив, чтобы в дальнейшем его просто подгружать, а не вычислять заново"
   ]
  },
  {
   "cell_type": "code",
   "execution_count": 51,
   "metadata": {},
   "outputs": [],
   "source": [
    "# np.save('arr_BERT_TOXIC_EMBEDD', np.concatenate(embeddings))"
   ]
  },
  {
   "cell_type": "code",
   "execution_count": 52,
   "metadata": {},
   "outputs": [
    {
     "data": {
      "text/plain": [
       "(600, 768)"
      ]
     },
     "execution_count": 52,
     "metadata": {},
     "output_type": "execute_result"
    }
   ],
   "source": [
    "feature_BERT_toxic.shape"
   ]
  },
  {
   "cell_type": "markdown",
   "metadata": {},
   "source": [
    "**Добавлю в data_BERT новую фичу Embeddings:**"
   ]
  },
  {
   "cell_type": "code",
   "execution_count": 53,
   "metadata": {},
   "outputs": [
    {
     "data": {
      "text/html": [
       "<div>\n",
       "<style scoped>\n",
       "    .dataframe tbody tr th:only-of-type {\n",
       "        vertical-align: middle;\n",
       "    }\n",
       "\n",
       "    .dataframe tbody tr th {\n",
       "        vertical-align: top;\n",
       "    }\n",
       "\n",
       "    .dataframe thead th {\n",
       "        text-align: right;\n",
       "    }\n",
       "</style>\n",
       "<table border=\"1\" class=\"dataframe\">\n",
       "  <thead>\n",
       "    <tr style=\"text-align: right;\">\n",
       "      <th></th>\n",
       "      <th>text</th>\n",
       "      <th>toxic</th>\n",
       "      <th>neg</th>\n",
       "      <th>neu</th>\n",
       "      <th>pos</th>\n",
       "      <th>compound</th>\n",
       "      <th>compound_binary</th>\n",
       "      <th>count_stop_words</th>\n",
       "      <th>count_word_upper</th>\n",
       "      <th>lemm_text_spacy</th>\n",
       "      <th>...</th>\n",
       "      <th>758</th>\n",
       "      <th>759</th>\n",
       "      <th>760</th>\n",
       "      <th>761</th>\n",
       "      <th>762</th>\n",
       "      <th>763</th>\n",
       "      <th>764</th>\n",
       "      <th>765</th>\n",
       "      <th>766</th>\n",
       "      <th>767</th>\n",
       "    </tr>\n",
       "  </thead>\n",
       "  <tbody>\n",
       "    <tr>\n",
       "      <th>0</th>\n",
       "      <td>True. I can blame that on you and your arrogan...</td>\n",
       "      <td>0</td>\n",
       "      <td>0.279</td>\n",
       "      <td>0.640</td>\n",
       "      <td>0.081</td>\n",
       "      <td>-0.7769</td>\n",
       "      <td>0</td>\n",
       "      <td>15</td>\n",
       "      <td>4</td>\n",
       "      <td>true blame arrogance wp npa states comment con...</td>\n",
       "      <td>...</td>\n",
       "      <td>-0.602234</td>\n",
       "      <td>-0.582573</td>\n",
       "      <td>0.483467</td>\n",
       "      <td>-0.794872</td>\n",
       "      <td>-0.320485</td>\n",
       "      <td>0.514767</td>\n",
       "      <td>-0.246148</td>\n",
       "      <td>-0.676981</td>\n",
       "      <td>0.599093</td>\n",
       "      <td>0.555295</td>\n",
       "    </tr>\n",
       "    <tr>\n",
       "      <th>1</th>\n",
       "      <td>\"\\n\\n Teahouse talkback: You've got messages! ...</td>\n",
       "      <td>0</td>\n",
       "      <td>0.000</td>\n",
       "      <td>1.000</td>\n",
       "      <td>0.000</td>\n",
       "      <td>0.0000</td>\n",
       "      <td>1</td>\n",
       "      <td>0</td>\n",
       "      <td>1</td>\n",
       "      <td>teahouse talkback got messages</td>\n",
       "      <td>...</td>\n",
       "      <td>-0.583869</td>\n",
       "      <td>-1.158825</td>\n",
       "      <td>0.344810</td>\n",
       "      <td>-0.687849</td>\n",
       "      <td>0.044832</td>\n",
       "      <td>0.672782</td>\n",
       "      <td>-0.308994</td>\n",
       "      <td>-0.777315</td>\n",
       "      <td>0.558413</td>\n",
       "      <td>0.236773</td>\n",
       "    </tr>\n",
       "    <tr>\n",
       "      <th>2</th>\n",
       "      <td>\"\\n\\nI disagree that she edits without pushing...</td>\n",
       "      <td>0</td>\n",
       "      <td>0.081</td>\n",
       "      <td>0.857</td>\n",
       "      <td>0.062</td>\n",
       "      <td>-0.9373</td>\n",
       "      <td>0</td>\n",
       "      <td>339</td>\n",
       "      <td>39</td>\n",
       "      <td>disagree edits pushing pov desn like content u...</td>\n",
       "      <td>...</td>\n",
       "      <td>-0.729098</td>\n",
       "      <td>-1.062220</td>\n",
       "      <td>0.427103</td>\n",
       "      <td>-0.561648</td>\n",
       "      <td>-0.129941</td>\n",
       "      <td>0.637569</td>\n",
       "      <td>-0.516757</td>\n",
       "      <td>-0.894729</td>\n",
       "      <td>0.789429</td>\n",
       "      <td>0.419406</td>\n",
       "    </tr>\n",
       "    <tr>\n",
       "      <th>3</th>\n",
       "      <td>Tim, there is no consistency on this point, al...</td>\n",
       "      <td>0</td>\n",
       "      <td>0.044</td>\n",
       "      <td>0.842</td>\n",
       "      <td>0.114</td>\n",
       "      <td>0.5423</td>\n",
       "      <td>1</td>\n",
       "      <td>24</td>\n",
       "      <td>5</td>\n",
       "      <td>tim consistency point course think able useful...</td>\n",
       "      <td>...</td>\n",
       "      <td>-0.525676</td>\n",
       "      <td>-1.145571</td>\n",
       "      <td>0.273743</td>\n",
       "      <td>-0.700262</td>\n",
       "      <td>0.132372</td>\n",
       "      <td>0.867694</td>\n",
       "      <td>-0.505854</td>\n",
       "      <td>-0.785364</td>\n",
       "      <td>0.514328</td>\n",
       "      <td>0.195821</td>\n",
       "    </tr>\n",
       "    <tr>\n",
       "      <th>4</th>\n",
       "      <td>\"  I added a picture of him that is \"\"question...</td>\n",
       "      <td>0</td>\n",
       "      <td>0.000</td>\n",
       "      <td>0.935</td>\n",
       "      <td>0.065</td>\n",
       "      <td>0.3182</td>\n",
       "      <td>1</td>\n",
       "      <td>21</td>\n",
       "      <td>6</td>\n",
       "      <td>added picture question mr mrs smith know celeb...</td>\n",
       "      <td>...</td>\n",
       "      <td>-0.624664</td>\n",
       "      <td>-1.254780</td>\n",
       "      <td>0.251142</td>\n",
       "      <td>-0.715915</td>\n",
       "      <td>0.166665</td>\n",
       "      <td>0.728175</td>\n",
       "      <td>-0.488187</td>\n",
       "      <td>-0.790949</td>\n",
       "      <td>0.610525</td>\n",
       "      <td>0.156803</td>\n",
       "    </tr>\n",
       "    <tr>\n",
       "      <th>...</th>\n",
       "      <td>...</td>\n",
       "      <td>...</td>\n",
       "      <td>...</td>\n",
       "      <td>...</td>\n",
       "      <td>...</td>\n",
       "      <td>...</td>\n",
       "      <td>...</td>\n",
       "      <td>...</td>\n",
       "      <td>...</td>\n",
       "      <td>...</td>\n",
       "      <td>...</td>\n",
       "      <td>...</td>\n",
       "      <td>...</td>\n",
       "      <td>...</td>\n",
       "      <td>...</td>\n",
       "      <td>...</td>\n",
       "      <td>...</td>\n",
       "      <td>...</td>\n",
       "      <td>...</td>\n",
       "      <td>...</td>\n",
       "      <td>...</td>\n",
       "    </tr>\n",
       "    <tr>\n",
       "      <th>595</th>\n",
       "      <td>. Finally, an entity is not notable enough for...</td>\n",
       "      <td>0</td>\n",
       "      <td>0.099</td>\n",
       "      <td>0.901</td>\n",
       "      <td>0.000</td>\n",
       "      <td>-0.3182</td>\n",
       "      <td>0</td>\n",
       "      <td>13</td>\n",
       "      <td>4</td>\n",
       "      <td>finally entity notable wikipedia wikipedia pag...</td>\n",
       "      <td>...</td>\n",
       "      <td>-0.568062</td>\n",
       "      <td>-1.158488</td>\n",
       "      <td>0.246155</td>\n",
       "      <td>-0.798800</td>\n",
       "      <td>0.190187</td>\n",
       "      <td>0.798594</td>\n",
       "      <td>-0.489234</td>\n",
       "      <td>-0.797328</td>\n",
       "      <td>0.350542</td>\n",
       "      <td>0.172698</td>\n",
       "    </tr>\n",
       "    <tr>\n",
       "      <th>596</th>\n",
       "      <td>What are you talking about? What edit wars? I'...</td>\n",
       "      <td>0</td>\n",
       "      <td>0.216</td>\n",
       "      <td>0.784</td>\n",
       "      <td>0.000</td>\n",
       "      <td>-0.6298</td>\n",
       "      <td>0</td>\n",
       "      <td>6</td>\n",
       "      <td>2</td>\n",
       "      <td>talking edit wars allowed edit profile</td>\n",
       "      <td>...</td>\n",
       "      <td>-0.563547</td>\n",
       "      <td>-1.164310</td>\n",
       "      <td>0.306832</td>\n",
       "      <td>-0.649588</td>\n",
       "      <td>0.015082</td>\n",
       "      <td>0.833410</td>\n",
       "      <td>-0.405427</td>\n",
       "      <td>-0.854110</td>\n",
       "      <td>0.436642</td>\n",
       "      <td>0.194179</td>\n",
       "    </tr>\n",
       "    <tr>\n",
       "      <th>597</th>\n",
       "      <td>\"\\n\\n\"\"What was cleverly inserted instead\"\"\\nT...</td>\n",
       "      <td>0</td>\n",
       "      <td>0.092</td>\n",
       "      <td>0.788</td>\n",
       "      <td>0.120</td>\n",
       "      <td>0.2982</td>\n",
       "      <td>1</td>\n",
       "      <td>60</td>\n",
       "      <td>16</td>\n",
       "      <td>cleverly inserted instead thanks assuming bad ...</td>\n",
       "      <td>...</td>\n",
       "      <td>-0.811590</td>\n",
       "      <td>-0.869219</td>\n",
       "      <td>0.470883</td>\n",
       "      <td>-0.585237</td>\n",
       "      <td>-0.134708</td>\n",
       "      <td>0.624362</td>\n",
       "      <td>-0.465059</td>\n",
       "      <td>-0.802952</td>\n",
       "      <td>0.752392</td>\n",
       "      <td>0.542779</td>\n",
       "    </tr>\n",
       "    <tr>\n",
       "      <th>598</th>\n",
       "      <td>The Entire Canonical New Testament paragraph i...</td>\n",
       "      <td>0</td>\n",
       "      <td>0.142</td>\n",
       "      <td>0.806</td>\n",
       "      <td>0.052</td>\n",
       "      <td>-0.6328</td>\n",
       "      <td>0</td>\n",
       "      <td>23</td>\n",
       "      <td>17</td>\n",
       "      <td>entire canonical new testament paragraph wrong...</td>\n",
       "      <td>...</td>\n",
       "      <td>-0.748861</td>\n",
       "      <td>0.247240</td>\n",
       "      <td>0.136623</td>\n",
       "      <td>-1.108210</td>\n",
       "      <td>-0.016349</td>\n",
       "      <td>0.262482</td>\n",
       "      <td>0.190001</td>\n",
       "      <td>-0.542213</td>\n",
       "      <td>-0.193816</td>\n",
       "      <td>1.037586</td>\n",
       "    </tr>\n",
       "    <tr>\n",
       "      <th>599</th>\n",
       "      <td>This new article comes from an interview that ...</td>\n",
       "      <td>0</td>\n",
       "      <td>0.000</td>\n",
       "      <td>0.920</td>\n",
       "      <td>0.080</td>\n",
       "      <td>0.2500</td>\n",
       "      <td>1</td>\n",
       "      <td>9</td>\n",
       "      <td>6</td>\n",
       "      <td>new article comes interview given student hoge...</td>\n",
       "      <td>...</td>\n",
       "      <td>-0.662344</td>\n",
       "      <td>-1.060672</td>\n",
       "      <td>0.663949</td>\n",
       "      <td>-0.657058</td>\n",
       "      <td>-0.111762</td>\n",
       "      <td>0.686764</td>\n",
       "      <td>-0.446184</td>\n",
       "      <td>-0.937411</td>\n",
       "      <td>0.607327</td>\n",
       "      <td>0.292127</td>\n",
       "    </tr>\n",
       "  </tbody>\n",
       "</table>\n",
       "<p>600 rows × 779 columns</p>\n",
       "</div>"
      ],
      "text/plain": [
       "                                                  text  toxic    neg    neu  \\\n",
       "0    True. I can blame that on you and your arrogan...      0  0.279  0.640   \n",
       "1    \"\\n\\n Teahouse talkback: You've got messages! ...      0  0.000  1.000   \n",
       "2    \"\\n\\nI disagree that she edits without pushing...      0  0.081  0.857   \n",
       "3    Tim, there is no consistency on this point, al...      0  0.044  0.842   \n",
       "4    \"  I added a picture of him that is \"\"question...      0  0.000  0.935   \n",
       "..                                                 ...    ...    ...    ...   \n",
       "595  . Finally, an entity is not notable enough for...      0  0.099  0.901   \n",
       "596  What are you talking about? What edit wars? I'...      0  0.216  0.784   \n",
       "597  \"\\n\\n\"\"What was cleverly inserted instead\"\"\\nT...      0  0.092  0.788   \n",
       "598  The Entire Canonical New Testament paragraph i...      0  0.142  0.806   \n",
       "599  This new article comes from an interview that ...      0  0.000  0.920   \n",
       "\n",
       "       pos  compound  compound_binary  count_stop_words  count_word_upper  \\\n",
       "0    0.081   -0.7769                0                15                 4   \n",
       "1    0.000    0.0000                1                 0                 1   \n",
       "2    0.062   -0.9373                0               339                39   \n",
       "3    0.114    0.5423                1                24                 5   \n",
       "4    0.065    0.3182                1                21                 6   \n",
       "..     ...       ...              ...               ...               ...   \n",
       "595  0.000   -0.3182                0                13                 4   \n",
       "596  0.000   -0.6298                0                 6                 2   \n",
       "597  0.120    0.2982                1                60                16   \n",
       "598  0.052   -0.6328                0                23                17   \n",
       "599  0.080    0.2500                1                 9                 6   \n",
       "\n",
       "                                       lemm_text_spacy  ...       758  \\\n",
       "0    true blame arrogance wp npa states comment con...  ... -0.602234   \n",
       "1                       teahouse talkback got messages  ... -0.583869   \n",
       "2    disagree edits pushing pov desn like content u...  ... -0.729098   \n",
       "3    tim consistency point course think able useful...  ... -0.525676   \n",
       "4    added picture question mr mrs smith know celeb...  ... -0.624664   \n",
       "..                                                 ...  ...       ...   \n",
       "595  finally entity notable wikipedia wikipedia pag...  ... -0.568062   \n",
       "596             talking edit wars allowed edit profile  ... -0.563547   \n",
       "597  cleverly inserted instead thanks assuming bad ...  ... -0.811590   \n",
       "598  entire canonical new testament paragraph wrong...  ... -0.748861   \n",
       "599  new article comes interview given student hoge...  ... -0.662344   \n",
       "\n",
       "          759       760       761       762       763       764       765  \\\n",
       "0   -0.582573  0.483467 -0.794872 -0.320485  0.514767 -0.246148 -0.676981   \n",
       "1   -1.158825  0.344810 -0.687849  0.044832  0.672782 -0.308994 -0.777315   \n",
       "2   -1.062220  0.427103 -0.561648 -0.129941  0.637569 -0.516757 -0.894729   \n",
       "3   -1.145571  0.273743 -0.700262  0.132372  0.867694 -0.505854 -0.785364   \n",
       "4   -1.254780  0.251142 -0.715915  0.166665  0.728175 -0.488187 -0.790949   \n",
       "..        ...       ...       ...       ...       ...       ...       ...   \n",
       "595 -1.158488  0.246155 -0.798800  0.190187  0.798594 -0.489234 -0.797328   \n",
       "596 -1.164310  0.306832 -0.649588  0.015082  0.833410 -0.405427 -0.854110   \n",
       "597 -0.869219  0.470883 -0.585237 -0.134708  0.624362 -0.465059 -0.802952   \n",
       "598  0.247240  0.136623 -1.108210 -0.016349  0.262482  0.190001 -0.542213   \n",
       "599 -1.060672  0.663949 -0.657058 -0.111762  0.686764 -0.446184 -0.937411   \n",
       "\n",
       "          766       767  \n",
       "0    0.599093  0.555295  \n",
       "1    0.558413  0.236773  \n",
       "2    0.789429  0.419406  \n",
       "3    0.514328  0.195821  \n",
       "4    0.610525  0.156803  \n",
       "..        ...       ...  \n",
       "595  0.350542  0.172698  \n",
       "596  0.436642  0.194179  \n",
       "597  0.752392  0.542779  \n",
       "598 -0.193816  1.037586  \n",
       "599  0.607327  0.292127  \n",
       "\n",
       "[600 rows x 779 columns]"
      ]
     },
     "execution_count": 53,
     "metadata": {},
     "output_type": "execute_result"
    }
   ],
   "source": [
    "data_BERT = data_BERT.merge(pd.DataFrame(feature_BERT_toxic), left_index=True, right_index=True)\n",
    "data_BERT"
   ]
  },
  {
   "cell_type": "markdown",
   "metadata": {},
   "source": [
    "# Разбиваю данные на train и test"
   ]
  },
  {
   "cell_type": "markdown",
   "metadata": {},
   "source": [
    "**Сейчас у меня есть 2 датафрейма:**\n",
    "* data 50к наблюдений\n",
    "* data_BERT 2к наблюдений\n",
    "\n"
   ]
  },
  {
   "cell_type": "markdown",
   "metadata": {},
   "source": [
    "**Разобьем на разные train и test! Поскольку где-то буду приметь TF-IDF на большом датасете, а где Embeddings!**"
   ]
  },
  {
   "cell_type": "markdown",
   "metadata": {},
   "source": [
    "**Обязательно перемешиваем данные и применяем stratify для сохранения балансировки на выборках!**"
   ]
  },
  {
   "cell_type": "markdown",
   "metadata": {},
   "source": [
    "Обычный data"
   ]
  },
  {
   "cell_type": "code",
   "execution_count": 54,
   "metadata": {},
   "outputs": [],
   "source": [
    "train, test = train_test_split(data, test_size=0.2,\n",
    "                                                    shuffle=True,\n",
    "                                                    stratify=data['toxic'],\n",
    "                                                    random_state=RANDOM_STATE)"
   ]
  },
  {
   "cell_type": "markdown",
   "metadata": {},
   "source": [
    "**Это разбиение на data_BERT:**"
   ]
  },
  {
   "cell_type": "code",
   "execution_count": 55,
   "metadata": {},
   "outputs": [],
   "source": [
    "train_BERT, test_BERT = train_test_split(data_BERT, test_size=0.2,\n",
    "                                                    shuffle=True,\n",
    "                                                    stratify=data_BERT['toxic'],\n",
    "                                                    random_state=RANDOM_STATE)"
   ]
  },
  {
   "cell_type": "markdown",
   "metadata": {},
   "source": [
    "# Обучение"
   ]
  },
  {
   "cell_type": "markdown",
   "metadata": {},
   "source": [
    "Ранее мы расширили признаковое пространство, применив Feature Engeneering, векторизацию (TF-IDF) и Embeddings на DistillBert. Рассмотрим какие модели будем использовать дальше."
   ]
  },
  {
   "cell_type": "markdown",
   "metadata": {},
   "source": [
    "0. Baseline (CatBoost на изначальном тексте)\n",
    "1. CatBoost на очищенном и преобразованном тексте\n",
    "2. CatBoost на очищенном и преобразованном тексте + (RF-IDF)\n",
    "3. CatBoost на очищенном и преобразованном тексте + (Embeddings)\n",
    "4. Логистическая регрессия (TF-IDF)\n",
    "5. Логистическая регрессия (Embeddings)\n"
   ]
  },
  {
   "cell_type": "markdown",
   "metadata": {},
   "source": [
    "**Важное замечание по поводу дисбаланса классов. На моделях в качестве метрик изначально буду использовать ROC-AUC, поскольку данная метрика не зависит от порога. Получив максимальый ROC-AUC - обучу модель и буду подбирать порог, чтобы максимизировать уже метрику f1-score.**\n",
    "\n",
    "**В идеале взять все уникальные пороги score из predict_proba**. Но поскольку ресурсы ограничены - возьму разбиение от 0 до 1 через np.linspace"
   ]
  },
  {
   "cell_type": "markdown",
   "metadata": {},
   "source": [
    "## Pipeline "
   ]
  },
  {
   "cell_type": "markdown",
   "metadata": {},
   "source": [
    "**Для избежания утечки данных** буду использовать sklearn Pipeline.\n",
    "\n",
    "После feature_engeneering у меня появились новые фичи. Их также нужно будет обработать в Pipeline - нормализовать.\n",
    "\n",
    "Также поэксперементирую с фичами и посмотрю какие по мнению модели дают наибольший прирост. В этом мне поможет, например **CatBoost с его Feature Emportance.**"
   ]
  },
  {
   "cell_type": "markdown",
   "metadata": {},
   "source": [
    "## Baseline (CatBoost на изначальном тексте)"
   ]
  },
  {
   "cell_type": "markdown",
   "metadata": {},
   "source": [
    "В качестве baseline обучу CatBoost на изначальном тексте. Также повыбираю на нем важные фичи для обучения."
   ]
  },
  {
   "cell_type": "markdown",
   "metadata": {},
   "source": [
    "Зададим фичи:"
   ]
  },
  {
   "cell_type": "code",
   "execution_count": 56,
   "metadata": {},
   "outputs": [],
   "source": [
    "feature = ['text', 'neg', 'neu', 'pos', 'compound', 'compound_binary',\n",
    "       'count_stop_words', 'count_word_upper']\n",
    "target = ['toxic']\n",
    "text_features = ['text']"
   ]
  },
  {
   "cell_type": "code",
   "execution_count": 57,
   "metadata": {},
   "outputs": [],
   "source": [
    "train_data = Pool(data=train[feature],\n",
    "                 label=train[target],\n",
    "                 text_features=text_features)"
   ]
  },
  {
   "cell_type": "markdown",
   "metadata": {},
   "source": [
    "Для начала, на кросс-валидации подберу итерацию, **близкую** к 1000 (рекомендация catboost). Метрикой будет служить AUC, необходимо ее максимизировать."
   ]
  },
  {
   "cell_type": "code",
   "execution_count": 58,
   "metadata": {},
   "outputs": [],
   "source": [
    "params = {\n",
    "    'auto_class_weights' : 'Balanced',\n",
    "    'eval_metric' : 'AUC',\n",
    "    'verbose' : 100,\n",
    "    'random_seed' : RANDOM_STATE,\n",
    "    'loss_function' : 'Logloss'\n",
    "}"
   ]
  },
  {
   "cell_type": "code",
   "execution_count": 59,
   "metadata": {
    "scrolled": true
   },
   "outputs": [
    {
     "name": "stdout",
     "output_type": "stream",
     "text": [
      "Training on fold [0/5]\n",
      "\n",
      "bestTest = 0.9325163864\n",
      "bestIteration = 435\n",
      "\n",
      "Training on fold [1/5]\n",
      "\n",
      "bestTest = 0.9446734851\n",
      "bestIteration = 705\n",
      "\n",
      "Training on fold [2/5]\n",
      "\n",
      "bestTest = 0.9347629606\n",
      "bestIteration = 486\n",
      "\n",
      "Training on fold [3/5]\n",
      "\n",
      "bestTest = 0.9425780795\n",
      "bestIteration = 999\n",
      "\n",
      "Training on fold [4/5]\n",
      "\n",
      "bestTest = 0.9330687438\n",
      "bestIteration = 662\n",
      "\n"
     ]
    }
   ],
   "source": [
    "cv_data = cv(params=params,\n",
    "            pool=train_data,\n",
    "            fold_count=5,\n",
    "            shuffle=True,\n",
    "            partition_random_seed=RANDOM_STATE,\n",
    "            stratified=True,\n",
    "            verbose=False)"
   ]
  },
  {
   "cell_type": "markdown",
   "metadata": {},
   "source": [
    "Найдем лучшую итерацию для обучения (max AUC)"
   ]
  },
  {
   "cell_type": "code",
   "execution_count": 60,
   "metadata": {},
   "outputs": [
    {
     "data": {
      "text/plain": [
       "649"
      ]
     },
     "execution_count": 60,
     "metadata": {},
     "output_type": "execute_result"
    }
   ],
   "source": [
    "best_iter = cv_data[cv_data['test-AUC-mean'] == cv_data['test-AUC-mean'].max()]['iterations'].values[0] + 1\n",
    "best_iter"
   ]
  },
  {
   "cell_type": "markdown",
   "metadata": {},
   "source": [
    "Теперь изменим параметры обучения:"
   ]
  },
  {
   "cell_type": "code",
   "execution_count": 61,
   "metadata": {},
   "outputs": [],
   "source": [
    "params = {\n",
    "    'auto_class_weights' : 'Balanced',\n",
    "    'eval_metric' : 'AUC',\n",
    "    'verbose' : 100,\n",
    "    'random_seed' : RANDOM_STATE,\n",
    "    'loss_function' : 'Logloss',\n",
    "    'iterations' : best_iter,\n",
    "    'early_stopping_rounds' : 40\n",
    "    \n",
    "}"
   ]
  },
  {
   "cell_type": "code",
   "execution_count": 62,
   "metadata": {},
   "outputs": [],
   "source": [
    "model = CatBoostClassifier(**params)"
   ]
  },
  {
   "cell_type": "code",
   "execution_count": 63,
   "metadata": {},
   "outputs": [
    {
     "data": {
      "application/vnd.jupyter.widget-view+json": {
       "model_id": "af416b2d452b4874b70373619b2c3389",
       "version_major": 2,
       "version_minor": 0
      },
      "text/plain": [
       "MetricVisualizer(layout=Layout(align_self='stretch', height='500px'))"
      ]
     },
     "metadata": {},
     "output_type": "display_data"
    },
    {
     "name": "stdout",
     "output_type": "stream",
     "text": [
      "Learning rate set to 0.050034\n",
      "0:\ttotal: 52.8ms\tremaining: 34.2s\n",
      "100:\ttotal: 6.59s\tremaining: 35.7s\n",
      "200:\ttotal: 13.2s\tremaining: 29.4s\n",
      "300:\ttotal: 19.8s\tremaining: 22.8s\n",
      "400:\ttotal: 26.2s\tremaining: 16.2s\n",
      "500:\ttotal: 32.9s\tremaining: 9.72s\n",
      "600:\ttotal: 39.3s\tremaining: 3.14s\n",
      "648:\ttotal: 42.5s\tremaining: 0us\n"
     ]
    },
    {
     "data": {
      "text/plain": [
       "<catboost.core.CatBoostClassifier at 0x214c74c5000>"
      ]
     },
     "execution_count": 63,
     "metadata": {},
     "output_type": "execute_result"
    }
   ],
   "source": [
    "model.fit(train_data, plot=True)"
   ]
  },
  {
   "cell_type": "markdown",
   "metadata": {},
   "source": [
    "Лучшее качество AUC на train"
   ]
  },
  {
   "cell_type": "code",
   "execution_count": 64,
   "metadata": {
    "scrolled": true
   },
   "outputs": [
    {
     "data": {
      "text/plain": [
       "0.8010885700148441"
      ]
     },
     "execution_count": 64,
     "metadata": {},
     "output_type": "execute_result"
    }
   ],
   "source": [
    "f1_score(model.predict(train_data), train['toxic'])"
   ]
  },
  {
   "cell_type": "markdown",
   "metadata": {},
   "source": [
    "**Попробуем улучшить метрику f1, подобрав нужный порог!**"
   ]
  },
  {
   "cell_type": "code",
   "execution_count": 65,
   "metadata": {},
   "outputs": [],
   "source": [
    "train['y_score'] = model.predict_proba(train_data)[:, 1]"
   ]
  },
  {
   "cell_type": "code",
   "execution_count": 66,
   "metadata": {},
   "outputs": [],
   "source": [
    "y_scores_thrasholds = np.linspace(0, 1, num=101)\n",
    "f1_scores = []\n",
    "\n",
    "for thrashholds in y_scores_thrasholds:\n",
    "    y_pred = (train['y_score'] >= thrashholds).astype(int)\n",
    "    f1 = f1_score(train['toxic'], y_pred)\n",
    "    f1_scores.append(f1)\n",
    "    \n",
    "results_df = pd.DataFrame({'thrashholds' : y_scores_thrasholds, \n",
    "                          'f1' : f1_scores})\n",
    "    \n"
   ]
  },
  {
   "cell_type": "markdown",
   "metadata": {},
   "source": [
    "Максимальная метрика f1 на train при пороге:"
   ]
  },
  {
   "cell_type": "code",
   "execution_count": 67,
   "metadata": {},
   "outputs": [
    {
     "data": {
      "text/plain": [
       "thrashholds    0.780000\n",
       "f1             0.872575\n",
       "Name: 78, dtype: float64"
      ]
     },
     "execution_count": 67,
     "metadata": {},
     "output_type": "execute_result"
    }
   ],
   "source": [
    "max_f1_row = results_df.loc[results_df['f1'].idxmax()]\n",
    "max_f1_row"
   ]
  },
  {
   "cell_type": "code",
   "execution_count": 68,
   "metadata": {},
   "outputs": [
    {
     "data": {
      "text/plain": [
       "0.78"
      ]
     },
     "execution_count": 68,
     "metadata": {},
     "output_type": "execute_result"
    }
   ],
   "source": [
    "best_thrash = max_f1_row['thrashholds']\n",
    "best_thrash"
   ]
  },
  {
   "cell_type": "markdown",
   "metadata": {},
   "source": [
    "**Интересно проверить как порог покажет себя на неизвестной ему выборке:**"
   ]
  },
  {
   "cell_type": "code",
   "execution_count": 69,
   "metadata": {},
   "outputs": [
    {
     "data": {
      "text/plain": [
       "0.7352185089974292"
      ]
     },
     "execution_count": 69,
     "metadata": {},
     "output_type": "execute_result"
    }
   ],
   "source": [
    "f1_score((model.predict_proba(test[feature])[:, 1] > best_thrash)*1, test['toxic'])"
   ]
  },
  {
   "cell_type": "markdown",
   "metadata": {},
   "source": [
    "Посмотрим какие фичи како вклад внесли в предсказание"
   ]
  },
  {
   "cell_type": "code",
   "execution_count": 70,
   "metadata": {},
   "outputs": [
    {
     "data": {
      "text/html": [
       "<div>\n",
       "<style scoped>\n",
       "    .dataframe tbody tr th:only-of-type {\n",
       "        vertical-align: middle;\n",
       "    }\n",
       "\n",
       "    .dataframe tbody tr th {\n",
       "        vertical-align: top;\n",
       "    }\n",
       "\n",
       "    .dataframe thead th {\n",
       "        text-align: right;\n",
       "    }\n",
       "</style>\n",
       "<table border=\"1\" class=\"dataframe\">\n",
       "  <thead>\n",
       "    <tr style=\"text-align: right;\">\n",
       "      <th></th>\n",
       "      <th>Feature Id</th>\n",
       "      <th>Importances</th>\n",
       "    </tr>\n",
       "  </thead>\n",
       "  <tbody>\n",
       "    <tr>\n",
       "      <th>0</th>\n",
       "      <td>text</td>\n",
       "      <td>75.632073</td>\n",
       "    </tr>\n",
       "    <tr>\n",
       "      <th>1</th>\n",
       "      <td>neg</td>\n",
       "      <td>7.350840</td>\n",
       "    </tr>\n",
       "    <tr>\n",
       "      <th>2</th>\n",
       "      <td>count_stop_words</td>\n",
       "      <td>4.532930</td>\n",
       "    </tr>\n",
       "    <tr>\n",
       "      <th>3</th>\n",
       "      <td>compound</td>\n",
       "      <td>4.345528</td>\n",
       "    </tr>\n",
       "    <tr>\n",
       "      <th>4</th>\n",
       "      <td>neu</td>\n",
       "      <td>2.751798</td>\n",
       "    </tr>\n",
       "    <tr>\n",
       "      <th>5</th>\n",
       "      <td>pos</td>\n",
       "      <td>2.157890</td>\n",
       "    </tr>\n",
       "    <tr>\n",
       "      <th>6</th>\n",
       "      <td>count_word_upper</td>\n",
       "      <td>2.126232</td>\n",
       "    </tr>\n",
       "    <tr>\n",
       "      <th>7</th>\n",
       "      <td>compound_binary</td>\n",
       "      <td>1.102710</td>\n",
       "    </tr>\n",
       "  </tbody>\n",
       "</table>\n",
       "</div>"
      ],
      "text/plain": [
       "         Feature Id  Importances\n",
       "0              text    75.632073\n",
       "1               neg     7.350840\n",
       "2  count_stop_words     4.532930\n",
       "3          compound     4.345528\n",
       "4               neu     2.751798\n",
       "5               pos     2.157890\n",
       "6  count_word_upper     2.126232\n",
       "7   compound_binary     1.102710"
      ]
     },
     "execution_count": 70,
     "metadata": {},
     "output_type": "execute_result"
    }
   ],
   "source": [
    "model.get_feature_importance(prettified=True)"
   ]
  },
  {
   "cell_type": "markdown",
   "metadata": {},
   "source": [
    "### Попробую обучить просто на тексте без доп.фич"
   ]
  },
  {
   "cell_type": "code",
   "execution_count": 71,
   "metadata": {},
   "outputs": [],
   "source": [
    "feature = ['text']\n",
    "target = ['toxic']\n",
    "text_features = ['text']"
   ]
  },
  {
   "cell_type": "code",
   "execution_count": 72,
   "metadata": {},
   "outputs": [],
   "source": [
    "train_data = Pool(data=train[feature],\n",
    "                 label=train[target],\n",
    "                 text_features=text_features)"
   ]
  },
  {
   "cell_type": "markdown",
   "metadata": {},
   "source": [
    "Для начала, на кросс-валидации подберу итерацию, **близкую** к 1000 (рекомендация catboost). Метрикой будет служить AUC, необходимо ее максимизировать."
   ]
  },
  {
   "cell_type": "code",
   "execution_count": 73,
   "metadata": {},
   "outputs": [],
   "source": [
    "params = {\n",
    "    'auto_class_weights' : 'Balanced',\n",
    "    'eval_metric' : 'AUC',\n",
    "    'verbose' : 100,\n",
    "    'random_seed' : RANDOM_STATE,\n",
    "    'loss_function' : 'Logloss'\n",
    "}"
   ]
  },
  {
   "cell_type": "code",
   "execution_count": 74,
   "metadata": {},
   "outputs": [
    {
     "name": "stdout",
     "output_type": "stream",
     "text": [
      "Training on fold [0/5]\n",
      "\n",
      "bestTest = 0.9106255871\n",
      "bestIteration = 804\n",
      "\n",
      "Training on fold [1/5]\n",
      "\n",
      "bestTest = 0.9268653093\n",
      "bestIteration = 436\n",
      "\n",
      "Training on fold [2/5]\n",
      "\n",
      "bestTest = 0.9153542393\n",
      "bestIteration = 738\n",
      "\n",
      "Training on fold [3/5]\n",
      "\n",
      "bestTest = 0.9262870275\n",
      "bestIteration = 470\n",
      "\n",
      "Training on fold [4/5]\n",
      "\n",
      "bestTest = 0.9264363555\n",
      "bestIteration = 482\n",
      "\n"
     ]
    }
   ],
   "source": [
    "cv_data = cv(params=params,\n",
    "            pool=train_data,\n",
    "            fold_count=5,\n",
    "            shuffle=True,\n",
    "            partition_random_seed=RANDOM_STATE,\n",
    "            stratified=True,\n",
    "            verbose=False)"
   ]
  },
  {
   "cell_type": "markdown",
   "metadata": {},
   "source": [
    "Найдем лучшую итерацию для обучения (max AUC)"
   ]
  },
  {
   "cell_type": "code",
   "execution_count": 75,
   "metadata": {},
   "outputs": [
    {
     "data": {
      "text/plain": [
       "475"
      ]
     },
     "execution_count": 75,
     "metadata": {},
     "output_type": "execute_result"
    }
   ],
   "source": [
    "best_iter = cv_data[cv_data['test-AUC-mean'] == cv_data['test-AUC-mean'].max()]['iterations'].values[0] + 1\n",
    "best_iter"
   ]
  },
  {
   "cell_type": "markdown",
   "metadata": {},
   "source": [
    "Теперь изменим параметры обучения:"
   ]
  },
  {
   "cell_type": "code",
   "execution_count": 76,
   "metadata": {},
   "outputs": [],
   "source": [
    "params = {\n",
    "    'auto_class_weights' : 'Balanced',\n",
    "    'eval_metric' : 'AUC',\n",
    "    'verbose' : 100,\n",
    "    'random_seed' : RANDOM_STATE,\n",
    "    'loss_function' : 'Logloss',\n",
    "    'iterations' : best_iter,\n",
    "    'early_stopping_rounds' : 40\n",
    "    \n",
    "}"
   ]
  },
  {
   "cell_type": "code",
   "execution_count": 77,
   "metadata": {},
   "outputs": [],
   "source": [
    "model = CatBoostClassifier(**params)"
   ]
  },
  {
   "cell_type": "code",
   "execution_count": 78,
   "metadata": {},
   "outputs": [
    {
     "data": {
      "application/vnd.jupyter.widget-view+json": {
       "model_id": "3115088695af4097bcab95432594dff2",
       "version_major": 2,
       "version_minor": 0
      },
      "text/plain": [
       "MetricVisualizer(layout=Layout(align_self='stretch', height='500px'))"
      ]
     },
     "metadata": {},
     "output_type": "display_data"
    },
    {
     "name": "stdout",
     "output_type": "stream",
     "text": [
      "Learning rate set to 0.066614\n",
      "0:\ttotal: 52.1ms\tremaining: 24.7s\n",
      "100:\ttotal: 6.48s\tremaining: 24s\n",
      "200:\ttotal: 13.2s\tremaining: 18s\n",
      "300:\ttotal: 19.9s\tremaining: 11.5s\n",
      "400:\ttotal: 26.5s\tremaining: 4.89s\n",
      "474:\ttotal: 31.7s\tremaining: 0us\n"
     ]
    },
    {
     "data": {
      "text/plain": [
       "<catboost.core.CatBoostClassifier at 0x214c74c5ff0>"
      ]
     },
     "execution_count": 78,
     "metadata": {},
     "output_type": "execute_result"
    }
   ],
   "source": [
    "model.fit(train_data, plot=True)"
   ]
  },
  {
   "cell_type": "markdown",
   "metadata": {},
   "source": [
    "Лучшее качество f1 на train"
   ]
  },
  {
   "cell_type": "code",
   "execution_count": 79,
   "metadata": {},
   "outputs": [
    {
     "data": {
      "text/plain": [
       "0.7897334649555776"
      ]
     },
     "execution_count": 79,
     "metadata": {},
     "output_type": "execute_result"
    }
   ],
   "source": [
    "f1_score(model.predict(train_data), train['toxic'])"
   ]
  },
  {
   "cell_type": "markdown",
   "metadata": {},
   "source": [
    "**Попробуем улучшить метрику f1, подобрав нужный порог!**"
   ]
  },
  {
   "cell_type": "code",
   "execution_count": 80,
   "metadata": {},
   "outputs": [],
   "source": [
    "train['y_score'] = model.predict_proba(train_data)[:, 1]"
   ]
  },
  {
   "cell_type": "code",
   "execution_count": 81,
   "metadata": {},
   "outputs": [],
   "source": [
    "y_scores_thrasholds = np.linspace(0, 1, num=101)\n",
    "f1_scores = []\n",
    "\n",
    "for thrashholds in y_scores_thrasholds:\n",
    "    y_pred = (train['y_score'] >= thrashholds).astype(int)\n",
    "    f1 = f1_score(train['toxic'], y_pred)\n",
    "    f1_scores.append(f1)\n",
    "    \n",
    "results_df = pd.DataFrame({'thrashholds' : y_scores_thrasholds, \n",
    "                          'f1' : f1_scores})\n",
    "    \n"
   ]
  },
  {
   "cell_type": "markdown",
   "metadata": {},
   "source": [
    "Максимальная метрика f1 на train при пороге:"
   ]
  },
  {
   "cell_type": "code",
   "execution_count": 82,
   "metadata": {},
   "outputs": [
    {
     "data": {
      "text/plain": [
       "thrashholds    0.730000\n",
       "f1             0.852571\n",
       "Name: 73, dtype: float64"
      ]
     },
     "execution_count": 82,
     "metadata": {},
     "output_type": "execute_result"
    }
   ],
   "source": [
    "max_f1_row = results_df.loc[results_df['f1'].idxmax()]\n",
    "max_f1_row"
   ]
  },
  {
   "cell_type": "code",
   "execution_count": 83,
   "metadata": {},
   "outputs": [
    {
     "data": {
      "text/plain": [
       "0.73"
      ]
     },
     "execution_count": 83,
     "metadata": {},
     "output_type": "execute_result"
    }
   ],
   "source": [
    "best_thrash = max_f1_row['thrashholds']\n",
    "best_thrash"
   ]
  },
  {
   "cell_type": "markdown",
   "metadata": {},
   "source": [
    "**Интересно проверить как порог покажет себя на неизвестной ему выборке:**"
   ]
  },
  {
   "cell_type": "code",
   "execution_count": 84,
   "metadata": {},
   "outputs": [
    {
     "data": {
      "text/plain": [
       "0.7018867924528303"
      ]
     },
     "execution_count": 84,
     "metadata": {},
     "output_type": "execute_result"
    }
   ],
   "source": [
    "f1_score((model.predict_proba(test[feature])[:, 1] > best_thrash)*1, test['toxic'])"
   ]
  },
  {
   "cell_type": "markdown",
   "metadata": {},
   "source": [
    "<div class=\"alert alert-info\">\n",
    "    <br /> \n",
    "    <font size=\"3\", color = \"black\">\n",
    "<br />  \n",
    "       **Могу сделать вывод, что feature_engenerring немного улучшает метрику!!**\n"
   ]
  },
  {
   "cell_type": "markdown",
   "metadata": {},
   "source": [
    "**Таким образом, на чистом catboost и необработанном тексте с подбором порога. Получили метрику на baseline 0.7. Feature Engeneering немного улучшил качество!**"
   ]
  },
  {
   "cell_type": "markdown",
   "metadata": {},
   "source": [
    "## CatBoost на очищенном и преобразованном тексте (+ его внутренняя обработка текста)"
   ]
  },
  {
   "cell_type": "markdown",
   "metadata": {},
   "source": [
    "Зададим фичи:"
   ]
  },
  {
   "cell_type": "code",
   "execution_count": 85,
   "metadata": {},
   "outputs": [],
   "source": [
    "feature = ['preprocessing_text_nltk_with_POS', 'neg', 'neu', 'pos', 'compound', 'compound_binary',\n",
    "       'count_stop_words', 'count_word_upper']\n",
    "target = ['toxic']\n",
    "text_features = ['preprocessing_text_nltk_with_POS']"
   ]
  },
  {
   "cell_type": "code",
   "execution_count": 86,
   "metadata": {},
   "outputs": [],
   "source": [
    "train_data = Pool(data=train[feature],\n",
    "                 label=train[target],\n",
    "                 text_features=text_features)"
   ]
  },
  {
   "cell_type": "markdown",
   "metadata": {},
   "source": [
    "Для начала, на кросс-валидации подберу итерацию, **близкую** к 1000 (рекомендация catboost). Метрикой будет служить AUC, необходимо ее максимизировать."
   ]
  },
  {
   "cell_type": "code",
   "execution_count": 87,
   "metadata": {},
   "outputs": [],
   "source": [
    "params = {\n",
    "    'auto_class_weights' : 'Balanced',\n",
    "    'eval_metric' : 'AUC',\n",
    "    'verbose' : 100,\n",
    "    'random_seed' : RANDOM_STATE,\n",
    "    'loss_function' : 'Logloss'\n",
    "}"
   ]
  },
  {
   "cell_type": "code",
   "execution_count": 88,
   "metadata": {},
   "outputs": [
    {
     "name": "stdout",
     "output_type": "stream",
     "text": [
      "Training on fold [0/5]\n",
      "\n",
      "bestTest = 0.9461828314\n",
      "bestIteration = 655\n",
      "\n",
      "Training on fold [1/5]\n",
      "\n",
      "bestTest = 0.9476351815\n",
      "bestIteration = 804\n",
      "\n",
      "Training on fold [2/5]\n",
      "\n",
      "bestTest = 0.9480788723\n",
      "bestIteration = 865\n",
      "\n",
      "Training on fold [3/5]\n",
      "\n",
      "bestTest = 0.9515255817\n",
      "bestIteration = 999\n",
      "\n",
      "Training on fold [4/5]\n",
      "\n",
      "bestTest = 0.94491967\n",
      "bestIteration = 991\n",
      "\n"
     ]
    }
   ],
   "source": [
    "cv_data = cv(params=params,\n",
    "            pool=train_data,\n",
    "            fold_count=5,\n",
    "            shuffle=True,\n",
    "            partition_random_seed=RANDOM_STATE,\n",
    "            stratified=True,\n",
    "            verbose=False)"
   ]
  },
  {
   "cell_type": "markdown",
   "metadata": {},
   "source": [
    "Найдем лучшую итерацию для обучения (max AUC)"
   ]
  },
  {
   "cell_type": "code",
   "execution_count": 89,
   "metadata": {},
   "outputs": [
    {
     "data": {
      "text/plain": [
       "992"
      ]
     },
     "execution_count": 89,
     "metadata": {},
     "output_type": "execute_result"
    }
   ],
   "source": [
    "best_iter = cv_data[cv_data['test-AUC-mean'] == cv_data['test-AUC-mean'].max()]['iterations'].values[0] + 1\n",
    "best_iter"
   ]
  },
  {
   "cell_type": "markdown",
   "metadata": {},
   "source": [
    "Теперь изменим параметры обучения:"
   ]
  },
  {
   "cell_type": "code",
   "execution_count": 90,
   "metadata": {},
   "outputs": [],
   "source": [
    "params = {\n",
    "    'auto_class_weights' : 'Balanced',\n",
    "    'eval_metric' : 'AUC',\n",
    "    'verbose' : 100,\n",
    "    'random_seed' : RANDOM_STATE,\n",
    "    'loss_function' : 'Logloss',\n",
    "    'iterations' : best_iter,\n",
    "    'early_stopping_rounds' : 40\n",
    "    \n",
    "}"
   ]
  },
  {
   "cell_type": "code",
   "execution_count": 91,
   "metadata": {},
   "outputs": [],
   "source": [
    "model = CatBoostClassifier(**params)"
   ]
  },
  {
   "cell_type": "code",
   "execution_count": 92,
   "metadata": {},
   "outputs": [
    {
     "data": {
      "application/vnd.jupyter.widget-view+json": {
       "model_id": "29a857113403411c922b243ace254ec0",
       "version_major": 2,
       "version_minor": 0
      },
      "text/plain": [
       "MetricVisualizer(layout=Layout(align_self='stretch', height='500px'))"
      ]
     },
     "metadata": {},
     "output_type": "display_data"
    },
    {
     "name": "stdout",
     "output_type": "stream",
     "text": [
      "Learning rate set to 0.033907\n",
      "0:\ttotal: 51.6ms\tremaining: 51.2s\n",
      "100:\ttotal: 6.54s\tremaining: 57.7s\n",
      "200:\ttotal: 13.2s\tremaining: 51.8s\n",
      "300:\ttotal: 19.7s\tremaining: 45.2s\n",
      "400:\ttotal: 26.2s\tremaining: 38.7s\n",
      "500:\ttotal: 32.9s\tremaining: 32.3s\n",
      "600:\ttotal: 39.5s\tremaining: 25.7s\n",
      "700:\ttotal: 46.1s\tremaining: 19.1s\n",
      "800:\ttotal: 52.6s\tremaining: 12.5s\n",
      "900:\ttotal: 59.2s\tremaining: 5.98s\n",
      "991:\ttotal: 1m 5s\tremaining: 0us\n"
     ]
    },
    {
     "data": {
      "text/plain": [
       "<catboost.core.CatBoostClassifier at 0x214a90e2ec0>"
      ]
     },
     "execution_count": 92,
     "metadata": {},
     "output_type": "execute_result"
    }
   ],
   "source": [
    "model.fit(train_data, plot=True)"
   ]
  },
  {
   "cell_type": "markdown",
   "metadata": {},
   "source": [
    "Лучшее качество f1 на train"
   ]
  },
  {
   "cell_type": "code",
   "execution_count": 93,
   "metadata": {},
   "outputs": [
    {
     "data": {
      "text/plain": [
       "0.8344577062791905"
      ]
     },
     "execution_count": 93,
     "metadata": {},
     "output_type": "execute_result"
    }
   ],
   "source": [
    "f1_score(model.predict(train_data), train['toxic'])"
   ]
  },
  {
   "cell_type": "markdown",
   "metadata": {},
   "source": [
    "**Попробуем улучшить метрику f1, подобрав нужный порог!**"
   ]
  },
  {
   "cell_type": "code",
   "execution_count": 94,
   "metadata": {},
   "outputs": [],
   "source": [
    "train['y_score'] = model.predict_proba(train_data)[:, 1]"
   ]
  },
  {
   "cell_type": "code",
   "execution_count": 95,
   "metadata": {},
   "outputs": [],
   "source": [
    "y_scores_thrasholds = np.linspace(0, 1, num=101)\n",
    "f1_scores = []\n",
    "\n",
    "for thrashholds in y_scores_thrasholds:\n",
    "    y_pred = (train['y_score'] >= thrashholds).astype(int)\n",
    "    f1 = f1_score(train['toxic'], y_pred)\n",
    "    f1_scores.append(f1)\n",
    "    \n",
    "results_df = pd.DataFrame({'thrashholds' : y_scores_thrasholds, \n",
    "                          'f1' : f1_scores})\n",
    "    \n"
   ]
  },
  {
   "cell_type": "markdown",
   "metadata": {},
   "source": [
    "Максимальная метрика f1 на train при пороге:"
   ]
  },
  {
   "cell_type": "code",
   "execution_count": 96,
   "metadata": {},
   "outputs": [
    {
     "data": {
      "text/plain": [
       "thrashholds    0.72000\n",
       "f1             0.88473\n",
       "Name: 72, dtype: float64"
      ]
     },
     "execution_count": 96,
     "metadata": {},
     "output_type": "execute_result"
    }
   ],
   "source": [
    "max_f1_row = results_df.loc[results_df['f1'].idxmax()]\n",
    "max_f1_row"
   ]
  },
  {
   "cell_type": "code",
   "execution_count": 97,
   "metadata": {},
   "outputs": [
    {
     "data": {
      "text/plain": [
       "0.72"
      ]
     },
     "execution_count": 97,
     "metadata": {},
     "output_type": "execute_result"
    }
   ],
   "source": [
    "best_thrash = max_f1_row['thrashholds']\n",
    "best_thrash"
   ]
  },
  {
   "cell_type": "markdown",
   "metadata": {},
   "source": [
    "**Интересно проверить как порог покажет себя на неизвестной ему выборке:**"
   ]
  },
  {
   "cell_type": "code",
   "execution_count": 98,
   "metadata": {},
   "outputs": [
    {
     "data": {
      "text/plain": [
       "0.7719298245614035"
      ]
     },
     "execution_count": 98,
     "metadata": {},
     "output_type": "execute_result"
    }
   ],
   "source": [
    "f1_score((model.predict_proba(test[feature])[:, 1] > best_thrash)*1, test['toxic'])"
   ]
  },
  {
   "cell_type": "markdown",
   "metadata": {},
   "source": [
    "Посмотрим какие фичи како вклад внесли в предсказание"
   ]
  },
  {
   "cell_type": "code",
   "execution_count": 99,
   "metadata": {},
   "outputs": [
    {
     "data": {
      "text/html": [
       "<div>\n",
       "<style scoped>\n",
       "    .dataframe tbody tr th:only-of-type {\n",
       "        vertical-align: middle;\n",
       "    }\n",
       "\n",
       "    .dataframe tbody tr th {\n",
       "        vertical-align: top;\n",
       "    }\n",
       "\n",
       "    .dataframe thead th {\n",
       "        text-align: right;\n",
       "    }\n",
       "</style>\n",
       "<table border=\"1\" class=\"dataframe\">\n",
       "  <thead>\n",
       "    <tr style=\"text-align: right;\">\n",
       "      <th></th>\n",
       "      <th>Feature Id</th>\n",
       "      <th>Importances</th>\n",
       "    </tr>\n",
       "  </thead>\n",
       "  <tbody>\n",
       "    <tr>\n",
       "      <th>0</th>\n",
       "      <td>preprocessing_text_nltk_with_POS</td>\n",
       "      <td>79.589734</td>\n",
       "    </tr>\n",
       "    <tr>\n",
       "      <th>1</th>\n",
       "      <td>neg</td>\n",
       "      <td>5.075033</td>\n",
       "    </tr>\n",
       "    <tr>\n",
       "      <th>2</th>\n",
       "      <td>count_stop_words</td>\n",
       "      <td>4.417467</td>\n",
       "    </tr>\n",
       "    <tr>\n",
       "      <th>3</th>\n",
       "      <td>compound</td>\n",
       "      <td>3.448470</td>\n",
       "    </tr>\n",
       "    <tr>\n",
       "      <th>4</th>\n",
       "      <td>neu</td>\n",
       "      <td>2.723334</td>\n",
       "    </tr>\n",
       "    <tr>\n",
       "      <th>5</th>\n",
       "      <td>count_word_upper</td>\n",
       "      <td>2.655924</td>\n",
       "    </tr>\n",
       "    <tr>\n",
       "      <th>6</th>\n",
       "      <td>pos</td>\n",
       "      <td>1.227732</td>\n",
       "    </tr>\n",
       "    <tr>\n",
       "      <th>7</th>\n",
       "      <td>compound_binary</td>\n",
       "      <td>0.862306</td>\n",
       "    </tr>\n",
       "  </tbody>\n",
       "</table>\n",
       "</div>"
      ],
      "text/plain": [
       "                         Feature Id  Importances\n",
       "0  preprocessing_text_nltk_with_POS    79.589734\n",
       "1                               neg     5.075033\n",
       "2                  count_stop_words     4.417467\n",
       "3                          compound     3.448470\n",
       "4                               neu     2.723334\n",
       "5                  count_word_upper     2.655924\n",
       "6                               pos     1.227732\n",
       "7                   compound_binary     0.862306"
      ]
     },
     "execution_count": 99,
     "metadata": {},
     "output_type": "execute_result"
    }
   ],
   "source": [
    "model.get_feature_importance(prettified=True)"
   ]
  },
  {
   "cell_type": "markdown",
   "metadata": {},
   "source": [
    "<div class=\"alert alert-info\">\n",
    "    <br /> \n",
    "    <font size=\"3\", color = \"black\">\n",
    "<br />  \n",
    "       На данной модели удалось пробить метрику 0.75\n"
   ]
  },
  {
   "cell_type": "markdown",
   "metadata": {},
   "source": [
    "## CatBoost на очищенном и преобразованном тексте + (TF-IDF) "
   ]
  },
  {
   "cell_type": "markdown",
   "metadata": {},
   "source": [
    "Здесь уже необходимо использовать pipeline, чтобы избежать утечки данных на tf-idf"
   ]
  },
  {
   "cell_type": "code",
   "execution_count": 100,
   "metadata": {},
   "outputs": [
    {
     "data": {
      "text/html": [
       "<div>\n",
       "<style scoped>\n",
       "    .dataframe tbody tr th:only-of-type {\n",
       "        vertical-align: middle;\n",
       "    }\n",
       "\n",
       "    .dataframe tbody tr th {\n",
       "        vertical-align: top;\n",
       "    }\n",
       "\n",
       "    .dataframe thead th {\n",
       "        text-align: right;\n",
       "    }\n",
       "</style>\n",
       "<table border=\"1\" class=\"dataframe\">\n",
       "  <thead>\n",
       "    <tr style=\"text-align: right;\">\n",
       "      <th></th>\n",
       "      <th>text</th>\n",
       "      <th>toxic</th>\n",
       "      <th>neg</th>\n",
       "      <th>neu</th>\n",
       "      <th>pos</th>\n",
       "      <th>compound</th>\n",
       "      <th>compound_binary</th>\n",
       "      <th>count_stop_words</th>\n",
       "      <th>count_word_upper</th>\n",
       "      <th>lemm_text_spacy</th>\n",
       "      <th>preprocessing_text_nltk_with_POS</th>\n",
       "      <th>y_score</th>\n",
       "    </tr>\n",
       "  </thead>\n",
       "  <tbody>\n",
       "    <tr>\n",
       "      <th>14919</th>\n",
       "      <td>These four people include WLU, Ohnoitsjamie, Y...</td>\n",
       "      <td>0</td>\n",
       "      <td>0.113</td>\n",
       "      <td>0.805</td>\n",
       "      <td>0.082</td>\n",
       "      <td>-0.7791</td>\n",
       "      <td>0</td>\n",
       "      <td>108</td>\n",
       "      <td>35</td>\n",
       "      <td>people include wlu ohnoitsjamie yankees quarte...</td>\n",
       "      <td>people include wlu ohnoitsjamie yankees quarte...</td>\n",
       "      <td>0.064799</td>\n",
       "    </tr>\n",
       "    <tr>\n",
       "      <th>10460</th>\n",
       "      <td>I would like to reiterate my earlier demand as...</td>\n",
       "      <td>0</td>\n",
       "      <td>0.236</td>\n",
       "      <td>0.656</td>\n",
       "      <td>0.109</td>\n",
       "      <td>-0.8822</td>\n",
       "      <td>0</td>\n",
       "      <td>34</td>\n",
       "      <td>7</td>\n",
       "      <td>like reiterate earlier demand genuinely disenc...</td>\n",
       "      <td>like reiterate earlier demand genuinely disenc...</td>\n",
       "      <td>0.141624</td>\n",
       "    </tr>\n",
       "    <tr>\n",
       "      <th>9329</th>\n",
       "      <td>Sorry for discovering your comment https://en....</td>\n",
       "      <td>0</td>\n",
       "      <td>0.063</td>\n",
       "      <td>0.680</td>\n",
       "      <td>0.257</td>\n",
       "      <td>0.6124</td>\n",
       "      <td>1</td>\n",
       "      <td>6</td>\n",
       "      <td>3</td>\n",
       "      <td>sorry discovering comment https en wikipedia o...</td>\n",
       "      <td>sorry discover comment http en wikipedia org w...</td>\n",
       "      <td>0.014296</td>\n",
       "    </tr>\n",
       "    <tr>\n",
       "      <th>2746</th>\n",
       "      <td>| class=Stub | player=yes | needs-infobox=yes</td>\n",
       "      <td>0</td>\n",
       "      <td>0.000</td>\n",
       "      <td>1.000</td>\n",
       "      <td>0.000</td>\n",
       "      <td>0.0000</td>\n",
       "      <td>1</td>\n",
       "      <td>0</td>\n",
       "      <td>0</td>\n",
       "      <td>class stub player yes needs infobox yes</td>\n",
       "      <td>class stub player yes needs infobox yes</td>\n",
       "      <td>0.032396</td>\n",
       "    </tr>\n",
       "    <tr>\n",
       "      <th>10206</th>\n",
       "      <td>Cleanup tag\\nHi there,\\nDo you have any specif...</td>\n",
       "      <td>0</td>\n",
       "      <td>0.000</td>\n",
       "      <td>0.879</td>\n",
       "      <td>0.121</td>\n",
       "      <td>0.4404</td>\n",
       "      <td>1</td>\n",
       "      <td>7</td>\n",
       "      <td>5</td>\n",
       "      <td>cleanup tag hi specific suggestions salt earth...</td>\n",
       "      <td>cleanup tag hi specific suggestion salt earth ...</td>\n",
       "      <td>0.008187</td>\n",
       "    </tr>\n",
       "    <tr>\n",
       "      <th>...</th>\n",
       "      <td>...</td>\n",
       "      <td>...</td>\n",
       "      <td>...</td>\n",
       "      <td>...</td>\n",
       "      <td>...</td>\n",
       "      <td>...</td>\n",
       "      <td>...</td>\n",
       "      <td>...</td>\n",
       "      <td>...</td>\n",
       "      <td>...</td>\n",
       "      <td>...</td>\n",
       "      <td>...</td>\n",
       "    </tr>\n",
       "    <tr>\n",
       "      <th>6661</th>\n",
       "      <td>I've looked in my Dutch sources, but found no ...</td>\n",
       "      <td>0</td>\n",
       "      <td>0.059</td>\n",
       "      <td>0.893</td>\n",
       "      <td>0.048</td>\n",
       "      <td>-0.2235</td>\n",
       "      <td>0</td>\n",
       "      <td>31</td>\n",
       "      <td>14</td>\n",
       "      <td>looked dutch sources found mention giro consid...</td>\n",
       "      <td>look dutch source found mention giro consider ...</td>\n",
       "      <td>0.016892</td>\n",
       "    </tr>\n",
       "    <tr>\n",
       "      <th>14676</th>\n",
       "      <td>no abusing bots and stop being an idiot\\nthe p...</td>\n",
       "      <td>1</td>\n",
       "      <td>0.233</td>\n",
       "      <td>0.716</td>\n",
       "      <td>0.050</td>\n",
       "      <td>-0.8493</td>\n",
       "      <td>0</td>\n",
       "      <td>29</td>\n",
       "      <td>0</td>\n",
       "      <td>abusing bots stop idiot pedigree mislabeled de...</td>\n",
       "      <td>abuse bot stop idiot pedigree mislabeled defin...</td>\n",
       "      <td>0.987570</td>\n",
       "    </tr>\n",
       "    <tr>\n",
       "      <th>13694</th>\n",
       "      <td>\"\\nEditors are responsible for information the...</td>\n",
       "      <td>0</td>\n",
       "      <td>0.000</td>\n",
       "      <td>0.805</td>\n",
       "      <td>0.195</td>\n",
       "      <td>0.8910</td>\n",
       "      <td>1</td>\n",
       "      <td>28</td>\n",
       "      <td>6</td>\n",
       "      <td>editors responsible information add article in...</td>\n",
       "      <td>editor responsible information add article inf...</td>\n",
       "      <td>0.007550</td>\n",
       "    </tr>\n",
       "    <tr>\n",
       "      <th>7398</th>\n",
       "      <td>\"\\n\\nPostscript: In seriousness, I am all for ...</td>\n",
       "      <td>0</td>\n",
       "      <td>0.078</td>\n",
       "      <td>0.879</td>\n",
       "      <td>0.042</td>\n",
       "      <td>-0.0754</td>\n",
       "      <td>0</td>\n",
       "      <td>28</td>\n",
       "      <td>7</td>\n",
       "      <td>postscript seriousness keeping open mind think...</td>\n",
       "      <td>postscript seriousness keep open mind think wi...</td>\n",
       "      <td>0.018427</td>\n",
       "    </tr>\n",
       "    <tr>\n",
       "      <th>13729</th>\n",
       "      <td>\"\\n\\nI wasn't speaking of the Hebrew spellings...</td>\n",
       "      <td>0</td>\n",
       "      <td>0.039</td>\n",
       "      <td>0.900</td>\n",
       "      <td>0.061</td>\n",
       "      <td>0.3919</td>\n",
       "      <td>1</td>\n",
       "      <td>61</td>\n",
       "      <td>27</td>\n",
       "      <td>speaking hebrew spellings samael verses samuel...</td>\n",
       "      <td>speak hebrew spelling samael verse samuel way ...</td>\n",
       "      <td>0.016653</td>\n",
       "    </tr>\n",
       "  </tbody>\n",
       "</table>\n",
       "<p>16000 rows × 12 columns</p>\n",
       "</div>"
      ],
      "text/plain": [
       "                                                    text  toxic    neg    neu  \\\n",
       "14919  These four people include WLU, Ohnoitsjamie, Y...      0  0.113  0.805   \n",
       "10460  I would like to reiterate my earlier demand as...      0  0.236  0.656   \n",
       "9329   Sorry for discovering your comment https://en....      0  0.063  0.680   \n",
       "2746       | class=Stub | player=yes | needs-infobox=yes      0  0.000  1.000   \n",
       "10206  Cleanup tag\\nHi there,\\nDo you have any specif...      0  0.000  0.879   \n",
       "...                                                  ...    ...    ...    ...   \n",
       "6661   I've looked in my Dutch sources, but found no ...      0  0.059  0.893   \n",
       "14676  no abusing bots and stop being an idiot\\nthe p...      1  0.233  0.716   \n",
       "13694  \"\\nEditors are responsible for information the...      0  0.000  0.805   \n",
       "7398   \"\\n\\nPostscript: In seriousness, I am all for ...      0  0.078  0.879   \n",
       "13729  \"\\n\\nI wasn't speaking of the Hebrew spellings...      0  0.039  0.900   \n",
       "\n",
       "         pos  compound  compound_binary  count_stop_words  count_word_upper  \\\n",
       "14919  0.082   -0.7791                0               108                35   \n",
       "10460  0.109   -0.8822                0                34                 7   \n",
       "9329   0.257    0.6124                1                 6                 3   \n",
       "2746   0.000    0.0000                1                 0                 0   \n",
       "10206  0.121    0.4404                1                 7                 5   \n",
       "...      ...       ...              ...               ...               ...   \n",
       "6661   0.048   -0.2235                0                31                14   \n",
       "14676  0.050   -0.8493                0                29                 0   \n",
       "13694  0.195    0.8910                1                28                 6   \n",
       "7398   0.042   -0.0754                0                28                 7   \n",
       "13729  0.061    0.3919                1                61                27   \n",
       "\n",
       "                                         lemm_text_spacy  \\\n",
       "14919  people include wlu ohnoitsjamie yankees quarte...   \n",
       "10460  like reiterate earlier demand genuinely disenc...   \n",
       "9329   sorry discovering comment https en wikipedia o...   \n",
       "2746             class stub player yes needs infobox yes   \n",
       "10206  cleanup tag hi specific suggestions salt earth...   \n",
       "...                                                  ...   \n",
       "6661   looked dutch sources found mention giro consid...   \n",
       "14676  abusing bots stop idiot pedigree mislabeled de...   \n",
       "13694  editors responsible information add article in...   \n",
       "7398   postscript seriousness keeping open mind think...   \n",
       "13729  speaking hebrew spellings samael verses samuel...   \n",
       "\n",
       "                        preprocessing_text_nltk_with_POS   y_score  \n",
       "14919  people include wlu ohnoitsjamie yankees quarte...  0.064799  \n",
       "10460  like reiterate earlier demand genuinely disenc...  0.141624  \n",
       "9329   sorry discover comment http en wikipedia org w...  0.014296  \n",
       "2746             class stub player yes needs infobox yes  0.032396  \n",
       "10206  cleanup tag hi specific suggestion salt earth ...  0.008187  \n",
       "...                                                  ...       ...  \n",
       "6661   look dutch source found mention giro consider ...  0.016892  \n",
       "14676  abuse bot stop idiot pedigree mislabeled defin...  0.987570  \n",
       "13694  editor responsible information add article inf...  0.007550  \n",
       "7398   postscript seriousness keep open mind think wi...  0.018427  \n",
       "13729  speak hebrew spelling samael verse samuel way ...  0.016653  \n",
       "\n",
       "[16000 rows x 12 columns]"
      ]
     },
     "execution_count": 100,
     "metadata": {},
     "output_type": "execute_result"
    }
   ],
   "source": [
    "train"
   ]
  },
  {
   "cell_type": "code",
   "execution_count": 101,
   "metadata": {},
   "outputs": [
    {
     "data": {
      "text/plain": [
       "{'auto_class_weights': 'Balanced',\n",
       " 'eval_metric': 'AUC',\n",
       " 'verbose': 100,\n",
       " 'random_seed': 42,\n",
       " 'loss_function': 'Logloss',\n",
       " 'iterations': 992,\n",
       " 'early_stopping_rounds': 40}"
      ]
     },
     "execution_count": 101,
     "metadata": {},
     "output_type": "execute_result"
    }
   ],
   "source": [
    "params"
   ]
  },
  {
   "cell_type": "code",
   "execution_count": 102,
   "metadata": {},
   "outputs": [],
   "source": [
    "X = ['neg', 'neu', 'pos', 'compound',\n",
    "    'count_stop_words', 'count_word_upper',\n",
    "    'preprocessing_text_nltk_with_POS']\n",
    "y = ['toxic']"
   ]
  },
  {
   "cell_type": "code",
   "execution_count": 103,
   "metadata": {},
   "outputs": [],
   "source": [
    "params = {'auto_class_weights': 'Balanced',\n",
    " 'eval_metric': 'AUC',\n",
    " 'verbose': 100,\n",
    " 'random_seed': RANDOM_STATE,\n",
    " 'loss_function': 'Logloss',\n",
    " 'early_stopping_rounds': 40}"
   ]
  },
  {
   "cell_type": "code",
   "execution_count": 104,
   "metadata": {},
   "outputs": [],
   "source": [
    "numeric_feature = ['neg', 'neu', 'pos', 'compound',\n",
    "                  'count_stop_words', 'count_word_upper']\n",
    "\n",
    "text_features = ['preprocessing_text_nltk_with_POS']"
   ]
  },
  {
   "cell_type": "code",
   "execution_count": 105,
   "metadata": {},
   "outputs": [],
   "source": [
    "numeric_transformer = Pipeline(steps=[\n",
    "    ('scaler', StandardScaler())])\n",
    "\n",
    "text_transformer = Pipeline(steps=[\n",
    "    ('text', TfidfVectorizer())])\n",
    "\n",
    "\n",
    "preprocessor = ColumnTransformer(\n",
    "    transformers=[\n",
    "        ('num', numeric_transformer, numeric_feature),\n",
    "        ('text_feature', text_transformer, 'preprocessing_text_nltk_with_POS')], remainder = 'passthrough')\n",
    "\n",
    "\n",
    "pipe = Pipeline(steps=[\n",
    "    ('preprocessor_features', preprocessor),\n",
    "    ('catboost', CatBoostClassifier(**params))\n",
    "    \n",
    "])"
   ]
  },
  {
   "cell_type": "code",
   "execution_count": 106,
   "metadata": {},
   "outputs": [
    {
     "data": {
      "text/html": [
       "<style>#sk-container-id-1 {color: black;background-color: white;}#sk-container-id-1 pre{padding: 0;}#sk-container-id-1 div.sk-toggleable {background-color: white;}#sk-container-id-1 label.sk-toggleable__label {cursor: pointer;display: block;width: 100%;margin-bottom: 0;padding: 0.3em;box-sizing: border-box;text-align: center;}#sk-container-id-1 label.sk-toggleable__label-arrow:before {content: \"▸\";float: left;margin-right: 0.25em;color: #696969;}#sk-container-id-1 label.sk-toggleable__label-arrow:hover:before {color: black;}#sk-container-id-1 div.sk-estimator:hover label.sk-toggleable__label-arrow:before {color: black;}#sk-container-id-1 div.sk-toggleable__content {max-height: 0;max-width: 0;overflow: hidden;text-align: left;background-color: #f0f8ff;}#sk-container-id-1 div.sk-toggleable__content pre {margin: 0.2em;color: black;border-radius: 0.25em;background-color: #f0f8ff;}#sk-container-id-1 input.sk-toggleable__control:checked~div.sk-toggleable__content {max-height: 200px;max-width: 100%;overflow: auto;}#sk-container-id-1 input.sk-toggleable__control:checked~label.sk-toggleable__label-arrow:before {content: \"▾\";}#sk-container-id-1 div.sk-estimator input.sk-toggleable__control:checked~label.sk-toggleable__label {background-color: #d4ebff;}#sk-container-id-1 div.sk-label input.sk-toggleable__control:checked~label.sk-toggleable__label {background-color: #d4ebff;}#sk-container-id-1 input.sk-hidden--visually {border: 0;clip: rect(1px 1px 1px 1px);clip: rect(1px, 1px, 1px, 1px);height: 1px;margin: -1px;overflow: hidden;padding: 0;position: absolute;width: 1px;}#sk-container-id-1 div.sk-estimator {font-family: monospace;background-color: #f0f8ff;border: 1px dotted black;border-radius: 0.25em;box-sizing: border-box;margin-bottom: 0.5em;}#sk-container-id-1 div.sk-estimator:hover {background-color: #d4ebff;}#sk-container-id-1 div.sk-parallel-item::after {content: \"\";width: 100%;border-bottom: 1px solid gray;flex-grow: 1;}#sk-container-id-1 div.sk-label:hover label.sk-toggleable__label {background-color: #d4ebff;}#sk-container-id-1 div.sk-serial::before {content: \"\";position: absolute;border-left: 1px solid gray;box-sizing: border-box;top: 0;bottom: 0;left: 50%;z-index: 0;}#sk-container-id-1 div.sk-serial {display: flex;flex-direction: column;align-items: center;background-color: white;padding-right: 0.2em;padding-left: 0.2em;position: relative;}#sk-container-id-1 div.sk-item {position: relative;z-index: 1;}#sk-container-id-1 div.sk-parallel {display: flex;align-items: stretch;justify-content: center;background-color: white;position: relative;}#sk-container-id-1 div.sk-item::before, #sk-container-id-1 div.sk-parallel-item::before {content: \"\";position: absolute;border-left: 1px solid gray;box-sizing: border-box;top: 0;bottom: 0;left: 50%;z-index: -1;}#sk-container-id-1 div.sk-parallel-item {display: flex;flex-direction: column;z-index: 1;position: relative;background-color: white;}#sk-container-id-1 div.sk-parallel-item:first-child::after {align-self: flex-end;width: 50%;}#sk-container-id-1 div.sk-parallel-item:last-child::after {align-self: flex-start;width: 50%;}#sk-container-id-1 div.sk-parallel-item:only-child::after {width: 0;}#sk-container-id-1 div.sk-dashed-wrapped {border: 1px dashed gray;margin: 0 0.4em 0.5em 0.4em;box-sizing: border-box;padding-bottom: 0.4em;background-color: white;}#sk-container-id-1 div.sk-label label {font-family: monospace;font-weight: bold;display: inline-block;line-height: 1.2em;}#sk-container-id-1 div.sk-label-container {text-align: center;}#sk-container-id-1 div.sk-container {/* jupyter's `normalize.less` sets `[hidden] { display: none; }` but bootstrap.min.css set `[hidden] { display: none !important; }` so we also need the `!important` here to be able to override the default hidden behavior on the sphinx rendered scikit-learn.org. See: https://github.com/scikit-learn/scikit-learn/issues/21755 */display: inline-block !important;position: relative;}#sk-container-id-1 div.sk-text-repr-fallback {display: none;}</style><div id=\"sk-container-id-1\" class=\"sk-top-container\"><div class=\"sk-text-repr-fallback\"><pre>Pipeline(steps=[(&#x27;preprocessor_features&#x27;,\n",
       "                 ColumnTransformer(remainder=&#x27;passthrough&#x27;,\n",
       "                                   transformers=[(&#x27;num&#x27;,\n",
       "                                                  Pipeline(steps=[(&#x27;scaler&#x27;,\n",
       "                                                                   StandardScaler())]),\n",
       "                                                  [&#x27;neg&#x27;, &#x27;neu&#x27;, &#x27;pos&#x27;,\n",
       "                                                   &#x27;compound&#x27;,\n",
       "                                                   &#x27;count_stop_words&#x27;,\n",
       "                                                   &#x27;count_word_upper&#x27;]),\n",
       "                                                 (&#x27;text_feature&#x27;,\n",
       "                                                  Pipeline(steps=[(&#x27;text&#x27;,\n",
       "                                                                   TfidfVectorizer())]),\n",
       "                                                  &#x27;preprocessing_text_nltk_with_POS&#x27;)])),\n",
       "                (&#x27;catboost&#x27;,\n",
       "                 &lt;catboost.core.CatBoostClassifier object at 0x00000214C43A8520&gt;)])</pre><b>In a Jupyter environment, please rerun this cell to show the HTML representation or trust the notebook. <br />On GitHub, the HTML representation is unable to render, please try loading this page with nbviewer.org.</b></div><div class=\"sk-container\" hidden><div class=\"sk-item sk-dashed-wrapped\"><div class=\"sk-label-container\"><div class=\"sk-label sk-toggleable\"><input class=\"sk-toggleable__control sk-hidden--visually\" id=\"sk-estimator-id-1\" type=\"checkbox\" ><label for=\"sk-estimator-id-1\" class=\"sk-toggleable__label sk-toggleable__label-arrow\">Pipeline</label><div class=\"sk-toggleable__content\"><pre>Pipeline(steps=[(&#x27;preprocessor_features&#x27;,\n",
       "                 ColumnTransformer(remainder=&#x27;passthrough&#x27;,\n",
       "                                   transformers=[(&#x27;num&#x27;,\n",
       "                                                  Pipeline(steps=[(&#x27;scaler&#x27;,\n",
       "                                                                   StandardScaler())]),\n",
       "                                                  [&#x27;neg&#x27;, &#x27;neu&#x27;, &#x27;pos&#x27;,\n",
       "                                                   &#x27;compound&#x27;,\n",
       "                                                   &#x27;count_stop_words&#x27;,\n",
       "                                                   &#x27;count_word_upper&#x27;]),\n",
       "                                                 (&#x27;text_feature&#x27;,\n",
       "                                                  Pipeline(steps=[(&#x27;text&#x27;,\n",
       "                                                                   TfidfVectorizer())]),\n",
       "                                                  &#x27;preprocessing_text_nltk_with_POS&#x27;)])),\n",
       "                (&#x27;catboost&#x27;,\n",
       "                 &lt;catboost.core.CatBoostClassifier object at 0x00000214C43A8520&gt;)])</pre></div></div></div><div class=\"sk-serial\"><div class=\"sk-item sk-dashed-wrapped\"><div class=\"sk-label-container\"><div class=\"sk-label sk-toggleable\"><input class=\"sk-toggleable__control sk-hidden--visually\" id=\"sk-estimator-id-2\" type=\"checkbox\" ><label for=\"sk-estimator-id-2\" class=\"sk-toggleable__label sk-toggleable__label-arrow\">preprocessor_features: ColumnTransformer</label><div class=\"sk-toggleable__content\"><pre>ColumnTransformer(remainder=&#x27;passthrough&#x27;,\n",
       "                  transformers=[(&#x27;num&#x27;,\n",
       "                                 Pipeline(steps=[(&#x27;scaler&#x27;, StandardScaler())]),\n",
       "                                 [&#x27;neg&#x27;, &#x27;neu&#x27;, &#x27;pos&#x27;, &#x27;compound&#x27;,\n",
       "                                  &#x27;count_stop_words&#x27;, &#x27;count_word_upper&#x27;]),\n",
       "                                (&#x27;text_feature&#x27;,\n",
       "                                 Pipeline(steps=[(&#x27;text&#x27;, TfidfVectorizer())]),\n",
       "                                 &#x27;preprocessing_text_nltk_with_POS&#x27;)])</pre></div></div></div><div class=\"sk-parallel\"><div class=\"sk-parallel-item\"><div class=\"sk-item\"><div class=\"sk-label-container\"><div class=\"sk-label sk-toggleable\"><input class=\"sk-toggleable__control sk-hidden--visually\" id=\"sk-estimator-id-3\" type=\"checkbox\" ><label for=\"sk-estimator-id-3\" class=\"sk-toggleable__label sk-toggleable__label-arrow\">num</label><div class=\"sk-toggleable__content\"><pre>[&#x27;neg&#x27;, &#x27;neu&#x27;, &#x27;pos&#x27;, &#x27;compound&#x27;, &#x27;count_stop_words&#x27;, &#x27;count_word_upper&#x27;]</pre></div></div></div><div class=\"sk-serial\"><div class=\"sk-item\"><div class=\"sk-serial\"><div class=\"sk-item\"><div class=\"sk-estimator sk-toggleable\"><input class=\"sk-toggleable__control sk-hidden--visually\" id=\"sk-estimator-id-4\" type=\"checkbox\" ><label for=\"sk-estimator-id-4\" class=\"sk-toggleable__label sk-toggleable__label-arrow\">StandardScaler</label><div class=\"sk-toggleable__content\"><pre>StandardScaler()</pre></div></div></div></div></div></div></div></div><div class=\"sk-parallel-item\"><div class=\"sk-item\"><div class=\"sk-label-container\"><div class=\"sk-label sk-toggleable\"><input class=\"sk-toggleable__control sk-hidden--visually\" id=\"sk-estimator-id-5\" type=\"checkbox\" ><label for=\"sk-estimator-id-5\" class=\"sk-toggleable__label sk-toggleable__label-arrow\">text_feature</label><div class=\"sk-toggleable__content\"><pre>preprocessing_text_nltk_with_POS</pre></div></div></div><div class=\"sk-serial\"><div class=\"sk-item\"><div class=\"sk-serial\"><div class=\"sk-item\"><div class=\"sk-estimator sk-toggleable\"><input class=\"sk-toggleable__control sk-hidden--visually\" id=\"sk-estimator-id-6\" type=\"checkbox\" ><label for=\"sk-estimator-id-6\" class=\"sk-toggleable__label sk-toggleable__label-arrow\">TfidfVectorizer</label><div class=\"sk-toggleable__content\"><pre>TfidfVectorizer()</pre></div></div></div></div></div></div></div></div><div class=\"sk-parallel-item\"><div class=\"sk-item\"><div class=\"sk-label-container\"><div class=\"sk-label sk-toggleable\"><input class=\"sk-toggleable__control sk-hidden--visually\" id=\"sk-estimator-id-7\" type=\"checkbox\" ><label for=\"sk-estimator-id-7\" class=\"sk-toggleable__label sk-toggleable__label-arrow\">remainder</label><div class=\"sk-toggleable__content\"><pre></pre></div></div></div><div class=\"sk-serial\"><div class=\"sk-item\"><div class=\"sk-estimator sk-toggleable\"><input class=\"sk-toggleable__control sk-hidden--visually\" id=\"sk-estimator-id-8\" type=\"checkbox\" ><label for=\"sk-estimator-id-8\" class=\"sk-toggleable__label sk-toggleable__label-arrow\">passthrough</label><div class=\"sk-toggleable__content\"><pre>passthrough</pre></div></div></div></div></div></div></div></div><div class=\"sk-item\"><div class=\"sk-estimator sk-toggleable\"><input class=\"sk-toggleable__control sk-hidden--visually\" id=\"sk-estimator-id-9\" type=\"checkbox\" ><label for=\"sk-estimator-id-9\" class=\"sk-toggleable__label sk-toggleable__label-arrow\">CatBoostClassifier</label><div class=\"sk-toggleable__content\"><pre>&lt;catboost.core.CatBoostClassifier object at 0x00000214C43A8520&gt;</pre></div></div></div></div></div></div></div>"
      ],
      "text/plain": [
       "Pipeline(steps=[('preprocessor_features',\n",
       "                 ColumnTransformer(remainder='passthrough',\n",
       "                                   transformers=[('num',\n",
       "                                                  Pipeline(steps=[('scaler',\n",
       "                                                                   StandardScaler())]),\n",
       "                                                  ['neg', 'neu', 'pos',\n",
       "                                                   'compound',\n",
       "                                                   'count_stop_words',\n",
       "                                                   'count_word_upper']),\n",
       "                                                 ('text_feature',\n",
       "                                                  Pipeline(steps=[('text',\n",
       "                                                                   TfidfVectorizer())]),\n",
       "                                                  'preprocessing_text_nltk_with_POS')])),\n",
       "                ('catboost',\n",
       "                 <catboost.core.CatBoostClassifier object at 0x00000214C43A8520>)])"
      ]
     },
     "execution_count": 106,
     "metadata": {},
     "output_type": "execute_result"
    }
   ],
   "source": [
    "pipe"
   ]
  },
  {
   "cell_type": "code",
   "execution_count": 107,
   "metadata": {},
   "outputs": [
    {
     "name": "stdout",
     "output_type": "stream",
     "text": [
      "Learning rate set to 0.033658\n",
      "0:\ttotal: 191ms\tremaining: 3m 10s\n",
      "100:\ttotal: 18.7s\tremaining: 2m 46s\n",
      "200:\ttotal: 37.1s\tremaining: 2m 27s\n",
      "300:\ttotal: 55.5s\tremaining: 2m 8s\n",
      "400:\ttotal: 1m 14s\tremaining: 1m 50s\n",
      "500:\ttotal: 1m 32s\tremaining: 1m 32s\n",
      "600:\ttotal: 1m 51s\tremaining: 1m 13s\n",
      "700:\ttotal: 2m 9s\tremaining: 55.2s\n",
      "800:\ttotal: 2m 27s\tremaining: 36.7s\n",
      "900:\ttotal: 2m 46s\tremaining: 18.2s\n",
      "999:\ttotal: 3m 4s\tremaining: 0us\n"
     ]
    },
    {
     "data": {
      "text/html": [
       "<style>#sk-container-id-2 {color: black;background-color: white;}#sk-container-id-2 pre{padding: 0;}#sk-container-id-2 div.sk-toggleable {background-color: white;}#sk-container-id-2 label.sk-toggleable__label {cursor: pointer;display: block;width: 100%;margin-bottom: 0;padding: 0.3em;box-sizing: border-box;text-align: center;}#sk-container-id-2 label.sk-toggleable__label-arrow:before {content: \"▸\";float: left;margin-right: 0.25em;color: #696969;}#sk-container-id-2 label.sk-toggleable__label-arrow:hover:before {color: black;}#sk-container-id-2 div.sk-estimator:hover label.sk-toggleable__label-arrow:before {color: black;}#sk-container-id-2 div.sk-toggleable__content {max-height: 0;max-width: 0;overflow: hidden;text-align: left;background-color: #f0f8ff;}#sk-container-id-2 div.sk-toggleable__content pre {margin: 0.2em;color: black;border-radius: 0.25em;background-color: #f0f8ff;}#sk-container-id-2 input.sk-toggleable__control:checked~div.sk-toggleable__content {max-height: 200px;max-width: 100%;overflow: auto;}#sk-container-id-2 input.sk-toggleable__control:checked~label.sk-toggleable__label-arrow:before {content: \"▾\";}#sk-container-id-2 div.sk-estimator input.sk-toggleable__control:checked~label.sk-toggleable__label {background-color: #d4ebff;}#sk-container-id-2 div.sk-label input.sk-toggleable__control:checked~label.sk-toggleable__label {background-color: #d4ebff;}#sk-container-id-2 input.sk-hidden--visually {border: 0;clip: rect(1px 1px 1px 1px);clip: rect(1px, 1px, 1px, 1px);height: 1px;margin: -1px;overflow: hidden;padding: 0;position: absolute;width: 1px;}#sk-container-id-2 div.sk-estimator {font-family: monospace;background-color: #f0f8ff;border: 1px dotted black;border-radius: 0.25em;box-sizing: border-box;margin-bottom: 0.5em;}#sk-container-id-2 div.sk-estimator:hover {background-color: #d4ebff;}#sk-container-id-2 div.sk-parallel-item::after {content: \"\";width: 100%;border-bottom: 1px solid gray;flex-grow: 1;}#sk-container-id-2 div.sk-label:hover label.sk-toggleable__label {background-color: #d4ebff;}#sk-container-id-2 div.sk-serial::before {content: \"\";position: absolute;border-left: 1px solid gray;box-sizing: border-box;top: 0;bottom: 0;left: 50%;z-index: 0;}#sk-container-id-2 div.sk-serial {display: flex;flex-direction: column;align-items: center;background-color: white;padding-right: 0.2em;padding-left: 0.2em;position: relative;}#sk-container-id-2 div.sk-item {position: relative;z-index: 1;}#sk-container-id-2 div.sk-parallel {display: flex;align-items: stretch;justify-content: center;background-color: white;position: relative;}#sk-container-id-2 div.sk-item::before, #sk-container-id-2 div.sk-parallel-item::before {content: \"\";position: absolute;border-left: 1px solid gray;box-sizing: border-box;top: 0;bottom: 0;left: 50%;z-index: -1;}#sk-container-id-2 div.sk-parallel-item {display: flex;flex-direction: column;z-index: 1;position: relative;background-color: white;}#sk-container-id-2 div.sk-parallel-item:first-child::after {align-self: flex-end;width: 50%;}#sk-container-id-2 div.sk-parallel-item:last-child::after {align-self: flex-start;width: 50%;}#sk-container-id-2 div.sk-parallel-item:only-child::after {width: 0;}#sk-container-id-2 div.sk-dashed-wrapped {border: 1px dashed gray;margin: 0 0.4em 0.5em 0.4em;box-sizing: border-box;padding-bottom: 0.4em;background-color: white;}#sk-container-id-2 div.sk-label label {font-family: monospace;font-weight: bold;display: inline-block;line-height: 1.2em;}#sk-container-id-2 div.sk-label-container {text-align: center;}#sk-container-id-2 div.sk-container {/* jupyter's `normalize.less` sets `[hidden] { display: none; }` but bootstrap.min.css set `[hidden] { display: none !important; }` so we also need the `!important` here to be able to override the default hidden behavior on the sphinx rendered scikit-learn.org. See: https://github.com/scikit-learn/scikit-learn/issues/21755 */display: inline-block !important;position: relative;}#sk-container-id-2 div.sk-text-repr-fallback {display: none;}</style><div id=\"sk-container-id-2\" class=\"sk-top-container\"><div class=\"sk-text-repr-fallback\"><pre>Pipeline(steps=[(&#x27;preprocessor_features&#x27;,\n",
       "                 ColumnTransformer(remainder=&#x27;passthrough&#x27;,\n",
       "                                   transformers=[(&#x27;num&#x27;,\n",
       "                                                  Pipeline(steps=[(&#x27;scaler&#x27;,\n",
       "                                                                   StandardScaler())]),\n",
       "                                                  [&#x27;neg&#x27;, &#x27;neu&#x27;, &#x27;pos&#x27;,\n",
       "                                                   &#x27;compound&#x27;,\n",
       "                                                   &#x27;count_stop_words&#x27;,\n",
       "                                                   &#x27;count_word_upper&#x27;]),\n",
       "                                                 (&#x27;text_feature&#x27;,\n",
       "                                                  Pipeline(steps=[(&#x27;text&#x27;,\n",
       "                                                                   TfidfVectorizer())]),\n",
       "                                                  &#x27;preprocessing_text_nltk_with_POS&#x27;)])),\n",
       "                (&#x27;catboost&#x27;,\n",
       "                 &lt;catboost.core.CatBoostClassifier object at 0x00000214C43A8520&gt;)])</pre><b>In a Jupyter environment, please rerun this cell to show the HTML representation or trust the notebook. <br />On GitHub, the HTML representation is unable to render, please try loading this page with nbviewer.org.</b></div><div class=\"sk-container\" hidden><div class=\"sk-item sk-dashed-wrapped\"><div class=\"sk-label-container\"><div class=\"sk-label sk-toggleable\"><input class=\"sk-toggleable__control sk-hidden--visually\" id=\"sk-estimator-id-10\" type=\"checkbox\" ><label for=\"sk-estimator-id-10\" class=\"sk-toggleable__label sk-toggleable__label-arrow\">Pipeline</label><div class=\"sk-toggleable__content\"><pre>Pipeline(steps=[(&#x27;preprocessor_features&#x27;,\n",
       "                 ColumnTransformer(remainder=&#x27;passthrough&#x27;,\n",
       "                                   transformers=[(&#x27;num&#x27;,\n",
       "                                                  Pipeline(steps=[(&#x27;scaler&#x27;,\n",
       "                                                                   StandardScaler())]),\n",
       "                                                  [&#x27;neg&#x27;, &#x27;neu&#x27;, &#x27;pos&#x27;,\n",
       "                                                   &#x27;compound&#x27;,\n",
       "                                                   &#x27;count_stop_words&#x27;,\n",
       "                                                   &#x27;count_word_upper&#x27;]),\n",
       "                                                 (&#x27;text_feature&#x27;,\n",
       "                                                  Pipeline(steps=[(&#x27;text&#x27;,\n",
       "                                                                   TfidfVectorizer())]),\n",
       "                                                  &#x27;preprocessing_text_nltk_with_POS&#x27;)])),\n",
       "                (&#x27;catboost&#x27;,\n",
       "                 &lt;catboost.core.CatBoostClassifier object at 0x00000214C43A8520&gt;)])</pre></div></div></div><div class=\"sk-serial\"><div class=\"sk-item sk-dashed-wrapped\"><div class=\"sk-label-container\"><div class=\"sk-label sk-toggleable\"><input class=\"sk-toggleable__control sk-hidden--visually\" id=\"sk-estimator-id-11\" type=\"checkbox\" ><label for=\"sk-estimator-id-11\" class=\"sk-toggleable__label sk-toggleable__label-arrow\">preprocessor_features: ColumnTransformer</label><div class=\"sk-toggleable__content\"><pre>ColumnTransformer(remainder=&#x27;passthrough&#x27;,\n",
       "                  transformers=[(&#x27;num&#x27;,\n",
       "                                 Pipeline(steps=[(&#x27;scaler&#x27;, StandardScaler())]),\n",
       "                                 [&#x27;neg&#x27;, &#x27;neu&#x27;, &#x27;pos&#x27;, &#x27;compound&#x27;,\n",
       "                                  &#x27;count_stop_words&#x27;, &#x27;count_word_upper&#x27;]),\n",
       "                                (&#x27;text_feature&#x27;,\n",
       "                                 Pipeline(steps=[(&#x27;text&#x27;, TfidfVectorizer())]),\n",
       "                                 &#x27;preprocessing_text_nltk_with_POS&#x27;)])</pre></div></div></div><div class=\"sk-parallel\"><div class=\"sk-parallel-item\"><div class=\"sk-item\"><div class=\"sk-label-container\"><div class=\"sk-label sk-toggleable\"><input class=\"sk-toggleable__control sk-hidden--visually\" id=\"sk-estimator-id-12\" type=\"checkbox\" ><label for=\"sk-estimator-id-12\" class=\"sk-toggleable__label sk-toggleable__label-arrow\">num</label><div class=\"sk-toggleable__content\"><pre>[&#x27;neg&#x27;, &#x27;neu&#x27;, &#x27;pos&#x27;, &#x27;compound&#x27;, &#x27;count_stop_words&#x27;, &#x27;count_word_upper&#x27;]</pre></div></div></div><div class=\"sk-serial\"><div class=\"sk-item\"><div class=\"sk-serial\"><div class=\"sk-item\"><div class=\"sk-estimator sk-toggleable\"><input class=\"sk-toggleable__control sk-hidden--visually\" id=\"sk-estimator-id-13\" type=\"checkbox\" ><label for=\"sk-estimator-id-13\" class=\"sk-toggleable__label sk-toggleable__label-arrow\">StandardScaler</label><div class=\"sk-toggleable__content\"><pre>StandardScaler()</pre></div></div></div></div></div></div></div></div><div class=\"sk-parallel-item\"><div class=\"sk-item\"><div class=\"sk-label-container\"><div class=\"sk-label sk-toggleable\"><input class=\"sk-toggleable__control sk-hidden--visually\" id=\"sk-estimator-id-14\" type=\"checkbox\" ><label for=\"sk-estimator-id-14\" class=\"sk-toggleable__label sk-toggleable__label-arrow\">text_feature</label><div class=\"sk-toggleable__content\"><pre>preprocessing_text_nltk_with_POS</pre></div></div></div><div class=\"sk-serial\"><div class=\"sk-item\"><div class=\"sk-serial\"><div class=\"sk-item\"><div class=\"sk-estimator sk-toggleable\"><input class=\"sk-toggleable__control sk-hidden--visually\" id=\"sk-estimator-id-15\" type=\"checkbox\" ><label for=\"sk-estimator-id-15\" class=\"sk-toggleable__label sk-toggleable__label-arrow\">TfidfVectorizer</label><div class=\"sk-toggleable__content\"><pre>TfidfVectorizer()</pre></div></div></div></div></div></div></div></div><div class=\"sk-parallel-item\"><div class=\"sk-item\"><div class=\"sk-label-container\"><div class=\"sk-label sk-toggleable\"><input class=\"sk-toggleable__control sk-hidden--visually\" id=\"sk-estimator-id-16\" type=\"checkbox\" ><label for=\"sk-estimator-id-16\" class=\"sk-toggleable__label sk-toggleable__label-arrow\">remainder</label><div class=\"sk-toggleable__content\"><pre>[]</pre></div></div></div><div class=\"sk-serial\"><div class=\"sk-item\"><div class=\"sk-estimator sk-toggleable\"><input class=\"sk-toggleable__control sk-hidden--visually\" id=\"sk-estimator-id-17\" type=\"checkbox\" ><label for=\"sk-estimator-id-17\" class=\"sk-toggleable__label sk-toggleable__label-arrow\">passthrough</label><div class=\"sk-toggleable__content\"><pre>passthrough</pre></div></div></div></div></div></div></div></div><div class=\"sk-item\"><div class=\"sk-estimator sk-toggleable\"><input class=\"sk-toggleable__control sk-hidden--visually\" id=\"sk-estimator-id-18\" type=\"checkbox\" ><label for=\"sk-estimator-id-18\" class=\"sk-toggleable__label sk-toggleable__label-arrow\">CatBoostClassifier</label><div class=\"sk-toggleable__content\"><pre>&lt;catboost.core.CatBoostClassifier object at 0x00000214C43A8520&gt;</pre></div></div></div></div></div></div></div>"
      ],
      "text/plain": [
       "Pipeline(steps=[('preprocessor_features',\n",
       "                 ColumnTransformer(remainder='passthrough',\n",
       "                                   transformers=[('num',\n",
       "                                                  Pipeline(steps=[('scaler',\n",
       "                                                                   StandardScaler())]),\n",
       "                                                  ['neg', 'neu', 'pos',\n",
       "                                                   'compound',\n",
       "                                                   'count_stop_words',\n",
       "                                                   'count_word_upper']),\n",
       "                                                 ('text_feature',\n",
       "                                                  Pipeline(steps=[('text',\n",
       "                                                                   TfidfVectorizer())]),\n",
       "                                                  'preprocessing_text_nltk_with_POS')])),\n",
       "                ('catboost',\n",
       "                 <catboost.core.CatBoostClassifier object at 0x00000214C43A8520>)])"
      ]
     },
     "execution_count": 107,
     "metadata": {},
     "output_type": "execute_result"
    }
   ],
   "source": [
    "pipe.fit(train[X], train[y])"
   ]
  },
  {
   "cell_type": "code",
   "execution_count": 108,
   "metadata": {},
   "outputs": [
    {
     "data": {
      "text/plain": [
       "0.8145580589254765"
      ]
     },
     "execution_count": 108,
     "metadata": {},
     "output_type": "execute_result"
    }
   ],
   "source": [
    "f1_score(pipe.predict(train[X]), train['toxic'])"
   ]
  },
  {
   "cell_type": "markdown",
   "metadata": {},
   "source": [
    "**Попробуем улучшить метрику f1, подобрав нужный порог!**"
   ]
  },
  {
   "cell_type": "code",
   "execution_count": 109,
   "metadata": {},
   "outputs": [],
   "source": [
    "train['y_score'] = pipe.predict_proba(train[X])[:, 1]"
   ]
  },
  {
   "cell_type": "code",
   "execution_count": 110,
   "metadata": {},
   "outputs": [],
   "source": [
    "y_scores_thrasholds = np.linspace(0, 1, num=101)\n",
    "f1_scores = []\n",
    "\n",
    "for thrashholds in y_scores_thrasholds:\n",
    "    y_pred = (train['y_score'] >= thrashholds).astype(int)\n",
    "    f1 = f1_score(train['toxic'], y_pred)\n",
    "    f1_scores.append(f1)\n",
    "    \n",
    "results_df = pd.DataFrame({'thrashholds' : y_scores_thrasholds, \n",
    "                          'f1' : f1_scores})\n",
    "    \n"
   ]
  },
  {
   "cell_type": "markdown",
   "metadata": {},
   "source": [
    "Максимальная метрика f1 на train при пороге:"
   ]
  },
  {
   "cell_type": "code",
   "execution_count": 111,
   "metadata": {},
   "outputs": [
    {
     "data": {
      "text/plain": [
       "thrashholds    0.540000\n",
       "f1             0.842267\n",
       "Name: 54, dtype: float64"
      ]
     },
     "execution_count": 111,
     "metadata": {},
     "output_type": "execute_result"
    }
   ],
   "source": [
    "max_f1_row = results_df.loc[results_df['f1'].idxmax()]\n",
    "max_f1_row"
   ]
  },
  {
   "cell_type": "code",
   "execution_count": 112,
   "metadata": {},
   "outputs": [
    {
     "data": {
      "text/plain": [
       "0.54"
      ]
     },
     "execution_count": 112,
     "metadata": {},
     "output_type": "execute_result"
    }
   ],
   "source": [
    "best_thrash = max_f1_row['thrashholds']\n",
    "best_thrash"
   ]
  },
  {
   "cell_type": "markdown",
   "metadata": {},
   "source": [
    "**Интересно проверить как порог покажет себя на неизвестной ему выборке:**"
   ]
  },
  {
   "cell_type": "code",
   "execution_count": 113,
   "metadata": {},
   "outputs": [
    {
     "data": {
      "text/plain": [
       "0.7272727272727272"
      ]
     },
     "execution_count": 113,
     "metadata": {},
     "output_type": "execute_result"
    }
   ],
   "source": [
    "f1_score((model.predict_proba(test[feature])[:, 1] > best_thrash)*1, test['toxic'])"
   ]
  },
  {
   "cell_type": "markdown",
   "metadata": {},
   "source": [
    "<div class=\"alert alert-info\">\n",
    "    <br /> \n",
    "    <font size=\"3\", color = \"black\">\n",
    "<br />  \n",
    "       На данном модели удалось пробить метрику 0.75"
   ]
  },
  {
   "cell_type": "markdown",
   "metadata": {},
   "source": [
    "## Логистическая регрессия (TF-IDF)"
   ]
  },
  {
   "cell_type": "code",
   "execution_count": 114,
   "metadata": {},
   "outputs": [],
   "source": [
    "X = ['neg', 'neu', 'pos', 'compound',\n",
    "    'count_stop_words', 'count_word_upper',\n",
    "    'preprocessing_text_nltk_with_POS']\n",
    "y = ['toxic']"
   ]
  },
  {
   "cell_type": "code",
   "execution_count": 115,
   "metadata": {},
   "outputs": [],
   "source": [
    "numeric_feature = ['neg', 'neu', 'pos', 'compound',\n",
    "                  'count_stop_words', 'count_word_upper']\n",
    "\n",
    "text_features = ['preprocessing_text_nltk_with_POS']"
   ]
  },
  {
   "cell_type": "code",
   "execution_count": 116,
   "metadata": {},
   "outputs": [],
   "source": [
    "numeric_transformer = Pipeline(steps=[\n",
    "    ('scaler', StandardScaler())])\n",
    "\n",
    "text_transformer = Pipeline(steps=[\n",
    "    ('text', TfidfVectorizer())])\n",
    "\n",
    "\n",
    "preprocessor = ColumnTransformer(\n",
    "    transformers=[\n",
    "        ('num', numeric_transformer, numeric_feature),\n",
    "        ('text_feature', text_transformer, 'preprocessing_text_nltk_with_POS')], remainder = 'passthrough')\n",
    "\n",
    "\n",
    "pipe = Pipeline(steps=[\n",
    "    ('preprocessor_features', preprocessor),\n",
    "    ('logreg', LogisticRegression(random_state=RANDOM_STATE))\n",
    "    \n",
    "])"
   ]
  },
  {
   "cell_type": "code",
   "execution_count": 117,
   "metadata": {},
   "outputs": [
    {
     "data": {
      "text/html": [
       "<style>#sk-container-id-3 {color: black;background-color: white;}#sk-container-id-3 pre{padding: 0;}#sk-container-id-3 div.sk-toggleable {background-color: white;}#sk-container-id-3 label.sk-toggleable__label {cursor: pointer;display: block;width: 100%;margin-bottom: 0;padding: 0.3em;box-sizing: border-box;text-align: center;}#sk-container-id-3 label.sk-toggleable__label-arrow:before {content: \"▸\";float: left;margin-right: 0.25em;color: #696969;}#sk-container-id-3 label.sk-toggleable__label-arrow:hover:before {color: black;}#sk-container-id-3 div.sk-estimator:hover label.sk-toggleable__label-arrow:before {color: black;}#sk-container-id-3 div.sk-toggleable__content {max-height: 0;max-width: 0;overflow: hidden;text-align: left;background-color: #f0f8ff;}#sk-container-id-3 div.sk-toggleable__content pre {margin: 0.2em;color: black;border-radius: 0.25em;background-color: #f0f8ff;}#sk-container-id-3 input.sk-toggleable__control:checked~div.sk-toggleable__content {max-height: 200px;max-width: 100%;overflow: auto;}#sk-container-id-3 input.sk-toggleable__control:checked~label.sk-toggleable__label-arrow:before {content: \"▾\";}#sk-container-id-3 div.sk-estimator input.sk-toggleable__control:checked~label.sk-toggleable__label {background-color: #d4ebff;}#sk-container-id-3 div.sk-label input.sk-toggleable__control:checked~label.sk-toggleable__label {background-color: #d4ebff;}#sk-container-id-3 input.sk-hidden--visually {border: 0;clip: rect(1px 1px 1px 1px);clip: rect(1px, 1px, 1px, 1px);height: 1px;margin: -1px;overflow: hidden;padding: 0;position: absolute;width: 1px;}#sk-container-id-3 div.sk-estimator {font-family: monospace;background-color: #f0f8ff;border: 1px dotted black;border-radius: 0.25em;box-sizing: border-box;margin-bottom: 0.5em;}#sk-container-id-3 div.sk-estimator:hover {background-color: #d4ebff;}#sk-container-id-3 div.sk-parallel-item::after {content: \"\";width: 100%;border-bottom: 1px solid gray;flex-grow: 1;}#sk-container-id-3 div.sk-label:hover label.sk-toggleable__label {background-color: #d4ebff;}#sk-container-id-3 div.sk-serial::before {content: \"\";position: absolute;border-left: 1px solid gray;box-sizing: border-box;top: 0;bottom: 0;left: 50%;z-index: 0;}#sk-container-id-3 div.sk-serial {display: flex;flex-direction: column;align-items: center;background-color: white;padding-right: 0.2em;padding-left: 0.2em;position: relative;}#sk-container-id-3 div.sk-item {position: relative;z-index: 1;}#sk-container-id-3 div.sk-parallel {display: flex;align-items: stretch;justify-content: center;background-color: white;position: relative;}#sk-container-id-3 div.sk-item::before, #sk-container-id-3 div.sk-parallel-item::before {content: \"\";position: absolute;border-left: 1px solid gray;box-sizing: border-box;top: 0;bottom: 0;left: 50%;z-index: -1;}#sk-container-id-3 div.sk-parallel-item {display: flex;flex-direction: column;z-index: 1;position: relative;background-color: white;}#sk-container-id-3 div.sk-parallel-item:first-child::after {align-self: flex-end;width: 50%;}#sk-container-id-3 div.sk-parallel-item:last-child::after {align-self: flex-start;width: 50%;}#sk-container-id-3 div.sk-parallel-item:only-child::after {width: 0;}#sk-container-id-3 div.sk-dashed-wrapped {border: 1px dashed gray;margin: 0 0.4em 0.5em 0.4em;box-sizing: border-box;padding-bottom: 0.4em;background-color: white;}#sk-container-id-3 div.sk-label label {font-family: monospace;font-weight: bold;display: inline-block;line-height: 1.2em;}#sk-container-id-3 div.sk-label-container {text-align: center;}#sk-container-id-3 div.sk-container {/* jupyter's `normalize.less` sets `[hidden] { display: none; }` but bootstrap.min.css set `[hidden] { display: none !important; }` so we also need the `!important` here to be able to override the default hidden behavior on the sphinx rendered scikit-learn.org. See: https://github.com/scikit-learn/scikit-learn/issues/21755 */display: inline-block !important;position: relative;}#sk-container-id-3 div.sk-text-repr-fallback {display: none;}</style><div id=\"sk-container-id-3\" class=\"sk-top-container\"><div class=\"sk-text-repr-fallback\"><pre>Pipeline(steps=[(&#x27;preprocessor_features&#x27;,\n",
       "                 ColumnTransformer(remainder=&#x27;passthrough&#x27;,\n",
       "                                   transformers=[(&#x27;num&#x27;,\n",
       "                                                  Pipeline(steps=[(&#x27;scaler&#x27;,\n",
       "                                                                   StandardScaler())]),\n",
       "                                                  [&#x27;neg&#x27;, &#x27;neu&#x27;, &#x27;pos&#x27;,\n",
       "                                                   &#x27;compound&#x27;,\n",
       "                                                   &#x27;count_stop_words&#x27;,\n",
       "                                                   &#x27;count_word_upper&#x27;]),\n",
       "                                                 (&#x27;text_feature&#x27;,\n",
       "                                                  Pipeline(steps=[(&#x27;text&#x27;,\n",
       "                                                                   TfidfVectorizer())]),\n",
       "                                                  &#x27;preprocessing_text_nltk_with_POS&#x27;)])),\n",
       "                (&#x27;logreg&#x27;, LogisticRegression(random_state=42))])</pre><b>In a Jupyter environment, please rerun this cell to show the HTML representation or trust the notebook. <br />On GitHub, the HTML representation is unable to render, please try loading this page with nbviewer.org.</b></div><div class=\"sk-container\" hidden><div class=\"sk-item sk-dashed-wrapped\"><div class=\"sk-label-container\"><div class=\"sk-label sk-toggleable\"><input class=\"sk-toggleable__control sk-hidden--visually\" id=\"sk-estimator-id-19\" type=\"checkbox\" ><label for=\"sk-estimator-id-19\" class=\"sk-toggleable__label sk-toggleable__label-arrow\">Pipeline</label><div class=\"sk-toggleable__content\"><pre>Pipeline(steps=[(&#x27;preprocessor_features&#x27;,\n",
       "                 ColumnTransformer(remainder=&#x27;passthrough&#x27;,\n",
       "                                   transformers=[(&#x27;num&#x27;,\n",
       "                                                  Pipeline(steps=[(&#x27;scaler&#x27;,\n",
       "                                                                   StandardScaler())]),\n",
       "                                                  [&#x27;neg&#x27;, &#x27;neu&#x27;, &#x27;pos&#x27;,\n",
       "                                                   &#x27;compound&#x27;,\n",
       "                                                   &#x27;count_stop_words&#x27;,\n",
       "                                                   &#x27;count_word_upper&#x27;]),\n",
       "                                                 (&#x27;text_feature&#x27;,\n",
       "                                                  Pipeline(steps=[(&#x27;text&#x27;,\n",
       "                                                                   TfidfVectorizer())]),\n",
       "                                                  &#x27;preprocessing_text_nltk_with_POS&#x27;)])),\n",
       "                (&#x27;logreg&#x27;, LogisticRegression(random_state=42))])</pre></div></div></div><div class=\"sk-serial\"><div class=\"sk-item sk-dashed-wrapped\"><div class=\"sk-label-container\"><div class=\"sk-label sk-toggleable\"><input class=\"sk-toggleable__control sk-hidden--visually\" id=\"sk-estimator-id-20\" type=\"checkbox\" ><label for=\"sk-estimator-id-20\" class=\"sk-toggleable__label sk-toggleable__label-arrow\">preprocessor_features: ColumnTransformer</label><div class=\"sk-toggleable__content\"><pre>ColumnTransformer(remainder=&#x27;passthrough&#x27;,\n",
       "                  transformers=[(&#x27;num&#x27;,\n",
       "                                 Pipeline(steps=[(&#x27;scaler&#x27;, StandardScaler())]),\n",
       "                                 [&#x27;neg&#x27;, &#x27;neu&#x27;, &#x27;pos&#x27;, &#x27;compound&#x27;,\n",
       "                                  &#x27;count_stop_words&#x27;, &#x27;count_word_upper&#x27;]),\n",
       "                                (&#x27;text_feature&#x27;,\n",
       "                                 Pipeline(steps=[(&#x27;text&#x27;, TfidfVectorizer())]),\n",
       "                                 &#x27;preprocessing_text_nltk_with_POS&#x27;)])</pre></div></div></div><div class=\"sk-parallel\"><div class=\"sk-parallel-item\"><div class=\"sk-item\"><div class=\"sk-label-container\"><div class=\"sk-label sk-toggleable\"><input class=\"sk-toggleable__control sk-hidden--visually\" id=\"sk-estimator-id-21\" type=\"checkbox\" ><label for=\"sk-estimator-id-21\" class=\"sk-toggleable__label sk-toggleable__label-arrow\">num</label><div class=\"sk-toggleable__content\"><pre>[&#x27;neg&#x27;, &#x27;neu&#x27;, &#x27;pos&#x27;, &#x27;compound&#x27;, &#x27;count_stop_words&#x27;, &#x27;count_word_upper&#x27;]</pre></div></div></div><div class=\"sk-serial\"><div class=\"sk-item\"><div class=\"sk-serial\"><div class=\"sk-item\"><div class=\"sk-estimator sk-toggleable\"><input class=\"sk-toggleable__control sk-hidden--visually\" id=\"sk-estimator-id-22\" type=\"checkbox\" ><label for=\"sk-estimator-id-22\" class=\"sk-toggleable__label sk-toggleable__label-arrow\">StandardScaler</label><div class=\"sk-toggleable__content\"><pre>StandardScaler()</pre></div></div></div></div></div></div></div></div><div class=\"sk-parallel-item\"><div class=\"sk-item\"><div class=\"sk-label-container\"><div class=\"sk-label sk-toggleable\"><input class=\"sk-toggleable__control sk-hidden--visually\" id=\"sk-estimator-id-23\" type=\"checkbox\" ><label for=\"sk-estimator-id-23\" class=\"sk-toggleable__label sk-toggleable__label-arrow\">text_feature</label><div class=\"sk-toggleable__content\"><pre>preprocessing_text_nltk_with_POS</pre></div></div></div><div class=\"sk-serial\"><div class=\"sk-item\"><div class=\"sk-serial\"><div class=\"sk-item\"><div class=\"sk-estimator sk-toggleable\"><input class=\"sk-toggleable__control sk-hidden--visually\" id=\"sk-estimator-id-24\" type=\"checkbox\" ><label for=\"sk-estimator-id-24\" class=\"sk-toggleable__label sk-toggleable__label-arrow\">TfidfVectorizer</label><div class=\"sk-toggleable__content\"><pre>TfidfVectorizer()</pre></div></div></div></div></div></div></div></div><div class=\"sk-parallel-item\"><div class=\"sk-item\"><div class=\"sk-label-container\"><div class=\"sk-label sk-toggleable\"><input class=\"sk-toggleable__control sk-hidden--visually\" id=\"sk-estimator-id-25\" type=\"checkbox\" ><label for=\"sk-estimator-id-25\" class=\"sk-toggleable__label sk-toggleable__label-arrow\">remainder</label><div class=\"sk-toggleable__content\"><pre></pre></div></div></div><div class=\"sk-serial\"><div class=\"sk-item\"><div class=\"sk-estimator sk-toggleable\"><input class=\"sk-toggleable__control sk-hidden--visually\" id=\"sk-estimator-id-26\" type=\"checkbox\" ><label for=\"sk-estimator-id-26\" class=\"sk-toggleable__label sk-toggleable__label-arrow\">passthrough</label><div class=\"sk-toggleable__content\"><pre>passthrough</pre></div></div></div></div></div></div></div></div><div class=\"sk-item\"><div class=\"sk-estimator sk-toggleable\"><input class=\"sk-toggleable__control sk-hidden--visually\" id=\"sk-estimator-id-27\" type=\"checkbox\" ><label for=\"sk-estimator-id-27\" class=\"sk-toggleable__label sk-toggleable__label-arrow\">LogisticRegression</label><div class=\"sk-toggleable__content\"><pre>LogisticRegression(random_state=42)</pre></div></div></div></div></div></div></div>"
      ],
      "text/plain": [
       "Pipeline(steps=[('preprocessor_features',\n",
       "                 ColumnTransformer(remainder='passthrough',\n",
       "                                   transformers=[('num',\n",
       "                                                  Pipeline(steps=[('scaler',\n",
       "                                                                   StandardScaler())]),\n",
       "                                                  ['neg', 'neu', 'pos',\n",
       "                                                   'compound',\n",
       "                                                   'count_stop_words',\n",
       "                                                   'count_word_upper']),\n",
       "                                                 ('text_feature',\n",
       "                                                  Pipeline(steps=[('text',\n",
       "                                                                   TfidfVectorizer())]),\n",
       "                                                  'preprocessing_text_nltk_with_POS')])),\n",
       "                ('logreg', LogisticRegression(random_state=42))])"
      ]
     },
     "execution_count": 117,
     "metadata": {},
     "output_type": "execute_result"
    }
   ],
   "source": [
    "pipe"
   ]
  },
  {
   "cell_type": "code",
   "execution_count": 118,
   "metadata": {},
   "outputs": [
    {
     "name": "stderr",
     "output_type": "stream",
     "text": [
      "C:\\ProgramData\\anaconda3\\lib\\site-packages\\sklearn\\utils\\validation.py:1143: DataConversionWarning: A column-vector y was passed when a 1d array was expected. Please change the shape of y to (n_samples, ), for example using ravel().\n",
      "  y = column_or_1d(y, warn=True)\n",
      "C:\\ProgramData\\anaconda3\\lib\\site-packages\\sklearn\\linear_model\\_logistic.py:458: ConvergenceWarning: lbfgs failed to converge (status=1):\n",
      "STOP: TOTAL NO. of ITERATIONS REACHED LIMIT.\n",
      "\n",
      "Increase the number of iterations (max_iter) or scale the data as shown in:\n",
      "    https://scikit-learn.org/stable/modules/preprocessing.html\n",
      "Please also refer to the documentation for alternative solver options:\n",
      "    https://scikit-learn.org/stable/modules/linear_model.html#logistic-regression\n",
      "  n_iter_i = _check_optimize_result(\n"
     ]
    },
    {
     "data": {
      "text/html": [
       "<style>#sk-container-id-4 {color: black;background-color: white;}#sk-container-id-4 pre{padding: 0;}#sk-container-id-4 div.sk-toggleable {background-color: white;}#sk-container-id-4 label.sk-toggleable__label {cursor: pointer;display: block;width: 100%;margin-bottom: 0;padding: 0.3em;box-sizing: border-box;text-align: center;}#sk-container-id-4 label.sk-toggleable__label-arrow:before {content: \"▸\";float: left;margin-right: 0.25em;color: #696969;}#sk-container-id-4 label.sk-toggleable__label-arrow:hover:before {color: black;}#sk-container-id-4 div.sk-estimator:hover label.sk-toggleable__label-arrow:before {color: black;}#sk-container-id-4 div.sk-toggleable__content {max-height: 0;max-width: 0;overflow: hidden;text-align: left;background-color: #f0f8ff;}#sk-container-id-4 div.sk-toggleable__content pre {margin: 0.2em;color: black;border-radius: 0.25em;background-color: #f0f8ff;}#sk-container-id-4 input.sk-toggleable__control:checked~div.sk-toggleable__content {max-height: 200px;max-width: 100%;overflow: auto;}#sk-container-id-4 input.sk-toggleable__control:checked~label.sk-toggleable__label-arrow:before {content: \"▾\";}#sk-container-id-4 div.sk-estimator input.sk-toggleable__control:checked~label.sk-toggleable__label {background-color: #d4ebff;}#sk-container-id-4 div.sk-label input.sk-toggleable__control:checked~label.sk-toggleable__label {background-color: #d4ebff;}#sk-container-id-4 input.sk-hidden--visually {border: 0;clip: rect(1px 1px 1px 1px);clip: rect(1px, 1px, 1px, 1px);height: 1px;margin: -1px;overflow: hidden;padding: 0;position: absolute;width: 1px;}#sk-container-id-4 div.sk-estimator {font-family: monospace;background-color: #f0f8ff;border: 1px dotted black;border-radius: 0.25em;box-sizing: border-box;margin-bottom: 0.5em;}#sk-container-id-4 div.sk-estimator:hover {background-color: #d4ebff;}#sk-container-id-4 div.sk-parallel-item::after {content: \"\";width: 100%;border-bottom: 1px solid gray;flex-grow: 1;}#sk-container-id-4 div.sk-label:hover label.sk-toggleable__label {background-color: #d4ebff;}#sk-container-id-4 div.sk-serial::before {content: \"\";position: absolute;border-left: 1px solid gray;box-sizing: border-box;top: 0;bottom: 0;left: 50%;z-index: 0;}#sk-container-id-4 div.sk-serial {display: flex;flex-direction: column;align-items: center;background-color: white;padding-right: 0.2em;padding-left: 0.2em;position: relative;}#sk-container-id-4 div.sk-item {position: relative;z-index: 1;}#sk-container-id-4 div.sk-parallel {display: flex;align-items: stretch;justify-content: center;background-color: white;position: relative;}#sk-container-id-4 div.sk-item::before, #sk-container-id-4 div.sk-parallel-item::before {content: \"\";position: absolute;border-left: 1px solid gray;box-sizing: border-box;top: 0;bottom: 0;left: 50%;z-index: -1;}#sk-container-id-4 div.sk-parallel-item {display: flex;flex-direction: column;z-index: 1;position: relative;background-color: white;}#sk-container-id-4 div.sk-parallel-item:first-child::after {align-self: flex-end;width: 50%;}#sk-container-id-4 div.sk-parallel-item:last-child::after {align-self: flex-start;width: 50%;}#sk-container-id-4 div.sk-parallel-item:only-child::after {width: 0;}#sk-container-id-4 div.sk-dashed-wrapped {border: 1px dashed gray;margin: 0 0.4em 0.5em 0.4em;box-sizing: border-box;padding-bottom: 0.4em;background-color: white;}#sk-container-id-4 div.sk-label label {font-family: monospace;font-weight: bold;display: inline-block;line-height: 1.2em;}#sk-container-id-4 div.sk-label-container {text-align: center;}#sk-container-id-4 div.sk-container {/* jupyter's `normalize.less` sets `[hidden] { display: none; }` but bootstrap.min.css set `[hidden] { display: none !important; }` so we also need the `!important` here to be able to override the default hidden behavior on the sphinx rendered scikit-learn.org. See: https://github.com/scikit-learn/scikit-learn/issues/21755 */display: inline-block !important;position: relative;}#sk-container-id-4 div.sk-text-repr-fallback {display: none;}</style><div id=\"sk-container-id-4\" class=\"sk-top-container\"><div class=\"sk-text-repr-fallback\"><pre>Pipeline(steps=[(&#x27;preprocessor_features&#x27;,\n",
       "                 ColumnTransformer(remainder=&#x27;passthrough&#x27;,\n",
       "                                   transformers=[(&#x27;num&#x27;,\n",
       "                                                  Pipeline(steps=[(&#x27;scaler&#x27;,\n",
       "                                                                   StandardScaler())]),\n",
       "                                                  [&#x27;neg&#x27;, &#x27;neu&#x27;, &#x27;pos&#x27;,\n",
       "                                                   &#x27;compound&#x27;,\n",
       "                                                   &#x27;count_stop_words&#x27;,\n",
       "                                                   &#x27;count_word_upper&#x27;]),\n",
       "                                                 (&#x27;text_feature&#x27;,\n",
       "                                                  Pipeline(steps=[(&#x27;text&#x27;,\n",
       "                                                                   TfidfVectorizer())]),\n",
       "                                                  &#x27;preprocessing_text_nltk_with_POS&#x27;)])),\n",
       "                (&#x27;logreg&#x27;, LogisticRegression(random_state=42))])</pre><b>In a Jupyter environment, please rerun this cell to show the HTML representation or trust the notebook. <br />On GitHub, the HTML representation is unable to render, please try loading this page with nbviewer.org.</b></div><div class=\"sk-container\" hidden><div class=\"sk-item sk-dashed-wrapped\"><div class=\"sk-label-container\"><div class=\"sk-label sk-toggleable\"><input class=\"sk-toggleable__control sk-hidden--visually\" id=\"sk-estimator-id-28\" type=\"checkbox\" ><label for=\"sk-estimator-id-28\" class=\"sk-toggleable__label sk-toggleable__label-arrow\">Pipeline</label><div class=\"sk-toggleable__content\"><pre>Pipeline(steps=[(&#x27;preprocessor_features&#x27;,\n",
       "                 ColumnTransformer(remainder=&#x27;passthrough&#x27;,\n",
       "                                   transformers=[(&#x27;num&#x27;,\n",
       "                                                  Pipeline(steps=[(&#x27;scaler&#x27;,\n",
       "                                                                   StandardScaler())]),\n",
       "                                                  [&#x27;neg&#x27;, &#x27;neu&#x27;, &#x27;pos&#x27;,\n",
       "                                                   &#x27;compound&#x27;,\n",
       "                                                   &#x27;count_stop_words&#x27;,\n",
       "                                                   &#x27;count_word_upper&#x27;]),\n",
       "                                                 (&#x27;text_feature&#x27;,\n",
       "                                                  Pipeline(steps=[(&#x27;text&#x27;,\n",
       "                                                                   TfidfVectorizer())]),\n",
       "                                                  &#x27;preprocessing_text_nltk_with_POS&#x27;)])),\n",
       "                (&#x27;logreg&#x27;, LogisticRegression(random_state=42))])</pre></div></div></div><div class=\"sk-serial\"><div class=\"sk-item sk-dashed-wrapped\"><div class=\"sk-label-container\"><div class=\"sk-label sk-toggleable\"><input class=\"sk-toggleable__control sk-hidden--visually\" id=\"sk-estimator-id-29\" type=\"checkbox\" ><label for=\"sk-estimator-id-29\" class=\"sk-toggleable__label sk-toggleable__label-arrow\">preprocessor_features: ColumnTransformer</label><div class=\"sk-toggleable__content\"><pre>ColumnTransformer(remainder=&#x27;passthrough&#x27;,\n",
       "                  transformers=[(&#x27;num&#x27;,\n",
       "                                 Pipeline(steps=[(&#x27;scaler&#x27;, StandardScaler())]),\n",
       "                                 [&#x27;neg&#x27;, &#x27;neu&#x27;, &#x27;pos&#x27;, &#x27;compound&#x27;,\n",
       "                                  &#x27;count_stop_words&#x27;, &#x27;count_word_upper&#x27;]),\n",
       "                                (&#x27;text_feature&#x27;,\n",
       "                                 Pipeline(steps=[(&#x27;text&#x27;, TfidfVectorizer())]),\n",
       "                                 &#x27;preprocessing_text_nltk_with_POS&#x27;)])</pre></div></div></div><div class=\"sk-parallel\"><div class=\"sk-parallel-item\"><div class=\"sk-item\"><div class=\"sk-label-container\"><div class=\"sk-label sk-toggleable\"><input class=\"sk-toggleable__control sk-hidden--visually\" id=\"sk-estimator-id-30\" type=\"checkbox\" ><label for=\"sk-estimator-id-30\" class=\"sk-toggleable__label sk-toggleable__label-arrow\">num</label><div class=\"sk-toggleable__content\"><pre>[&#x27;neg&#x27;, &#x27;neu&#x27;, &#x27;pos&#x27;, &#x27;compound&#x27;, &#x27;count_stop_words&#x27;, &#x27;count_word_upper&#x27;]</pre></div></div></div><div class=\"sk-serial\"><div class=\"sk-item\"><div class=\"sk-serial\"><div class=\"sk-item\"><div class=\"sk-estimator sk-toggleable\"><input class=\"sk-toggleable__control sk-hidden--visually\" id=\"sk-estimator-id-31\" type=\"checkbox\" ><label for=\"sk-estimator-id-31\" class=\"sk-toggleable__label sk-toggleable__label-arrow\">StandardScaler</label><div class=\"sk-toggleable__content\"><pre>StandardScaler()</pre></div></div></div></div></div></div></div></div><div class=\"sk-parallel-item\"><div class=\"sk-item\"><div class=\"sk-label-container\"><div class=\"sk-label sk-toggleable\"><input class=\"sk-toggleable__control sk-hidden--visually\" id=\"sk-estimator-id-32\" type=\"checkbox\" ><label for=\"sk-estimator-id-32\" class=\"sk-toggleable__label sk-toggleable__label-arrow\">text_feature</label><div class=\"sk-toggleable__content\"><pre>preprocessing_text_nltk_with_POS</pre></div></div></div><div class=\"sk-serial\"><div class=\"sk-item\"><div class=\"sk-serial\"><div class=\"sk-item\"><div class=\"sk-estimator sk-toggleable\"><input class=\"sk-toggleable__control sk-hidden--visually\" id=\"sk-estimator-id-33\" type=\"checkbox\" ><label for=\"sk-estimator-id-33\" class=\"sk-toggleable__label sk-toggleable__label-arrow\">TfidfVectorizer</label><div class=\"sk-toggleable__content\"><pre>TfidfVectorizer()</pre></div></div></div></div></div></div></div></div><div class=\"sk-parallel-item\"><div class=\"sk-item\"><div class=\"sk-label-container\"><div class=\"sk-label sk-toggleable\"><input class=\"sk-toggleable__control sk-hidden--visually\" id=\"sk-estimator-id-34\" type=\"checkbox\" ><label for=\"sk-estimator-id-34\" class=\"sk-toggleable__label sk-toggleable__label-arrow\">remainder</label><div class=\"sk-toggleable__content\"><pre>[]</pre></div></div></div><div class=\"sk-serial\"><div class=\"sk-item\"><div class=\"sk-estimator sk-toggleable\"><input class=\"sk-toggleable__control sk-hidden--visually\" id=\"sk-estimator-id-35\" type=\"checkbox\" ><label for=\"sk-estimator-id-35\" class=\"sk-toggleable__label sk-toggleable__label-arrow\">passthrough</label><div class=\"sk-toggleable__content\"><pre>passthrough</pre></div></div></div></div></div></div></div></div><div class=\"sk-item\"><div class=\"sk-estimator sk-toggleable\"><input class=\"sk-toggleable__control sk-hidden--visually\" id=\"sk-estimator-id-36\" type=\"checkbox\" ><label for=\"sk-estimator-id-36\" class=\"sk-toggleable__label sk-toggleable__label-arrow\">LogisticRegression</label><div class=\"sk-toggleable__content\"><pre>LogisticRegression(random_state=42)</pre></div></div></div></div></div></div></div>"
      ],
      "text/plain": [
       "Pipeline(steps=[('preprocessor_features',\n",
       "                 ColumnTransformer(remainder='passthrough',\n",
       "                                   transformers=[('num',\n",
       "                                                  Pipeline(steps=[('scaler',\n",
       "                                                                   StandardScaler())]),\n",
       "                                                  ['neg', 'neu', 'pos',\n",
       "                                                   'compound',\n",
       "                                                   'count_stop_words',\n",
       "                                                   'count_word_upper']),\n",
       "                                                 ('text_feature',\n",
       "                                                  Pipeline(steps=[('text',\n",
       "                                                                   TfidfVectorizer())]),\n",
       "                                                  'preprocessing_text_nltk_with_POS')])),\n",
       "                ('logreg', LogisticRegression(random_state=42))])"
      ]
     },
     "execution_count": 118,
     "metadata": {},
     "output_type": "execute_result"
    }
   ],
   "source": [
    "pipe.fit(train[X], train[y])"
   ]
  },
  {
   "cell_type": "code",
   "execution_count": 119,
   "metadata": {
    "scrolled": true
   },
   "outputs": [
    {
     "data": {
      "text/plain": [
       "0.6961240310077519"
      ]
     },
     "execution_count": 119,
     "metadata": {},
     "output_type": "execute_result"
    }
   ],
   "source": [
    "f1_score(pipe.predict(train[X]), train['toxic'])"
   ]
  },
  {
   "cell_type": "markdown",
   "metadata": {},
   "source": [
    "**Попробуем улучшить метрику f1, подобрав нужный порог!**"
   ]
  },
  {
   "cell_type": "code",
   "execution_count": 120,
   "metadata": {},
   "outputs": [],
   "source": [
    "train['y_score'] = pipe.predict_proba(train[X])[:, 1]"
   ]
  },
  {
   "cell_type": "code",
   "execution_count": 121,
   "metadata": {},
   "outputs": [],
   "source": [
    "y_scores_thrasholds = np.linspace(0, 1, num=101)\n",
    "f1_scores = []\n",
    "\n",
    "for thrashholds in y_scores_thrasholds:\n",
    "    y_pred = (train['y_score'] >= thrashholds).astype(int)\n",
    "    f1 = f1_score(train['toxic'], y_pred)\n",
    "    f1_scores.append(f1)\n",
    "    \n",
    "results_df = pd.DataFrame({'thrashholds' : y_scores_thrasholds, \n",
    "                          'f1' : f1_scores})\n",
    "    \n"
   ]
  },
  {
   "cell_type": "markdown",
   "metadata": {},
   "source": [
    "Максимальная метрика f1 на train при пороге:"
   ]
  },
  {
   "cell_type": "code",
   "execution_count": 122,
   "metadata": {},
   "outputs": [
    {
     "data": {
      "text/plain": [
       "thrashholds    0.270000\n",
       "f1             0.794529\n",
       "Name: 27, dtype: float64"
      ]
     },
     "execution_count": 122,
     "metadata": {},
     "output_type": "execute_result"
    }
   ],
   "source": [
    "max_f1_row = results_df.loc[results_df['f1'].idxmax()]\n",
    "max_f1_row"
   ]
  },
  {
   "cell_type": "code",
   "execution_count": 123,
   "metadata": {},
   "outputs": [
    {
     "data": {
      "text/plain": [
       "0.27"
      ]
     },
     "execution_count": 123,
     "metadata": {},
     "output_type": "execute_result"
    }
   ],
   "source": [
    "best_thrash = max_f1_row['thrashholds']\n",
    "best_thrash"
   ]
  },
  {
   "cell_type": "markdown",
   "metadata": {},
   "source": [
    "**Интересно проверить как порог покажет себя на неизвестной ему выборке:**"
   ]
  },
  {
   "cell_type": "code",
   "execution_count": 124,
   "metadata": {},
   "outputs": [
    {
     "data": {
      "text/plain": [
       "3558     0\n",
       "18721    0\n",
       "2362     0\n",
       "13480    0\n",
       "2249     0\n",
       "        ..\n",
       "6055     0\n",
       "7622     0\n",
       "16715    1\n",
       "19233    1\n",
       "13485    0\n",
       "Name: toxic, Length: 4000, dtype: int64"
      ]
     },
     "execution_count": 124,
     "metadata": {},
     "output_type": "execute_result"
    }
   ],
   "source": [
    "test['toxic']"
   ]
  },
  {
   "cell_type": "code",
   "execution_count": 125,
   "metadata": {},
   "outputs": [
    {
     "data": {
      "text/plain": [
       "0.7300380228136882"
      ]
     },
     "execution_count": 125,
     "metadata": {},
     "output_type": "execute_result"
    }
   ],
   "source": [
    "f1_score((pipe.predict_proba(test[X])[:, 1] > best_thrash)*1, test['toxic'])"
   ]
  },
  {
   "cell_type": "markdown",
   "metadata": {},
   "source": [
    "## Логистическая регрессия (Embeddings)"
   ]
  },
  {
   "cell_type": "code",
   "execution_count": null,
   "metadata": {},
   "outputs": [],
   "source": []
  },
  {
   "cell_type": "code",
   "execution_count": 126,
   "metadata": {},
   "outputs": [],
   "source": [
    "X = list(train_BERT.drop(['toxic', 'preprocessing_text_nltk_with_POS', 'text', 'lemm_text_spacy', 'compound_binary'], axis=1).columns)\n",
    "y = ['toxic']"
   ]
  },
  {
   "cell_type": "code",
   "execution_count": 127,
   "metadata": {},
   "outputs": [],
   "source": [
    "X = [str(i) for i in X]"
   ]
  },
  {
   "cell_type": "code",
   "execution_count": 128,
   "metadata": {},
   "outputs": [],
   "source": [
    "numeric_feature = ['neg', 'neu', 'pos', 'compound',\n",
    "                  'count_stop_words', 'count_word_upper']\n",
    "\n"
   ]
  },
  {
   "cell_type": "code",
   "execution_count": 129,
   "metadata": {},
   "outputs": [],
   "source": [
    "numeric_transformer = Pipeline(steps=[\n",
    "    ('scaler', StandardScaler())])\n",
    "\n",
    "\n",
    "\n",
    "preprocessor = ColumnTransformer(\n",
    "    transformers=[\n",
    "        ('num', numeric_transformer, numeric_feature)], remainder='passthrough')\n",
    "\n",
    "\n",
    "pipe = Pipeline(steps=[\n",
    "    ('preprocessor_features', preprocessor),\n",
    "    ('LogisticRegression', LogisticRegression(class_weight='balanced', max_iter=500, random_state=RANDOM_STATE))\n",
    "    \n",
    "])"
   ]
  },
  {
   "cell_type": "code",
   "execution_count": 130,
   "metadata": {},
   "outputs": [
    {
     "data": {
      "text/html": [
       "<style>#sk-container-id-5 {color: black;background-color: white;}#sk-container-id-5 pre{padding: 0;}#sk-container-id-5 div.sk-toggleable {background-color: white;}#sk-container-id-5 label.sk-toggleable__label {cursor: pointer;display: block;width: 100%;margin-bottom: 0;padding: 0.3em;box-sizing: border-box;text-align: center;}#sk-container-id-5 label.sk-toggleable__label-arrow:before {content: \"▸\";float: left;margin-right: 0.25em;color: #696969;}#sk-container-id-5 label.sk-toggleable__label-arrow:hover:before {color: black;}#sk-container-id-5 div.sk-estimator:hover label.sk-toggleable__label-arrow:before {color: black;}#sk-container-id-5 div.sk-toggleable__content {max-height: 0;max-width: 0;overflow: hidden;text-align: left;background-color: #f0f8ff;}#sk-container-id-5 div.sk-toggleable__content pre {margin: 0.2em;color: black;border-radius: 0.25em;background-color: #f0f8ff;}#sk-container-id-5 input.sk-toggleable__control:checked~div.sk-toggleable__content {max-height: 200px;max-width: 100%;overflow: auto;}#sk-container-id-5 input.sk-toggleable__control:checked~label.sk-toggleable__label-arrow:before {content: \"▾\";}#sk-container-id-5 div.sk-estimator input.sk-toggleable__control:checked~label.sk-toggleable__label {background-color: #d4ebff;}#sk-container-id-5 div.sk-label input.sk-toggleable__control:checked~label.sk-toggleable__label {background-color: #d4ebff;}#sk-container-id-5 input.sk-hidden--visually {border: 0;clip: rect(1px 1px 1px 1px);clip: rect(1px, 1px, 1px, 1px);height: 1px;margin: -1px;overflow: hidden;padding: 0;position: absolute;width: 1px;}#sk-container-id-5 div.sk-estimator {font-family: monospace;background-color: #f0f8ff;border: 1px dotted black;border-radius: 0.25em;box-sizing: border-box;margin-bottom: 0.5em;}#sk-container-id-5 div.sk-estimator:hover {background-color: #d4ebff;}#sk-container-id-5 div.sk-parallel-item::after {content: \"\";width: 100%;border-bottom: 1px solid gray;flex-grow: 1;}#sk-container-id-5 div.sk-label:hover label.sk-toggleable__label {background-color: #d4ebff;}#sk-container-id-5 div.sk-serial::before {content: \"\";position: absolute;border-left: 1px solid gray;box-sizing: border-box;top: 0;bottom: 0;left: 50%;z-index: 0;}#sk-container-id-5 div.sk-serial {display: flex;flex-direction: column;align-items: center;background-color: white;padding-right: 0.2em;padding-left: 0.2em;position: relative;}#sk-container-id-5 div.sk-item {position: relative;z-index: 1;}#sk-container-id-5 div.sk-parallel {display: flex;align-items: stretch;justify-content: center;background-color: white;position: relative;}#sk-container-id-5 div.sk-item::before, #sk-container-id-5 div.sk-parallel-item::before {content: \"\";position: absolute;border-left: 1px solid gray;box-sizing: border-box;top: 0;bottom: 0;left: 50%;z-index: -1;}#sk-container-id-5 div.sk-parallel-item {display: flex;flex-direction: column;z-index: 1;position: relative;background-color: white;}#sk-container-id-5 div.sk-parallel-item:first-child::after {align-self: flex-end;width: 50%;}#sk-container-id-5 div.sk-parallel-item:last-child::after {align-self: flex-start;width: 50%;}#sk-container-id-5 div.sk-parallel-item:only-child::after {width: 0;}#sk-container-id-5 div.sk-dashed-wrapped {border: 1px dashed gray;margin: 0 0.4em 0.5em 0.4em;box-sizing: border-box;padding-bottom: 0.4em;background-color: white;}#sk-container-id-5 div.sk-label label {font-family: monospace;font-weight: bold;display: inline-block;line-height: 1.2em;}#sk-container-id-5 div.sk-label-container {text-align: center;}#sk-container-id-5 div.sk-container {/* jupyter's `normalize.less` sets `[hidden] { display: none; }` but bootstrap.min.css set `[hidden] { display: none !important; }` so we also need the `!important` here to be able to override the default hidden behavior on the sphinx rendered scikit-learn.org. See: https://github.com/scikit-learn/scikit-learn/issues/21755 */display: inline-block !important;position: relative;}#sk-container-id-5 div.sk-text-repr-fallback {display: none;}</style><div id=\"sk-container-id-5\" class=\"sk-top-container\"><div class=\"sk-text-repr-fallback\"><pre>Pipeline(steps=[(&#x27;preprocessor_features&#x27;,\n",
       "                 ColumnTransformer(remainder=&#x27;passthrough&#x27;,\n",
       "                                   transformers=[(&#x27;num&#x27;,\n",
       "                                                  Pipeline(steps=[(&#x27;scaler&#x27;,\n",
       "                                                                   StandardScaler())]),\n",
       "                                                  [&#x27;neg&#x27;, &#x27;neu&#x27;, &#x27;pos&#x27;,\n",
       "                                                   &#x27;compound&#x27;,\n",
       "                                                   &#x27;count_stop_words&#x27;,\n",
       "                                                   &#x27;count_word_upper&#x27;])])),\n",
       "                (&#x27;LogisticRegression&#x27;,\n",
       "                 LogisticRegression(class_weight=&#x27;balanced&#x27;, max_iter=500,\n",
       "                                    random_state=42))])</pre><b>In a Jupyter environment, please rerun this cell to show the HTML representation or trust the notebook. <br />On GitHub, the HTML representation is unable to render, please try loading this page with nbviewer.org.</b></div><div class=\"sk-container\" hidden><div class=\"sk-item sk-dashed-wrapped\"><div class=\"sk-label-container\"><div class=\"sk-label sk-toggleable\"><input class=\"sk-toggleable__control sk-hidden--visually\" id=\"sk-estimator-id-37\" type=\"checkbox\" ><label for=\"sk-estimator-id-37\" class=\"sk-toggleable__label sk-toggleable__label-arrow\">Pipeline</label><div class=\"sk-toggleable__content\"><pre>Pipeline(steps=[(&#x27;preprocessor_features&#x27;,\n",
       "                 ColumnTransformer(remainder=&#x27;passthrough&#x27;,\n",
       "                                   transformers=[(&#x27;num&#x27;,\n",
       "                                                  Pipeline(steps=[(&#x27;scaler&#x27;,\n",
       "                                                                   StandardScaler())]),\n",
       "                                                  [&#x27;neg&#x27;, &#x27;neu&#x27;, &#x27;pos&#x27;,\n",
       "                                                   &#x27;compound&#x27;,\n",
       "                                                   &#x27;count_stop_words&#x27;,\n",
       "                                                   &#x27;count_word_upper&#x27;])])),\n",
       "                (&#x27;LogisticRegression&#x27;,\n",
       "                 LogisticRegression(class_weight=&#x27;balanced&#x27;, max_iter=500,\n",
       "                                    random_state=42))])</pre></div></div></div><div class=\"sk-serial\"><div class=\"sk-item sk-dashed-wrapped\"><div class=\"sk-label-container\"><div class=\"sk-label sk-toggleable\"><input class=\"sk-toggleable__control sk-hidden--visually\" id=\"sk-estimator-id-38\" type=\"checkbox\" ><label for=\"sk-estimator-id-38\" class=\"sk-toggleable__label sk-toggleable__label-arrow\">preprocessor_features: ColumnTransformer</label><div class=\"sk-toggleable__content\"><pre>ColumnTransformer(remainder=&#x27;passthrough&#x27;,\n",
       "                  transformers=[(&#x27;num&#x27;,\n",
       "                                 Pipeline(steps=[(&#x27;scaler&#x27;, StandardScaler())]),\n",
       "                                 [&#x27;neg&#x27;, &#x27;neu&#x27;, &#x27;pos&#x27;, &#x27;compound&#x27;,\n",
       "                                  &#x27;count_stop_words&#x27;, &#x27;count_word_upper&#x27;])])</pre></div></div></div><div class=\"sk-parallel\"><div class=\"sk-parallel-item\"><div class=\"sk-item\"><div class=\"sk-label-container\"><div class=\"sk-label sk-toggleable\"><input class=\"sk-toggleable__control sk-hidden--visually\" id=\"sk-estimator-id-39\" type=\"checkbox\" ><label for=\"sk-estimator-id-39\" class=\"sk-toggleable__label sk-toggleable__label-arrow\">num</label><div class=\"sk-toggleable__content\"><pre>[&#x27;neg&#x27;, &#x27;neu&#x27;, &#x27;pos&#x27;, &#x27;compound&#x27;, &#x27;count_stop_words&#x27;, &#x27;count_word_upper&#x27;]</pre></div></div></div><div class=\"sk-serial\"><div class=\"sk-item\"><div class=\"sk-serial\"><div class=\"sk-item\"><div class=\"sk-estimator sk-toggleable\"><input class=\"sk-toggleable__control sk-hidden--visually\" id=\"sk-estimator-id-40\" type=\"checkbox\" ><label for=\"sk-estimator-id-40\" class=\"sk-toggleable__label sk-toggleable__label-arrow\">StandardScaler</label><div class=\"sk-toggleable__content\"><pre>StandardScaler()</pre></div></div></div></div></div></div></div></div><div class=\"sk-parallel-item\"><div class=\"sk-item\"><div class=\"sk-label-container\"><div class=\"sk-label sk-toggleable\"><input class=\"sk-toggleable__control sk-hidden--visually\" id=\"sk-estimator-id-41\" type=\"checkbox\" ><label for=\"sk-estimator-id-41\" class=\"sk-toggleable__label sk-toggleable__label-arrow\">remainder</label><div class=\"sk-toggleable__content\"><pre></pre></div></div></div><div class=\"sk-serial\"><div class=\"sk-item\"><div class=\"sk-estimator sk-toggleable\"><input class=\"sk-toggleable__control sk-hidden--visually\" id=\"sk-estimator-id-42\" type=\"checkbox\" ><label for=\"sk-estimator-id-42\" class=\"sk-toggleable__label sk-toggleable__label-arrow\">passthrough</label><div class=\"sk-toggleable__content\"><pre>passthrough</pre></div></div></div></div></div></div></div></div><div class=\"sk-item\"><div class=\"sk-estimator sk-toggleable\"><input class=\"sk-toggleable__control sk-hidden--visually\" id=\"sk-estimator-id-43\" type=\"checkbox\" ><label for=\"sk-estimator-id-43\" class=\"sk-toggleable__label sk-toggleable__label-arrow\">LogisticRegression</label><div class=\"sk-toggleable__content\"><pre>LogisticRegression(class_weight=&#x27;balanced&#x27;, max_iter=500, random_state=42)</pre></div></div></div></div></div></div></div>"
      ],
      "text/plain": [
       "Pipeline(steps=[('preprocessor_features',\n",
       "                 ColumnTransformer(remainder='passthrough',\n",
       "                                   transformers=[('num',\n",
       "                                                  Pipeline(steps=[('scaler',\n",
       "                                                                   StandardScaler())]),\n",
       "                                                  ['neg', 'neu', 'pos',\n",
       "                                                   'compound',\n",
       "                                                   'count_stop_words',\n",
       "                                                   'count_word_upper'])])),\n",
       "                ('LogisticRegression',\n",
       "                 LogisticRegression(class_weight='balanced', max_iter=500,\n",
       "                                    random_state=42))])"
      ]
     },
     "execution_count": 130,
     "metadata": {},
     "output_type": "execute_result"
    }
   ],
   "source": [
    "pipe"
   ]
  },
  {
   "cell_type": "code",
   "execution_count": 140,
   "metadata": {},
   "outputs": [],
   "source": [
    "train_BERT.columns = train_BERT.columns.astype(str)\n",
    "test_BERT.columns = test_BERT.columns.astype(str)"
   ]
  },
  {
   "cell_type": "code",
   "execution_count": 132,
   "metadata": {},
   "outputs": [
    {
     "name": "stderr",
     "output_type": "stream",
     "text": [
      "C:\\ProgramData\\anaconda3\\lib\\site-packages\\sklearn\\utils\\validation.py:1143: DataConversionWarning: A column-vector y was passed when a 1d array was expected. Please change the shape of y to (n_samples, ), for example using ravel().\n",
      "  y = column_or_1d(y, warn=True)\n"
     ]
    },
    {
     "data": {
      "text/html": [
       "<style>#sk-container-id-6 {color: black;background-color: white;}#sk-container-id-6 pre{padding: 0;}#sk-container-id-6 div.sk-toggleable {background-color: white;}#sk-container-id-6 label.sk-toggleable__label {cursor: pointer;display: block;width: 100%;margin-bottom: 0;padding: 0.3em;box-sizing: border-box;text-align: center;}#sk-container-id-6 label.sk-toggleable__label-arrow:before {content: \"▸\";float: left;margin-right: 0.25em;color: #696969;}#sk-container-id-6 label.sk-toggleable__label-arrow:hover:before {color: black;}#sk-container-id-6 div.sk-estimator:hover label.sk-toggleable__label-arrow:before {color: black;}#sk-container-id-6 div.sk-toggleable__content {max-height: 0;max-width: 0;overflow: hidden;text-align: left;background-color: #f0f8ff;}#sk-container-id-6 div.sk-toggleable__content pre {margin: 0.2em;color: black;border-radius: 0.25em;background-color: #f0f8ff;}#sk-container-id-6 input.sk-toggleable__control:checked~div.sk-toggleable__content {max-height: 200px;max-width: 100%;overflow: auto;}#sk-container-id-6 input.sk-toggleable__control:checked~label.sk-toggleable__label-arrow:before {content: \"▾\";}#sk-container-id-6 div.sk-estimator input.sk-toggleable__control:checked~label.sk-toggleable__label {background-color: #d4ebff;}#sk-container-id-6 div.sk-label input.sk-toggleable__control:checked~label.sk-toggleable__label {background-color: #d4ebff;}#sk-container-id-6 input.sk-hidden--visually {border: 0;clip: rect(1px 1px 1px 1px);clip: rect(1px, 1px, 1px, 1px);height: 1px;margin: -1px;overflow: hidden;padding: 0;position: absolute;width: 1px;}#sk-container-id-6 div.sk-estimator {font-family: monospace;background-color: #f0f8ff;border: 1px dotted black;border-radius: 0.25em;box-sizing: border-box;margin-bottom: 0.5em;}#sk-container-id-6 div.sk-estimator:hover {background-color: #d4ebff;}#sk-container-id-6 div.sk-parallel-item::after {content: \"\";width: 100%;border-bottom: 1px solid gray;flex-grow: 1;}#sk-container-id-6 div.sk-label:hover label.sk-toggleable__label {background-color: #d4ebff;}#sk-container-id-6 div.sk-serial::before {content: \"\";position: absolute;border-left: 1px solid gray;box-sizing: border-box;top: 0;bottom: 0;left: 50%;z-index: 0;}#sk-container-id-6 div.sk-serial {display: flex;flex-direction: column;align-items: center;background-color: white;padding-right: 0.2em;padding-left: 0.2em;position: relative;}#sk-container-id-6 div.sk-item {position: relative;z-index: 1;}#sk-container-id-6 div.sk-parallel {display: flex;align-items: stretch;justify-content: center;background-color: white;position: relative;}#sk-container-id-6 div.sk-item::before, #sk-container-id-6 div.sk-parallel-item::before {content: \"\";position: absolute;border-left: 1px solid gray;box-sizing: border-box;top: 0;bottom: 0;left: 50%;z-index: -1;}#sk-container-id-6 div.sk-parallel-item {display: flex;flex-direction: column;z-index: 1;position: relative;background-color: white;}#sk-container-id-6 div.sk-parallel-item:first-child::after {align-self: flex-end;width: 50%;}#sk-container-id-6 div.sk-parallel-item:last-child::after {align-self: flex-start;width: 50%;}#sk-container-id-6 div.sk-parallel-item:only-child::after {width: 0;}#sk-container-id-6 div.sk-dashed-wrapped {border: 1px dashed gray;margin: 0 0.4em 0.5em 0.4em;box-sizing: border-box;padding-bottom: 0.4em;background-color: white;}#sk-container-id-6 div.sk-label label {font-family: monospace;font-weight: bold;display: inline-block;line-height: 1.2em;}#sk-container-id-6 div.sk-label-container {text-align: center;}#sk-container-id-6 div.sk-container {/* jupyter's `normalize.less` sets `[hidden] { display: none; }` but bootstrap.min.css set `[hidden] { display: none !important; }` so we also need the `!important` here to be able to override the default hidden behavior on the sphinx rendered scikit-learn.org. See: https://github.com/scikit-learn/scikit-learn/issues/21755 */display: inline-block !important;position: relative;}#sk-container-id-6 div.sk-text-repr-fallback {display: none;}</style><div id=\"sk-container-id-6\" class=\"sk-top-container\"><div class=\"sk-text-repr-fallback\"><pre>Pipeline(steps=[(&#x27;preprocessor_features&#x27;,\n",
       "                 ColumnTransformer(remainder=&#x27;passthrough&#x27;,\n",
       "                                   transformers=[(&#x27;num&#x27;,\n",
       "                                                  Pipeline(steps=[(&#x27;scaler&#x27;,\n",
       "                                                                   StandardScaler())]),\n",
       "                                                  [&#x27;neg&#x27;, &#x27;neu&#x27;, &#x27;pos&#x27;,\n",
       "                                                   &#x27;compound&#x27;,\n",
       "                                                   &#x27;count_stop_words&#x27;,\n",
       "                                                   &#x27;count_word_upper&#x27;])])),\n",
       "                (&#x27;LogisticRegression&#x27;,\n",
       "                 LogisticRegression(class_weight=&#x27;balanced&#x27;, max_iter=500,\n",
       "                                    random_state=42))])</pre><b>In a Jupyter environment, please rerun this cell to show the HTML representation or trust the notebook. <br />On GitHub, the HTML representation is unable to render, please try loading this page with nbviewer.org.</b></div><div class=\"sk-container\" hidden><div class=\"sk-item sk-dashed-wrapped\"><div class=\"sk-label-container\"><div class=\"sk-label sk-toggleable\"><input class=\"sk-toggleable__control sk-hidden--visually\" id=\"sk-estimator-id-44\" type=\"checkbox\" ><label for=\"sk-estimator-id-44\" class=\"sk-toggleable__label sk-toggleable__label-arrow\">Pipeline</label><div class=\"sk-toggleable__content\"><pre>Pipeline(steps=[(&#x27;preprocessor_features&#x27;,\n",
       "                 ColumnTransformer(remainder=&#x27;passthrough&#x27;,\n",
       "                                   transformers=[(&#x27;num&#x27;,\n",
       "                                                  Pipeline(steps=[(&#x27;scaler&#x27;,\n",
       "                                                                   StandardScaler())]),\n",
       "                                                  [&#x27;neg&#x27;, &#x27;neu&#x27;, &#x27;pos&#x27;,\n",
       "                                                   &#x27;compound&#x27;,\n",
       "                                                   &#x27;count_stop_words&#x27;,\n",
       "                                                   &#x27;count_word_upper&#x27;])])),\n",
       "                (&#x27;LogisticRegression&#x27;,\n",
       "                 LogisticRegression(class_weight=&#x27;balanced&#x27;, max_iter=500,\n",
       "                                    random_state=42))])</pre></div></div></div><div class=\"sk-serial\"><div class=\"sk-item sk-dashed-wrapped\"><div class=\"sk-label-container\"><div class=\"sk-label sk-toggleable\"><input class=\"sk-toggleable__control sk-hidden--visually\" id=\"sk-estimator-id-45\" type=\"checkbox\" ><label for=\"sk-estimator-id-45\" class=\"sk-toggleable__label sk-toggleable__label-arrow\">preprocessor_features: ColumnTransformer</label><div class=\"sk-toggleable__content\"><pre>ColumnTransformer(remainder=&#x27;passthrough&#x27;,\n",
       "                  transformers=[(&#x27;num&#x27;,\n",
       "                                 Pipeline(steps=[(&#x27;scaler&#x27;, StandardScaler())]),\n",
       "                                 [&#x27;neg&#x27;, &#x27;neu&#x27;, &#x27;pos&#x27;, &#x27;compound&#x27;,\n",
       "                                  &#x27;count_stop_words&#x27;, &#x27;count_word_upper&#x27;])])</pre></div></div></div><div class=\"sk-parallel\"><div class=\"sk-parallel-item\"><div class=\"sk-item\"><div class=\"sk-label-container\"><div class=\"sk-label sk-toggleable\"><input class=\"sk-toggleable__control sk-hidden--visually\" id=\"sk-estimator-id-46\" type=\"checkbox\" ><label for=\"sk-estimator-id-46\" class=\"sk-toggleable__label sk-toggleable__label-arrow\">num</label><div class=\"sk-toggleable__content\"><pre>[&#x27;neg&#x27;, &#x27;neu&#x27;, &#x27;pos&#x27;, &#x27;compound&#x27;, &#x27;count_stop_words&#x27;, &#x27;count_word_upper&#x27;]</pre></div></div></div><div class=\"sk-serial\"><div class=\"sk-item\"><div class=\"sk-serial\"><div class=\"sk-item\"><div class=\"sk-estimator sk-toggleable\"><input class=\"sk-toggleable__control sk-hidden--visually\" id=\"sk-estimator-id-47\" type=\"checkbox\" ><label for=\"sk-estimator-id-47\" class=\"sk-toggleable__label sk-toggleable__label-arrow\">StandardScaler</label><div class=\"sk-toggleable__content\"><pre>StandardScaler()</pre></div></div></div></div></div></div></div></div><div class=\"sk-parallel-item\"><div class=\"sk-item\"><div class=\"sk-label-container\"><div class=\"sk-label sk-toggleable\"><input class=\"sk-toggleable__control sk-hidden--visually\" id=\"sk-estimator-id-48\" type=\"checkbox\" ><label for=\"sk-estimator-id-48\" class=\"sk-toggleable__label sk-toggleable__label-arrow\">remainder</label><div class=\"sk-toggleable__content\"><pre>[&#x27;0&#x27;, &#x27;1&#x27;, &#x27;2&#x27;, &#x27;3&#x27;, &#x27;4&#x27;, &#x27;5&#x27;, &#x27;6&#x27;, &#x27;7&#x27;, &#x27;8&#x27;, &#x27;9&#x27;, &#x27;10&#x27;, &#x27;11&#x27;, &#x27;12&#x27;, &#x27;13&#x27;, &#x27;14&#x27;, &#x27;15&#x27;, &#x27;16&#x27;, &#x27;17&#x27;, &#x27;18&#x27;, &#x27;19&#x27;, &#x27;20&#x27;, &#x27;21&#x27;, &#x27;22&#x27;, &#x27;23&#x27;, &#x27;24&#x27;, &#x27;25&#x27;, &#x27;26&#x27;, &#x27;27&#x27;, &#x27;28&#x27;, &#x27;29&#x27;, &#x27;30&#x27;, &#x27;31&#x27;, &#x27;32&#x27;, &#x27;33&#x27;, &#x27;34&#x27;, &#x27;35&#x27;, &#x27;36&#x27;, &#x27;37&#x27;, &#x27;38&#x27;, &#x27;39&#x27;, &#x27;40&#x27;, &#x27;41&#x27;, &#x27;42&#x27;, &#x27;43&#x27;, &#x27;44&#x27;, &#x27;45&#x27;, &#x27;46&#x27;, &#x27;47&#x27;, &#x27;48&#x27;, &#x27;49&#x27;, &#x27;50&#x27;, &#x27;51&#x27;, &#x27;52&#x27;, &#x27;53&#x27;, &#x27;54&#x27;, &#x27;55&#x27;, &#x27;56&#x27;, &#x27;57&#x27;, &#x27;58&#x27;, &#x27;59&#x27;, &#x27;60&#x27;, &#x27;61&#x27;, &#x27;62&#x27;, &#x27;63&#x27;, &#x27;64&#x27;, &#x27;65&#x27;, &#x27;66&#x27;, &#x27;67&#x27;, &#x27;68&#x27;, &#x27;69&#x27;, &#x27;70&#x27;, &#x27;71&#x27;, &#x27;72&#x27;, &#x27;73&#x27;, &#x27;74&#x27;, &#x27;75&#x27;, &#x27;76&#x27;, &#x27;77&#x27;, &#x27;78&#x27;, &#x27;79&#x27;, &#x27;80&#x27;, &#x27;81&#x27;, &#x27;82&#x27;, &#x27;83&#x27;, &#x27;84&#x27;, &#x27;85&#x27;, &#x27;86&#x27;, &#x27;87&#x27;, &#x27;88&#x27;, &#x27;89&#x27;, &#x27;90&#x27;, &#x27;91&#x27;, &#x27;92&#x27;, &#x27;93&#x27;, &#x27;94&#x27;, &#x27;95&#x27;, &#x27;96&#x27;, &#x27;97&#x27;, &#x27;98&#x27;, &#x27;99&#x27;, &#x27;100&#x27;, &#x27;101&#x27;, &#x27;102&#x27;, &#x27;103&#x27;, &#x27;104&#x27;, &#x27;105&#x27;, &#x27;106&#x27;, &#x27;107&#x27;, &#x27;108&#x27;, &#x27;109&#x27;, &#x27;110&#x27;, &#x27;111&#x27;, &#x27;112&#x27;, &#x27;113&#x27;, &#x27;114&#x27;, &#x27;115&#x27;, &#x27;116&#x27;, &#x27;117&#x27;, &#x27;118&#x27;, &#x27;119&#x27;, &#x27;120&#x27;, &#x27;121&#x27;, &#x27;122&#x27;, &#x27;123&#x27;, &#x27;124&#x27;, &#x27;125&#x27;, &#x27;126&#x27;, &#x27;127&#x27;, &#x27;128&#x27;, &#x27;129&#x27;, &#x27;130&#x27;, &#x27;131&#x27;, &#x27;132&#x27;, &#x27;133&#x27;, &#x27;134&#x27;, &#x27;135&#x27;, &#x27;136&#x27;, &#x27;137&#x27;, &#x27;138&#x27;, &#x27;139&#x27;, &#x27;140&#x27;, &#x27;141&#x27;, &#x27;142&#x27;, &#x27;143&#x27;, &#x27;144&#x27;, &#x27;145&#x27;, &#x27;146&#x27;, &#x27;147&#x27;, &#x27;148&#x27;, &#x27;149&#x27;, &#x27;150&#x27;, &#x27;151&#x27;, &#x27;152&#x27;, &#x27;153&#x27;, &#x27;154&#x27;, &#x27;155&#x27;, &#x27;156&#x27;, &#x27;157&#x27;, &#x27;158&#x27;, &#x27;159&#x27;, &#x27;160&#x27;, &#x27;161&#x27;, &#x27;162&#x27;, &#x27;163&#x27;, &#x27;164&#x27;, &#x27;165&#x27;, &#x27;166&#x27;, &#x27;167&#x27;, &#x27;168&#x27;, &#x27;169&#x27;, &#x27;170&#x27;, &#x27;171&#x27;, &#x27;172&#x27;, &#x27;173&#x27;, &#x27;174&#x27;, &#x27;175&#x27;, &#x27;176&#x27;, &#x27;177&#x27;, &#x27;178&#x27;, &#x27;179&#x27;, &#x27;180&#x27;, &#x27;181&#x27;, &#x27;182&#x27;, &#x27;183&#x27;, &#x27;184&#x27;, &#x27;185&#x27;, &#x27;186&#x27;, &#x27;187&#x27;, &#x27;188&#x27;, &#x27;189&#x27;, &#x27;190&#x27;, &#x27;191&#x27;, &#x27;192&#x27;, &#x27;193&#x27;, &#x27;194&#x27;, &#x27;195&#x27;, &#x27;196&#x27;, &#x27;197&#x27;, &#x27;198&#x27;, &#x27;199&#x27;, &#x27;200&#x27;, &#x27;201&#x27;, &#x27;202&#x27;, &#x27;203&#x27;, &#x27;204&#x27;, &#x27;205&#x27;, &#x27;206&#x27;, &#x27;207&#x27;, &#x27;208&#x27;, &#x27;209&#x27;, &#x27;210&#x27;, &#x27;211&#x27;, &#x27;212&#x27;, &#x27;213&#x27;, &#x27;214&#x27;, &#x27;215&#x27;, &#x27;216&#x27;, &#x27;217&#x27;, &#x27;218&#x27;, &#x27;219&#x27;, &#x27;220&#x27;, &#x27;221&#x27;, &#x27;222&#x27;, &#x27;223&#x27;, &#x27;224&#x27;, &#x27;225&#x27;, &#x27;226&#x27;, &#x27;227&#x27;, &#x27;228&#x27;, &#x27;229&#x27;, &#x27;230&#x27;, &#x27;231&#x27;, &#x27;232&#x27;, &#x27;233&#x27;, &#x27;234&#x27;, &#x27;235&#x27;, &#x27;236&#x27;, &#x27;237&#x27;, &#x27;238&#x27;, &#x27;239&#x27;, &#x27;240&#x27;, &#x27;241&#x27;, &#x27;242&#x27;, &#x27;243&#x27;, &#x27;244&#x27;, &#x27;245&#x27;, &#x27;246&#x27;, &#x27;247&#x27;, &#x27;248&#x27;, &#x27;249&#x27;, &#x27;250&#x27;, &#x27;251&#x27;, &#x27;252&#x27;, &#x27;253&#x27;, &#x27;254&#x27;, &#x27;255&#x27;, &#x27;256&#x27;, &#x27;257&#x27;, &#x27;258&#x27;, &#x27;259&#x27;, &#x27;260&#x27;, &#x27;261&#x27;, &#x27;262&#x27;, &#x27;263&#x27;, &#x27;264&#x27;, &#x27;265&#x27;, &#x27;266&#x27;, &#x27;267&#x27;, &#x27;268&#x27;, &#x27;269&#x27;, &#x27;270&#x27;, &#x27;271&#x27;, &#x27;272&#x27;, &#x27;273&#x27;, &#x27;274&#x27;, &#x27;275&#x27;, &#x27;276&#x27;, &#x27;277&#x27;, &#x27;278&#x27;, &#x27;279&#x27;, &#x27;280&#x27;, &#x27;281&#x27;, &#x27;282&#x27;, &#x27;283&#x27;, &#x27;284&#x27;, &#x27;285&#x27;, &#x27;286&#x27;, &#x27;287&#x27;, &#x27;288&#x27;, &#x27;289&#x27;, &#x27;290&#x27;, &#x27;291&#x27;, &#x27;292&#x27;, &#x27;293&#x27;, &#x27;294&#x27;, &#x27;295&#x27;, &#x27;296&#x27;, &#x27;297&#x27;, &#x27;298&#x27;, &#x27;299&#x27;, &#x27;300&#x27;, &#x27;301&#x27;, &#x27;302&#x27;, &#x27;303&#x27;, &#x27;304&#x27;, &#x27;305&#x27;, &#x27;306&#x27;, &#x27;307&#x27;, &#x27;308&#x27;, &#x27;309&#x27;, &#x27;310&#x27;, &#x27;311&#x27;, &#x27;312&#x27;, &#x27;313&#x27;, &#x27;314&#x27;, &#x27;315&#x27;, &#x27;316&#x27;, &#x27;317&#x27;, &#x27;318&#x27;, &#x27;319&#x27;, &#x27;320&#x27;, &#x27;321&#x27;, &#x27;322&#x27;, &#x27;323&#x27;, &#x27;324&#x27;, &#x27;325&#x27;, &#x27;326&#x27;, &#x27;327&#x27;, &#x27;328&#x27;, &#x27;329&#x27;, &#x27;330&#x27;, &#x27;331&#x27;, &#x27;332&#x27;, &#x27;333&#x27;, &#x27;334&#x27;, &#x27;335&#x27;, &#x27;336&#x27;, &#x27;337&#x27;, &#x27;338&#x27;, &#x27;339&#x27;, &#x27;340&#x27;, &#x27;341&#x27;, &#x27;342&#x27;, &#x27;343&#x27;, &#x27;344&#x27;, &#x27;345&#x27;, &#x27;346&#x27;, &#x27;347&#x27;, &#x27;348&#x27;, &#x27;349&#x27;, &#x27;350&#x27;, &#x27;351&#x27;, &#x27;352&#x27;, &#x27;353&#x27;, &#x27;354&#x27;, &#x27;355&#x27;, &#x27;356&#x27;, &#x27;357&#x27;, &#x27;358&#x27;, &#x27;359&#x27;, &#x27;360&#x27;, &#x27;361&#x27;, &#x27;362&#x27;, &#x27;363&#x27;, &#x27;364&#x27;, &#x27;365&#x27;, &#x27;366&#x27;, &#x27;367&#x27;, &#x27;368&#x27;, &#x27;369&#x27;, &#x27;370&#x27;, &#x27;371&#x27;, &#x27;372&#x27;, &#x27;373&#x27;, &#x27;374&#x27;, &#x27;375&#x27;, &#x27;376&#x27;, &#x27;377&#x27;, &#x27;378&#x27;, &#x27;379&#x27;, &#x27;380&#x27;, &#x27;381&#x27;, &#x27;382&#x27;, &#x27;383&#x27;, &#x27;384&#x27;, &#x27;385&#x27;, &#x27;386&#x27;, &#x27;387&#x27;, &#x27;388&#x27;, &#x27;389&#x27;, &#x27;390&#x27;, &#x27;391&#x27;, &#x27;392&#x27;, &#x27;393&#x27;, &#x27;394&#x27;, &#x27;395&#x27;, &#x27;396&#x27;, &#x27;397&#x27;, &#x27;398&#x27;, &#x27;399&#x27;, &#x27;400&#x27;, &#x27;401&#x27;, &#x27;402&#x27;, &#x27;403&#x27;, &#x27;404&#x27;, &#x27;405&#x27;, &#x27;406&#x27;, &#x27;407&#x27;, &#x27;408&#x27;, &#x27;409&#x27;, &#x27;410&#x27;, &#x27;411&#x27;, &#x27;412&#x27;, &#x27;413&#x27;, &#x27;414&#x27;, &#x27;415&#x27;, &#x27;416&#x27;, &#x27;417&#x27;, &#x27;418&#x27;, &#x27;419&#x27;, &#x27;420&#x27;, &#x27;421&#x27;, &#x27;422&#x27;, &#x27;423&#x27;, &#x27;424&#x27;, &#x27;425&#x27;, &#x27;426&#x27;, &#x27;427&#x27;, &#x27;428&#x27;, &#x27;429&#x27;, &#x27;430&#x27;, &#x27;431&#x27;, &#x27;432&#x27;, &#x27;433&#x27;, &#x27;434&#x27;, &#x27;435&#x27;, &#x27;436&#x27;, &#x27;437&#x27;, &#x27;438&#x27;, &#x27;439&#x27;, &#x27;440&#x27;, &#x27;441&#x27;, &#x27;442&#x27;, &#x27;443&#x27;, &#x27;444&#x27;, &#x27;445&#x27;, &#x27;446&#x27;, &#x27;447&#x27;, &#x27;448&#x27;, &#x27;449&#x27;, &#x27;450&#x27;, &#x27;451&#x27;, &#x27;452&#x27;, &#x27;453&#x27;, &#x27;454&#x27;, &#x27;455&#x27;, &#x27;456&#x27;, &#x27;457&#x27;, &#x27;458&#x27;, &#x27;459&#x27;, &#x27;460&#x27;, &#x27;461&#x27;, &#x27;462&#x27;, &#x27;463&#x27;, &#x27;464&#x27;, &#x27;465&#x27;, &#x27;466&#x27;, &#x27;467&#x27;, &#x27;468&#x27;, &#x27;469&#x27;, &#x27;470&#x27;, &#x27;471&#x27;, &#x27;472&#x27;, &#x27;473&#x27;, &#x27;474&#x27;, &#x27;475&#x27;, &#x27;476&#x27;, &#x27;477&#x27;, &#x27;478&#x27;, &#x27;479&#x27;, &#x27;480&#x27;, &#x27;481&#x27;, &#x27;482&#x27;, &#x27;483&#x27;, &#x27;484&#x27;, &#x27;485&#x27;, &#x27;486&#x27;, &#x27;487&#x27;, &#x27;488&#x27;, &#x27;489&#x27;, &#x27;490&#x27;, &#x27;491&#x27;, &#x27;492&#x27;, &#x27;493&#x27;, &#x27;494&#x27;, &#x27;495&#x27;, &#x27;496&#x27;, &#x27;497&#x27;, &#x27;498&#x27;, &#x27;499&#x27;, &#x27;500&#x27;, &#x27;501&#x27;, &#x27;502&#x27;, &#x27;503&#x27;, &#x27;504&#x27;, &#x27;505&#x27;, &#x27;506&#x27;, &#x27;507&#x27;, &#x27;508&#x27;, &#x27;509&#x27;, &#x27;510&#x27;, &#x27;511&#x27;, &#x27;512&#x27;, &#x27;513&#x27;, &#x27;514&#x27;, &#x27;515&#x27;, &#x27;516&#x27;, &#x27;517&#x27;, &#x27;518&#x27;, &#x27;519&#x27;, &#x27;520&#x27;, &#x27;521&#x27;, &#x27;522&#x27;, &#x27;523&#x27;, &#x27;524&#x27;, &#x27;525&#x27;, &#x27;526&#x27;, &#x27;527&#x27;, &#x27;528&#x27;, &#x27;529&#x27;, &#x27;530&#x27;, &#x27;531&#x27;, &#x27;532&#x27;, &#x27;533&#x27;, &#x27;534&#x27;, &#x27;535&#x27;, &#x27;536&#x27;, &#x27;537&#x27;, &#x27;538&#x27;, &#x27;539&#x27;, &#x27;540&#x27;, &#x27;541&#x27;, &#x27;542&#x27;, &#x27;543&#x27;, &#x27;544&#x27;, &#x27;545&#x27;, &#x27;546&#x27;, &#x27;547&#x27;, &#x27;548&#x27;, &#x27;549&#x27;, &#x27;550&#x27;, &#x27;551&#x27;, &#x27;552&#x27;, &#x27;553&#x27;, &#x27;554&#x27;, &#x27;555&#x27;, &#x27;556&#x27;, &#x27;557&#x27;, &#x27;558&#x27;, &#x27;559&#x27;, &#x27;560&#x27;, &#x27;561&#x27;, &#x27;562&#x27;, &#x27;563&#x27;, &#x27;564&#x27;, &#x27;565&#x27;, &#x27;566&#x27;, &#x27;567&#x27;, &#x27;568&#x27;, &#x27;569&#x27;, &#x27;570&#x27;, &#x27;571&#x27;, &#x27;572&#x27;, &#x27;573&#x27;, &#x27;574&#x27;, &#x27;575&#x27;, &#x27;576&#x27;, &#x27;577&#x27;, &#x27;578&#x27;, &#x27;579&#x27;, &#x27;580&#x27;, &#x27;581&#x27;, &#x27;582&#x27;, &#x27;583&#x27;, &#x27;584&#x27;, &#x27;585&#x27;, &#x27;586&#x27;, &#x27;587&#x27;, &#x27;588&#x27;, &#x27;589&#x27;, &#x27;590&#x27;, &#x27;591&#x27;, &#x27;592&#x27;, &#x27;593&#x27;, &#x27;594&#x27;, &#x27;595&#x27;, &#x27;596&#x27;, &#x27;597&#x27;, &#x27;598&#x27;, &#x27;599&#x27;, &#x27;600&#x27;, &#x27;601&#x27;, &#x27;602&#x27;, &#x27;603&#x27;, &#x27;604&#x27;, &#x27;605&#x27;, &#x27;606&#x27;, &#x27;607&#x27;, &#x27;608&#x27;, &#x27;609&#x27;, &#x27;610&#x27;, &#x27;611&#x27;, &#x27;612&#x27;, &#x27;613&#x27;, &#x27;614&#x27;, &#x27;615&#x27;, &#x27;616&#x27;, &#x27;617&#x27;, &#x27;618&#x27;, &#x27;619&#x27;, &#x27;620&#x27;, &#x27;621&#x27;, &#x27;622&#x27;, &#x27;623&#x27;, &#x27;624&#x27;, &#x27;625&#x27;, &#x27;626&#x27;, &#x27;627&#x27;, &#x27;628&#x27;, &#x27;629&#x27;, &#x27;630&#x27;, &#x27;631&#x27;, &#x27;632&#x27;, &#x27;633&#x27;, &#x27;634&#x27;, &#x27;635&#x27;, &#x27;636&#x27;, &#x27;637&#x27;, &#x27;638&#x27;, &#x27;639&#x27;, &#x27;640&#x27;, &#x27;641&#x27;, &#x27;642&#x27;, &#x27;643&#x27;, &#x27;644&#x27;, &#x27;645&#x27;, &#x27;646&#x27;, &#x27;647&#x27;, &#x27;648&#x27;, &#x27;649&#x27;, &#x27;650&#x27;, &#x27;651&#x27;, &#x27;652&#x27;, &#x27;653&#x27;, &#x27;654&#x27;, &#x27;655&#x27;, &#x27;656&#x27;, &#x27;657&#x27;, &#x27;658&#x27;, &#x27;659&#x27;, &#x27;660&#x27;, &#x27;661&#x27;, &#x27;662&#x27;, &#x27;663&#x27;, &#x27;664&#x27;, &#x27;665&#x27;, &#x27;666&#x27;, &#x27;667&#x27;, &#x27;668&#x27;, &#x27;669&#x27;, &#x27;670&#x27;, &#x27;671&#x27;, &#x27;672&#x27;, &#x27;673&#x27;, &#x27;674&#x27;, &#x27;675&#x27;, &#x27;676&#x27;, &#x27;677&#x27;, &#x27;678&#x27;, &#x27;679&#x27;, &#x27;680&#x27;, &#x27;681&#x27;, &#x27;682&#x27;, &#x27;683&#x27;, &#x27;684&#x27;, &#x27;685&#x27;, &#x27;686&#x27;, &#x27;687&#x27;, &#x27;688&#x27;, &#x27;689&#x27;, &#x27;690&#x27;, &#x27;691&#x27;, &#x27;692&#x27;, &#x27;693&#x27;, &#x27;694&#x27;, &#x27;695&#x27;, &#x27;696&#x27;, &#x27;697&#x27;, &#x27;698&#x27;, &#x27;699&#x27;, &#x27;700&#x27;, &#x27;701&#x27;, &#x27;702&#x27;, &#x27;703&#x27;, &#x27;704&#x27;, &#x27;705&#x27;, &#x27;706&#x27;, &#x27;707&#x27;, &#x27;708&#x27;, &#x27;709&#x27;, &#x27;710&#x27;, &#x27;711&#x27;, &#x27;712&#x27;, &#x27;713&#x27;, &#x27;714&#x27;, &#x27;715&#x27;, &#x27;716&#x27;, &#x27;717&#x27;, &#x27;718&#x27;, &#x27;719&#x27;, &#x27;720&#x27;, &#x27;721&#x27;, &#x27;722&#x27;, &#x27;723&#x27;, &#x27;724&#x27;, &#x27;725&#x27;, &#x27;726&#x27;, &#x27;727&#x27;, &#x27;728&#x27;, &#x27;729&#x27;, &#x27;730&#x27;, &#x27;731&#x27;, &#x27;732&#x27;, &#x27;733&#x27;, &#x27;734&#x27;, &#x27;735&#x27;, &#x27;736&#x27;, &#x27;737&#x27;, &#x27;738&#x27;, &#x27;739&#x27;, &#x27;740&#x27;, &#x27;741&#x27;, &#x27;742&#x27;, &#x27;743&#x27;, &#x27;744&#x27;, &#x27;745&#x27;, &#x27;746&#x27;, &#x27;747&#x27;, &#x27;748&#x27;, &#x27;749&#x27;, &#x27;750&#x27;, &#x27;751&#x27;, &#x27;752&#x27;, &#x27;753&#x27;, &#x27;754&#x27;, &#x27;755&#x27;, &#x27;756&#x27;, &#x27;757&#x27;, &#x27;758&#x27;, &#x27;759&#x27;, &#x27;760&#x27;, &#x27;761&#x27;, &#x27;762&#x27;, &#x27;763&#x27;, &#x27;764&#x27;, &#x27;765&#x27;, &#x27;766&#x27;, &#x27;767&#x27;]</pre></div></div></div><div class=\"sk-serial\"><div class=\"sk-item\"><div class=\"sk-estimator sk-toggleable\"><input class=\"sk-toggleable__control sk-hidden--visually\" id=\"sk-estimator-id-49\" type=\"checkbox\" ><label for=\"sk-estimator-id-49\" class=\"sk-toggleable__label sk-toggleable__label-arrow\">passthrough</label><div class=\"sk-toggleable__content\"><pre>passthrough</pre></div></div></div></div></div></div></div></div><div class=\"sk-item\"><div class=\"sk-estimator sk-toggleable\"><input class=\"sk-toggleable__control sk-hidden--visually\" id=\"sk-estimator-id-50\" type=\"checkbox\" ><label for=\"sk-estimator-id-50\" class=\"sk-toggleable__label sk-toggleable__label-arrow\">LogisticRegression</label><div class=\"sk-toggleable__content\"><pre>LogisticRegression(class_weight=&#x27;balanced&#x27;, max_iter=500, random_state=42)</pre></div></div></div></div></div></div></div>"
      ],
      "text/plain": [
       "Pipeline(steps=[('preprocessor_features',\n",
       "                 ColumnTransformer(remainder='passthrough',\n",
       "                                   transformers=[('num',\n",
       "                                                  Pipeline(steps=[('scaler',\n",
       "                                                                   StandardScaler())]),\n",
       "                                                  ['neg', 'neu', 'pos',\n",
       "                                                   'compound',\n",
       "                                                   'count_stop_words',\n",
       "                                                   'count_word_upper'])])),\n",
       "                ('LogisticRegression',\n",
       "                 LogisticRegression(class_weight='balanced', max_iter=500,\n",
       "                                    random_state=42))])"
      ]
     },
     "execution_count": 132,
     "metadata": {},
     "output_type": "execute_result"
    }
   ],
   "source": [
    "pipe.fit(train_BERT[X], train_BERT[y])"
   ]
  },
  {
   "cell_type": "code",
   "execution_count": 141,
   "metadata": {
    "scrolled": true
   },
   "outputs": [
    {
     "data": {
      "text/plain": [
       "1.0"
      ]
     },
     "execution_count": 141,
     "metadata": {},
     "output_type": "execute_result"
    }
   ],
   "source": [
    "f1_score(pipe.predict(train_BERT[X]), train_BERT['toxic'])"
   ]
  },
  {
   "cell_type": "markdown",
   "metadata": {},
   "source": [
    "**Попробуем улучшить метрику f1, подобрав нужный порог!**"
   ]
  },
  {
   "cell_type": "code",
   "execution_count": 142,
   "metadata": {},
   "outputs": [],
   "source": [
    "train_BERT['y_score'] = pipe.predict_proba(train_BERT[X])[:, 1]"
   ]
  },
  {
   "cell_type": "code",
   "execution_count": 146,
   "metadata": {},
   "outputs": [],
   "source": [
    "y_scores_thrasholds = np.linspace(0, 1, num=101)\n",
    "f1_scores = []\n",
    "\n",
    "for thrashholds in y_scores_thrasholds:\n",
    "    y_pred = (train_BERT['y_score'] >= thrashholds).astype(int)\n",
    "    f1 = f1_score(train_BERT['toxic'], y_pred)\n",
    "    f1_scores.append(f1)\n",
    "    \n",
    "results_df = pd.DataFrame({'thrashholds' : y_scores_thrasholds, \n",
    "                          'f1' : f1_scores})\n",
    "    \n"
   ]
  },
  {
   "cell_type": "markdown",
   "metadata": {},
   "source": [
    "Максимальная метрика f1 на train при пороге:"
   ]
  },
  {
   "cell_type": "code",
   "execution_count": 147,
   "metadata": {},
   "outputs": [
    {
     "data": {
      "text/plain": [
       "thrashholds    0.5\n",
       "f1             1.0\n",
       "Name: 50, dtype: float64"
      ]
     },
     "execution_count": 147,
     "metadata": {},
     "output_type": "execute_result"
    }
   ],
   "source": [
    "max_f1_row = results_df.loc[results_df['f1'].idxmax()]\n",
    "max_f1_row"
   ]
  },
  {
   "cell_type": "code",
   "execution_count": 148,
   "metadata": {},
   "outputs": [
    {
     "data": {
      "text/plain": [
       "0.5"
      ]
     },
     "execution_count": 148,
     "metadata": {},
     "output_type": "execute_result"
    }
   ],
   "source": [
    "best_thrash = max_f1_row['thrashholds']\n",
    "best_thrash"
   ]
  },
  {
   "cell_type": "markdown",
   "metadata": {},
   "source": [
    "**Интересно проверить как порог покажет себя на неизвестной ему выборке:**"
   ]
  },
  {
   "cell_type": "code",
   "execution_count": 149,
   "metadata": {},
   "outputs": [
    {
     "data": {
      "text/plain": [
       "579    0\n",
       "290    0\n",
       "112    0\n",
       "535    0\n",
       "515    1\n",
       "      ..\n",
       "314    0\n",
       "356    0\n",
       "456    0\n",
       "403    0\n",
       "58     0\n",
       "Name: toxic, Length: 120, dtype: int64"
      ]
     },
     "execution_count": 149,
     "metadata": {},
     "output_type": "execute_result"
    }
   ],
   "source": [
    "test_BERT['toxic']"
   ]
  },
  {
   "cell_type": "code",
   "execution_count": 150,
   "metadata": {},
   "outputs": [
    {
     "data": {
      "text/plain": [
       "0.9090909090909091"
      ]
     },
     "execution_count": 150,
     "metadata": {},
     "output_type": "execute_result"
    }
   ],
   "source": [
    "f1_score((pipe.predict_proba(test_BERT[X])[:, 1] > best_thrash)*1, test_BERT['toxic'])"
   ]
  },
  {
   "cell_type": "markdown",
   "metadata": {},
   "source": [
    "# Выводы"
   ]
  },
  {
   "cell_type": "markdown",
   "metadata": {},
   "source": [
    "В данном проекте мы построили классификаторы токсичных текстов, модель CatBoost с очищенными текстами хорошо себя проявила и пробила порог по f1 0.75, получив метрику 0.93 на train c помощью CatBoost. Метрика на test - 0.83  \n",
    "\n",
    "На всех моделях использовался подбор порога, который помог повысить метрику в условиях сильно дисбаланса классов."
   ]
  }
 ],
 "metadata": {
  "ExecuteTimeLog": [
   {
    "duration": 14976,
    "start_time": "2023-04-08T13:23:12.907Z"
   },
   {
    "duration": 0,
    "start_time": "2023-04-08T13:23:27.886Z"
   },
   {
    "duration": 0,
    "start_time": "2023-04-08T13:23:27.887Z"
   },
   {
    "duration": 0,
    "start_time": "2023-04-08T13:23:27.888Z"
   },
   {
    "duration": 0,
    "start_time": "2023-04-08T13:23:27.890Z"
   },
   {
    "duration": 0,
    "start_time": "2023-04-08T13:23:27.891Z"
   },
   {
    "duration": 0,
    "start_time": "2023-04-08T13:23:27.892Z"
   },
   {
    "duration": 0,
    "start_time": "2023-04-08T13:23:27.893Z"
   },
   {
    "duration": 0,
    "start_time": "2023-04-08T13:23:27.894Z"
   },
   {
    "duration": 0,
    "start_time": "2023-04-08T13:23:27.895Z"
   },
   {
    "duration": 0,
    "start_time": "2023-04-08T13:23:27.896Z"
   },
   {
    "duration": 0,
    "start_time": "2023-04-08T13:23:27.897Z"
   },
   {
    "duration": 0,
    "start_time": "2023-04-08T13:23:27.898Z"
   },
   {
    "duration": 0,
    "start_time": "2023-04-08T13:23:27.899Z"
   },
   {
    "duration": 0,
    "start_time": "2023-04-08T13:23:27.900Z"
   },
   {
    "duration": 0,
    "start_time": "2023-04-08T13:23:27.901Z"
   },
   {
    "duration": 0,
    "start_time": "2023-04-08T13:23:27.934Z"
   },
   {
    "duration": 0,
    "start_time": "2023-04-08T13:23:27.936Z"
   },
   {
    "duration": 0,
    "start_time": "2023-04-08T13:23:27.937Z"
   },
   {
    "duration": 2475,
    "start_time": "2023-04-08T13:24:17.716Z"
   },
   {
    "duration": 62,
    "start_time": "2023-04-08T13:24:28.923Z"
   },
   {
    "duration": 2,
    "start_time": "2023-04-08T13:24:28.987Z"
   },
   {
    "duration": 9,
    "start_time": "2023-04-08T13:24:28.990Z"
   },
   {
    "duration": 9,
    "start_time": "2023-04-08T13:24:29.000Z"
   },
   {
    "duration": 8,
    "start_time": "2023-04-08T13:24:29.011Z"
   },
   {
    "duration": 2208,
    "start_time": "2023-04-08T13:24:29.021Z"
   },
   {
    "duration": 15,
    "start_time": "2023-04-08T13:24:31.230Z"
   },
   {
    "duration": 41,
    "start_time": "2023-04-08T13:24:31.246Z"
   },
   {
    "duration": 51,
    "start_time": "2023-04-08T13:24:31.288Z"
   },
   {
    "duration": 48,
    "start_time": "2023-04-08T13:24:31.341Z"
   },
   {
    "duration": 39,
    "start_time": "2023-04-08T13:24:31.390Z"
   },
   {
    "duration": 721,
    "start_time": "2023-04-08T13:24:31.431Z"
   },
   {
    "duration": 4,
    "start_time": "2023-04-08T13:24:32.153Z"
   },
   {
    "duration": 14,
    "start_time": "2023-04-08T13:24:32.159Z"
   },
   {
    "duration": 732,
    "start_time": "2023-04-08T13:24:32.174Z"
   },
   {
    "duration": 4,
    "start_time": "2023-04-08T13:24:32.907Z"
   },
   {
    "duration": 11,
    "start_time": "2023-04-08T13:24:32.912Z"
   },
   {
    "duration": 18,
    "start_time": "2023-04-08T13:24:32.925Z"
   },
   {
    "duration": 6,
    "start_time": "2023-04-08T13:24:32.944Z"
   },
   {
    "duration": 134,
    "start_time": "2023-04-08T13:27:23.253Z"
   },
   {
    "duration": 112,
    "start_time": "2023-04-08T13:28:06.873Z"
   },
   {
    "duration": 4,
    "start_time": "2023-04-08T13:31:49.226Z"
   },
   {
    "duration": 1383,
    "start_time": "2023-04-08T13:31:51.405Z"
   },
   {
    "duration": 5,
    "start_time": "2023-04-08T13:32:17.213Z"
   },
   {
    "duration": 19,
    "start_time": "2023-04-08T13:32:30.500Z"
   },
   {
    "duration": 4,
    "start_time": "2023-04-08T13:32:41.183Z"
   },
   {
    "duration": 7,
    "start_time": "2023-04-08T13:35:57.654Z"
   },
   {
    "duration": 183,
    "start_time": "2023-04-08T13:35:58.535Z"
   },
   {
    "duration": 5,
    "start_time": "2023-04-08T13:36:14.614Z"
   },
   {
    "duration": 5,
    "start_time": "2023-04-08T13:36:50.214Z"
   },
   {
    "duration": 12324,
    "start_time": "2023-04-09T11:31:13.444Z"
   },
   {
    "duration": 0,
    "start_time": "2023-04-09T11:31:25.770Z"
   },
   {
    "duration": 0,
    "start_time": "2023-04-09T11:31:25.772Z"
   },
   {
    "duration": 0,
    "start_time": "2023-04-09T11:31:25.773Z"
   },
   {
    "duration": 0,
    "start_time": "2023-04-09T11:31:25.774Z"
   },
   {
    "duration": 0,
    "start_time": "2023-04-09T11:31:25.775Z"
   },
   {
    "duration": 0,
    "start_time": "2023-04-09T11:31:25.787Z"
   },
   {
    "duration": 0,
    "start_time": "2023-04-09T11:31:25.789Z"
   },
   {
    "duration": 0,
    "start_time": "2023-04-09T11:31:25.790Z"
   },
   {
    "duration": 0,
    "start_time": "2023-04-09T11:31:25.791Z"
   },
   {
    "duration": 0,
    "start_time": "2023-04-09T11:31:25.792Z"
   },
   {
    "duration": 0,
    "start_time": "2023-04-09T11:31:25.793Z"
   },
   {
    "duration": 0,
    "start_time": "2023-04-09T11:31:25.794Z"
   },
   {
    "duration": 0,
    "start_time": "2023-04-09T11:31:25.795Z"
   },
   {
    "duration": 0,
    "start_time": "2023-04-09T11:31:25.796Z"
   },
   {
    "duration": 0,
    "start_time": "2023-04-09T11:31:25.797Z"
   },
   {
    "duration": 0,
    "start_time": "2023-04-09T11:31:25.798Z"
   },
   {
    "duration": 0,
    "start_time": "2023-04-09T11:31:25.799Z"
   },
   {
    "duration": 0,
    "start_time": "2023-04-09T11:31:25.800Z"
   },
   {
    "duration": 0,
    "start_time": "2023-04-09T11:31:25.801Z"
   },
   {
    "duration": 2661,
    "start_time": "2023-04-09T11:33:01.004Z"
   },
   {
    "duration": 3,
    "start_time": "2023-04-09T11:33:03.667Z"
   },
   {
    "duration": 2797,
    "start_time": "2023-04-09T11:33:03.672Z"
   },
   {
    "duration": 3745,
    "start_time": "2023-04-09T11:33:06.472Z"
   },
   {
    "duration": 1934,
    "start_time": "2023-04-09T11:33:10.219Z"
   },
   {
    "duration": 2490,
    "start_time": "2023-04-09T11:33:12.155Z"
   },
   {
    "duration": 13,
    "start_time": "2023-04-09T11:33:14.647Z"
   },
   {
    "duration": 28,
    "start_time": "2023-04-09T11:33:14.662Z"
   },
   {
    "duration": 28,
    "start_time": "2023-04-09T11:33:14.692Z"
   },
   {
    "duration": 11,
    "start_time": "2023-04-09T11:33:14.723Z"
   },
   {
    "duration": 238,
    "start_time": "2023-04-09T11:33:14.736Z"
   },
   {
    "duration": 687,
    "start_time": "2023-04-09T11:33:14.976Z"
   },
   {
    "duration": 4,
    "start_time": "2023-04-09T11:33:15.665Z"
   },
   {
    "duration": 17,
    "start_time": "2023-04-09T11:33:15.671Z"
   },
   {
    "duration": 605,
    "start_time": "2023-04-09T11:33:15.689Z"
   },
   {
    "duration": 4,
    "start_time": "2023-04-09T11:33:16.295Z"
   },
   {
    "duration": 14,
    "start_time": "2023-04-09T11:33:16.301Z"
   },
   {
    "duration": 20,
    "start_time": "2023-04-09T11:33:16.316Z"
   },
   {
    "duration": 7,
    "start_time": "2023-04-09T11:33:16.338Z"
   },
   {
    "duration": 12683,
    "start_time": "2023-04-09T11:33:16.346Z"
   },
   {
    "duration": 13157,
    "start_time": "2023-04-09T11:33:58.097Z"
   },
   {
    "duration": 20,
    "start_time": "2023-04-09T11:43:09.968Z"
   },
   {
    "duration": 3,
    "start_time": "2023-04-09T11:43:14.386Z"
   },
   {
    "duration": 21,
    "start_time": "2023-04-09T11:43:14.939Z"
   },
   {
    "duration": 19,
    "start_time": "2023-04-09T11:43:23.694Z"
   },
   {
    "duration": 4,
    "start_time": "2023-04-09T11:43:24.137Z"
   },
   {
    "duration": 674,
    "start_time": "2023-04-09T11:45:17.302Z"
   },
   {
    "duration": 13303,
    "start_time": "2023-04-09T11:45:20.502Z"
   },
   {
    "duration": 2,
    "start_time": "2023-04-09T11:46:07.280Z"
   },
   {
    "duration": 6,
    "start_time": "2023-04-09T11:46:13.413Z"
   },
   {
    "duration": 1874,
    "start_time": "2023-04-09T11:46:15.194Z"
   },
   {
    "duration": 206,
    "start_time": "2023-04-09T11:46:39.311Z"
   },
   {
    "duration": 5,
    "start_time": "2023-04-09T11:46:56.710Z"
   },
   {
    "duration": 8,
    "start_time": "2023-04-09T11:47:01.021Z"
   },
   {
    "duration": 5,
    "start_time": "2023-04-09T11:47:02.144Z"
   },
   {
    "duration": 109187,
    "start_time": "2023-04-09T11:47:06.058Z"
   },
   {
    "duration": 62,
    "start_time": "2023-04-09T11:49:18.734Z"
   },
   {
    "duration": 2440,
    "start_time": "2023-04-09T11:50:34.198Z"
   },
   {
    "duration": 3,
    "start_time": "2023-04-09T11:50:36.640Z"
   },
   {
    "duration": 2377,
    "start_time": "2023-04-09T11:50:36.781Z"
   },
   {
    "duration": 2505,
    "start_time": "2023-04-09T11:50:39.161Z"
   },
   {
    "duration": 12708,
    "start_time": "2023-04-09T11:50:41.669Z"
   },
   {
    "duration": 2297,
    "start_time": "2023-04-09T11:50:54.379Z"
   },
   {
    "duration": 13,
    "start_time": "2023-04-09T11:50:56.678Z"
   },
   {
    "duration": 15,
    "start_time": "2023-04-09T11:50:56.693Z"
   },
   {
    "duration": 39,
    "start_time": "2023-04-09T11:50:56.710Z"
   },
   {
    "duration": 12,
    "start_time": "2023-04-09T11:50:58.876Z"
   },
   {
    "duration": 11,
    "start_time": "2023-04-09T11:50:59.640Z"
   },
   {
    "duration": 959,
    "start_time": "2023-04-09T11:51:03.673Z"
   },
   {
    "duration": 5,
    "start_time": "2023-04-09T11:51:05.847Z"
   },
   {
    "duration": 4,
    "start_time": "2023-04-09T11:51:08.437Z"
   },
   {
    "duration": 627,
    "start_time": "2023-04-09T11:51:08.778Z"
   },
   {
    "duration": 4,
    "start_time": "2023-04-09T11:51:09.495Z"
   },
   {
    "duration": 4,
    "start_time": "2023-04-09T11:51:10.733Z"
   },
   {
    "duration": 334,
    "start_time": "2023-04-09T11:52:28.825Z"
   },
   {
    "duration": 2,
    "start_time": "2023-04-09T11:52:32.910Z"
   },
   {
    "duration": 4,
    "start_time": "2023-04-09T11:52:34.241Z"
   },
   {
    "duration": 20,
    "start_time": "2023-04-09T11:52:53.672Z"
   },
   {
    "duration": 19,
    "start_time": "2023-04-09T11:53:14.768Z"
   }
  ],
  "kernelspec": {
   "display_name": "Python 3 (ipykernel)",
   "language": "python",
   "name": "python3"
  },
  "language_info": {
   "codemirror_mode": {
    "name": "ipython",
    "version": 3
   },
   "file_extension": ".py",
   "mimetype": "text/x-python",
   "name": "python",
   "nbconvert_exporter": "python",
   "pygments_lexer": "ipython3",
   "version": "3.10.9"
  },
  "toc": {
   "base_numbering": 1,
   "nav_menu": {},
   "number_sections": true,
   "sideBar": true,
   "skip_h1_title": true,
   "title_cell": "Содержание",
   "title_sidebar": "Contents",
   "toc_cell": true,
   "toc_position": {
    "height": "calc(100% - 180px)",
    "left": "10px",
    "top": "150px",
    "width": "302.391px"
   },
   "toc_section_display": true,
   "toc_window_display": true
  }
 },
 "nbformat": 4,
 "nbformat_minor": 2
}
